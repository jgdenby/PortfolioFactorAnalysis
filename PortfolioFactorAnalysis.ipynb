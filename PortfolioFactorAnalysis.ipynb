{
 "cells": [
  {
   "cell_type": "markdown",
   "metadata": {},
   "source": [
    "## Portfolio Factor Analysis"
   ]
  },
  {
   "cell_type": "code",
   "execution_count": 118,
   "metadata": {
    "collapsed": true
   },
   "outputs": [],
   "source": [
    "import numpy as np\n",
    "import pandas as pd\n",
    "from sklearn.decomposition import PCA, KernelPCA\n",
    "from sklearn.manifold import Isomap, SpectralEmbedding\n",
    "from sklearn.linear_model import LinearRegression\n",
    "import seaborn as sns\n",
    "import matplotlib.pyplot as plt\n",
    "%matplotlib inline"
   ]
  },
  {
   "cell_type": "code",
   "execution_count": 61,
   "metadata": {},
   "outputs": [],
   "source": [
    "# Function block\n",
    "\n",
    "### REPRESENTATION LEARNING METHODS\n",
    "def linPCA(train_data, tune_data, n_components):\n",
    "    \"\"\"\n",
    "    Function to apply linear PCA with specified number of components. \n",
    "    Input:\n",
    "        train_data (ndarray): dataset used to fit linear PCA model\n",
    "        tune_data (ndarray): dataset transformed by linear PCA model\n",
    "        n_components (int): hyperparameter specifying number of components\n",
    "    Output:\n",
    "        Z (ndarray): tune_data transformed to PCA subspace\n",
    "    \"\"\"\n",
    "    pca = PCA(n_components=n_components)\n",
    "    pca.fit(train_data)\n",
    "    Z = pca.transform(tune_data)\n",
    "    \n",
    "    return Z\n",
    "\n",
    "def KPCA(train_data, tune_data, n_components, kernel='poly', gamma=None, degree=3):\n",
    "    \"\"\"\n",
    "    Function to apply Kernel PCA with specified number of components. \n",
    "    Input:\n",
    "        train_data (ndarray): dataset used to fit kernel PCA model\n",
    "        tune_data (ndarray): dataset transformed by kernel PCA model\n",
    "        n_components (int): hyperparameter specifying number of components\n",
    "        kernel (str): kernel method; choose from {\"poly\" | \"rbf\" | \"sigmoid\" | \"cosine\"}\n",
    "        gamma (int): gamma coefficient for rbf, poly, and sigmoid kerenels\n",
    "        degree (int): degree of polynomial for poly kernel\n",
    "    Output:\n",
    "        Z (ndarray): tune_data transformed to PCA subspace\n",
    "    \"\"\"\n",
    "    kpca = KernelPCA(n_components=n_components, kernel=kernel, gamma=gamma, degree = degree)\n",
    "    kpca.fit(train_data)\n",
    "    Z = kpca.transform(tune_data)\n",
    "    \n",
    "    return Z\n",
    "\n",
    "def isomap(train_data, tune_data, n_components, n_neighbors):\n",
    "    \"\"\"\n",
    "    Function to apply Isomap with specified number of components. \n",
    "    Input:\n",
    "        train_data (ndarray): dataset used to fit Isomap model\n",
    "        tune_data (ndarray): dataset transformed by Isomap model\n",
    "        n_components (int): hyperparameter specifying number of components\n",
    "        n_neighbors (int): hyperparameter specifying number of neighbors to construct initial mapping\n",
    "    Output:\n",
    "        Z (ndarray): tune_data transformed to subspace\n",
    "    \"\"\"\n",
    "    embedding = Isomap(n_components=n_components, n_neighbors=n_neighbors)\n",
    "    embedding.fit(train_data)\n",
    "    Z = embedding.transform(tune_data)\n",
    "    \n",
    "    return Z\n",
    "\n",
    "def spectral(train_data, n_components, affinity, gamma = None, n_neighbors = None):\n",
    "    \"\"\"\n",
    "    Function to apply SpectralEmbedding with specified number of components. \n",
    "    Input:\n",
    "        train_data (ndarray): dataset used to fit Spectral Embedding model\n",
    "        n_components (int): hyperparameter specifying number of components\n",
    "        affinity (str): designation of affinity matrix; choose from {'nearest_neighbors'|'rbf'|'precomputed'}\n",
    "        gamma(int): coefficient for rbf kernel, if used\n",
    "        n_neighbors (int): hyperparameter specifying number of neighbors to construct knn map, if used\n",
    "\n",
    "    Output:\n",
    "        Z (ndarray): tune_data transformed to subspace\n",
    "    \"\"\"\n",
    "    embedding = SpectralEmbedding(n_components=n_components, n_neighbors=n_neighbors, affinity = affinity, gamma = gamma)\n",
    "    Z= embedding.fit_transform(train_data)\n",
    "    \n",
    "    return Z\n",
    "    \n",
    "    \n",
    "### REGRESSION TEST\n",
    "def LinRegression(X,y,autocor = None):\n",
    "    \"\"\"\n",
    "    Runs simple linear regression on the dataset provided and returns the model's R^2 value.\n",
    "    Input:\n",
    "        X (DataFrame): predictor data\n",
    "        y (DataFrame): outcome data\n",
    "        autocor: number of periods for autocorrelation correction (default = None)\n",
    "    Output:\n",
    "        R^2 value for model (real)\n",
    "    \n",
    "    \"\"\"\n",
    "    if autocor:\n",
    "        for i in range(1,autocor + 1):\n",
    "            X.join(y.shift(i))\n",
    "        X = X.iloc[autocor::,:] # removing the rows that don't have lagged returns\n",
    "        y = y.iloc[autocor::]\n",
    "    reg = LinearRegression().fit(X,y)        \n",
    "    return reg.score(X,y)"
   ]
  },
  {
   "cell_type": "markdown",
   "metadata": {},
   "source": [
    "### Import Data"
   ]
  },
  {
   "cell_type": "markdown",
   "metadata": {},
   "source": [
    "Read in Excel file and specifically import net returns data"
   ]
  },
  {
   "cell_type": "code",
   "execution_count": 78,
   "metadata": {},
   "outputs": [
    {
     "data": {
      "text/plain": [
       "<pandas.io.excel.ExcelFile at 0x1124c7e80>"
      ]
     },
     "execution_count": 78,
     "metadata": {},
     "output_type": "execute_result"
    }
   ],
   "source": []
  },
  {
   "cell_type": "code",
   "execution_count": 79,
   "metadata": {
    "collapsed": true
   },
   "outputs": [],
   "source": [
    "xls=pd.ExcelFile('Simple_Strategies_Returns.xlsx')\n",
    "grossreturns = pd.read_excel(xls, 0)\n",
    "netreturns = pd.read_excel(xls, 1)"
   ]
  },
  {
   "cell_type": "code",
   "execution_count": 81,
   "metadata": {
    "collapsed": true
   },
   "outputs": [],
   "source": [
    "#Keep all data, but get rid of factors with missing data\n",
    "netreturns = netreturns.dropna(axis=1).copy()\n",
    "netreturns['Month'] = pd.to_datetime(netreturns['Month'], format = '%Y%m')\n",
    "netreturns['Month'] = netreturns['Month'].dt.to_period('M')\n",
    "netreturns['Month'] = netreturns['Month'].astype('str')\n",
    "\n",
    "grossreturns = grossreturns.dropna(axis=1).copy()\n",
    "grossreturns['Month'] = pd.to_datetime(grossreturns['Month'], format = '%Y%m')\n",
    "grossreturns['Month'] = grossreturns['Month'].dt.to_period('M')\n",
    "grossreturns['Month'] = grossreturns['Month'].astype('str')"
   ]
  },
  {
   "cell_type": "code",
   "execution_count": 82,
   "metadata": {},
   "outputs": [
    {
     "data": {
      "text/plain": [
       "(606, 25)"
      ]
     },
     "execution_count": 82,
     "metadata": {},
     "output_type": "execute_result"
    }
   ],
   "source": [
    "netreturns.shape"
   ]
  },
  {
   "cell_type": "markdown",
   "metadata": {},
   "source": [
    "Split data into 'new' and 'old' sections:  \n",
    "'Old' section has 120 months of 26 factors  \n",
    "'New' section has 486 months of 34 factors"
   ]
  },
  {
   "cell_type": "code",
   "execution_count": 6,
   "metadata": {
    "collapsed": true
   },
   "outputs": [],
   "source": [
    "# oldnetreturns = netreturns[netreturns.Month < 197307]\n",
    "# oldnetreturns = oldnetreturns.reset_index(drop=True)\n",
    "# oldnetreturns = oldnetreturns.dropna(axis=1)\n",
    "# oldnetreturns['Month'] = pd.to_datetime(oldnetreturns['Month'], format = '%Y%m')\n",
    "# oldnetreturns['Month'] = oldnetreturns['Month'].dt.to_period('M')\n",
    "# oldnetreturns['Month'] = oldnetreturns['Month'].astype('str')"
   ]
  },
  {
   "cell_type": "code",
   "execution_count": 7,
   "metadata": {
    "collapsed": true
   },
   "outputs": [],
   "source": [
    "# newnetreturns = netreturns[netreturns.Month >= 197307]\n",
    "# newnetreturns = newnetreturns.reset_index(drop=True)\n",
    "# newnetreturns['Month'] = pd.to_datetime(newnetreturns['Month'], format = '%Y%m')\n",
    "# newnetreturns['Month'] = newnetreturns['Month'].dt.to_period('M')\n",
    "# newnetreturns['Month'] = newnetreturns['Month'].astype('str')"
   ]
  },
  {
   "cell_type": "markdown",
   "metadata": {},
   "source": [
    "Fama-French Data"
   ]
  },
  {
   "cell_type": "code",
   "execution_count": 8,
   "metadata": {
    "collapsed": true
   },
   "outputs": [],
   "source": [
    "portfolios25 = pd.read_csv('25_Portfolios_5x5.CSV')\n",
    "portfolios6 =pd.read_csv('6_Portfolios_2x3.CSV')"
   ]
  },
  {
   "cell_type": "code",
   "execution_count": 9,
   "metadata": {
    "collapsed": true
   },
   "outputs": [],
   "source": [
    "portfolios25.reset_index(inplace=True)"
   ]
  },
  {
   "cell_type": "code",
   "execution_count": 10,
   "metadata": {
    "collapsed": true
   },
   "outputs": [],
   "source": [
    "portfolios6['Month'] = pd.to_datetime(portfolios6['Month'], format = '%Y%m')\n",
    "portfolios6['Month'] = portfolios6['Month'].dt.to_period('M')\n",
    "portfolios6['Month'] = portfolios6['Month'].astype('str')"
   ]
  },
  {
   "cell_type": "code",
   "execution_count": 11,
   "metadata": {},
   "outputs": [
    {
     "data": {
      "text/html": [
       "<div>\n",
       "<style scoped>\n",
       "    .dataframe tbody tr th:only-of-type {\n",
       "        vertical-align: middle;\n",
       "    }\n",
       "\n",
       "    .dataframe tbody tr th {\n",
       "        vertical-align: top;\n",
       "    }\n",
       "\n",
       "    .dataframe thead th {\n",
       "        text-align: right;\n",
       "    }\n",
       "</style>\n",
       "<table border=\"1\" class=\"dataframe\">\n",
       "  <thead>\n",
       "    <tr style=\"text-align: right;\">\n",
       "      <th></th>\n",
       "      <th>Month</th>\n",
       "      <th>SMALL LoBM</th>\n",
       "      <th>ME1 BM2</th>\n",
       "      <th>SMALL HiBM</th>\n",
       "      <th>BIG LoBM</th>\n",
       "      <th>ME2 BM2</th>\n",
       "      <th>BIG HiBM</th>\n",
       "    </tr>\n",
       "  </thead>\n",
       "  <tbody>\n",
       "    <tr>\n",
       "      <th>0</th>\n",
       "      <td>1926-07</td>\n",
       "      <td>1.3724</td>\n",
       "      <td>0.9081</td>\n",
       "      <td>-0.0695</td>\n",
       "      <td>5.7168</td>\n",
       "      <td>1.9642</td>\n",
       "      <td>1.4222</td>\n",
       "    </tr>\n",
       "    <tr>\n",
       "      <th>1</th>\n",
       "      <td>1926-08</td>\n",
       "      <td>0.6095</td>\n",
       "      <td>1.5075</td>\n",
       "      <td>5.3842</td>\n",
       "      <td>2.7154</td>\n",
       "      <td>2.6838</td>\n",
       "      <td>6.3154</td>\n",
       "    </tr>\n",
       "    <tr>\n",
       "      <th>2</th>\n",
       "      <td>1926-09</td>\n",
       "      <td>-2.6779</td>\n",
       "      <td>-0.1359</td>\n",
       "      <td>-0.4374</td>\n",
       "      <td>1.4287</td>\n",
       "      <td>0.0709</td>\n",
       "      <td>-0.7967</td>\n",
       "    </tr>\n",
       "    <tr>\n",
       "      <th>3</th>\n",
       "      <td>1926-10</td>\n",
       "      <td>-3.5365</td>\n",
       "      <td>-4.3572</td>\n",
       "      <td>-2.0112</td>\n",
       "      <td>-3.5898</td>\n",
       "      <td>-2.3460</td>\n",
       "      <td>-4.0970</td>\n",
       "    </tr>\n",
       "    <tr>\n",
       "      <th>4</th>\n",
       "      <td>1926-11</td>\n",
       "      <td>3.1210</td>\n",
       "      <td>3.6608</td>\n",
       "      <td>2.0944</td>\n",
       "      <td>3.1292</td>\n",
       "      <td>2.8965</td>\n",
       "      <td>3.4614</td>\n",
       "    </tr>\n",
       "  </tbody>\n",
       "</table>\n",
       "</div>"
      ],
      "text/plain": [
       "     Month  SMALL LoBM  ME1 BM2  SMALL HiBM  BIG LoBM  ME2 BM2  BIG HiBM\n",
       "0  1926-07      1.3724   0.9081     -0.0695    5.7168   1.9642    1.4222\n",
       "1  1926-08      0.6095   1.5075      5.3842    2.7154   2.6838    6.3154\n",
       "2  1926-09     -2.6779  -0.1359     -0.4374    1.4287   0.0709   -0.7967\n",
       "3  1926-10     -3.5365  -4.3572     -2.0112   -3.5898  -2.3460   -4.0970\n",
       "4  1926-11      3.1210   3.6608      2.0944    3.1292   2.8965    3.4614"
      ]
     },
     "execution_count": 11,
     "metadata": {},
     "output_type": "execute_result"
    }
   ],
   "source": [
    "portfolios6.head()"
   ]
  },
  {
   "cell_type": "code",
   "execution_count": 12,
   "metadata": {
    "collapsed": true
   },
   "outputs": [],
   "source": [
    "ff_5 = pd.read_csv('FF_5_Factors')"
   ]
  },
  {
   "cell_type": "code",
   "execution_count": 13,
   "metadata": {
    "collapsed": true
   },
   "outputs": [],
   "source": [
    "ff_5_monthly = ff_5.loc[:665,].copy()"
   ]
  },
  {
   "cell_type": "code",
   "execution_count": 14,
   "metadata": {
    "collapsed": true
   },
   "outputs": [],
   "source": [
    "# ff_5_yearly = ff_5.loc[668:,]\n",
    "# ff_5_yearly.reset_index(inplace=True, drop=True)\n",
    "# ff_5_yearly.rename(columns={\"Month\":\"Year\"}, inplace=True)"
   ]
  },
  {
   "cell_type": "code",
   "execution_count": 15,
   "metadata": {
    "collapsed": true
   },
   "outputs": [],
   "source": [
    "ff_5_monthly['Month'] = pd.to_datetime(ff_5_monthly['Month'], format = '%Y%m')\n",
    "ff_5_monthly['Month'] = ff_5_monthly['Month'].dt.to_period('M')\n",
    "ff_5_monthly['Month'] = ff_5_monthly['Month'].astype('str')"
   ]
  },
  {
   "cell_type": "markdown",
   "metadata": {},
   "source": [
    "Company Stock Data"
   ]
  },
  {
   "cell_type": "code",
   "execution_count": 16,
   "metadata": {
    "collapsed": true
   },
   "outputs": [],
   "source": [
    "stocks = pd.read_csv('Company Stock Data.csv')\n",
    "stocks = stocks.drop('company', axis = 1)\n",
    "stocks['date'] = pd.to_datetime(stocks['date'], format = '%m/%d/%Y')\n",
    "stocks['date'] = stocks['date'].dt.to_period('M')\n",
    "stocks['date'] = stocks['date'].astype('str')\n",
    "stocks = stocks.pivot(index='date', columns='ticker', values='return')\n",
    "stocks.reset_index(inplace=True, drop = True)"
   ]
  },
  {
   "cell_type": "code",
   "execution_count": 17,
   "metadata": {},
   "outputs": [
    {
     "data": {
      "text/html": [
       "<div>\n",
       "<style scoped>\n",
       "    .dataframe tbody tr th:only-of-type {\n",
       "        vertical-align: middle;\n",
       "    }\n",
       "\n",
       "    .dataframe tbody tr th {\n",
       "        vertical-align: top;\n",
       "    }\n",
       "\n",
       "    .dataframe thead th {\n",
       "        text-align: right;\n",
       "    }\n",
       "</style>\n",
       "<table border=\"1\" class=\"dataframe\">\n",
       "  <thead>\n",
       "    <tr style=\"text-align: right;\">\n",
       "      <th>ticker</th>\n",
       "      <th>IBM</th>\n",
       "      <th>MMM</th>\n",
       "      <th>PG</th>\n",
       "      <th>UTX</th>\n",
       "      <th>XOM</th>\n",
       "    </tr>\n",
       "  </thead>\n",
       "  <tbody>\n",
       "    <tr>\n",
       "      <th>0</th>\n",
       "      <td>-0.004011</td>\n",
       "      <td>0.039387</td>\n",
       "      <td>-0.027723</td>\n",
       "      <td>-0.038043</td>\n",
       "      <td>0.025594</td>\n",
       "    </tr>\n",
       "    <tr>\n",
       "      <th>1</th>\n",
       "      <td>0.025892</td>\n",
       "      <td>0.064842</td>\n",
       "      <td>0.075085</td>\n",
       "      <td>0.038960</td>\n",
       "      <td>0.028877</td>\n",
       "    </tr>\n",
       "    <tr>\n",
       "      <th>2</th>\n",
       "      <td>0.016301</td>\n",
       "      <td>-0.031746</td>\n",
       "      <td>0.003175</td>\n",
       "      <td>-0.055556</td>\n",
       "      <td>-0.041958</td>\n",
       "    </tr>\n",
       "    <tr>\n",
       "      <th>3</th>\n",
       "      <td>0.092920</td>\n",
       "      <td>0.088115</td>\n",
       "      <td>0.008228</td>\n",
       "      <td>-0.011765</td>\n",
       "      <td>0.036496</td>\n",
       "    </tr>\n",
       "    <tr>\n",
       "      <th>4</th>\n",
       "      <td>-0.015182</td>\n",
       "      <td>-0.009793</td>\n",
       "      <td>0.000000</td>\n",
       "      <td>0.107143</td>\n",
       "      <td>0.011268</td>\n",
       "    </tr>\n",
       "  </tbody>\n",
       "</table>\n",
       "</div>"
      ],
      "text/plain": [
       "ticker       IBM       MMM        PG       UTX       XOM\n",
       "0      -0.004011  0.039387 -0.027723 -0.038043  0.025594\n",
       "1       0.025892  0.064842  0.075085  0.038960  0.028877\n",
       "2       0.016301 -0.031746  0.003175 -0.055556 -0.041958\n",
       "3       0.092920  0.088115  0.008228 -0.011765  0.036496\n",
       "4      -0.015182 -0.009793  0.000000  0.107143  0.011268"
      ]
     },
     "execution_count": 17,
     "metadata": {},
     "output_type": "execute_result"
    }
   ],
   "source": [
    "stocks.head()"
   ]
  },
  {
   "cell_type": "markdown",
   "metadata": {},
   "source": [
    "TODO:  \n",
    "- Import S&P 500 returns [__DONE__]  \n",
    "- Import Fama-French data [__DONE__]\n",
    "- Build dimensionality reduction pipeline (to try different methods) [__DONE__]\n",
    "- Build supervised learning pipeline [__DONE__]\n",
    "- Proper timeseries regression [__DONE__]\n",
    "- Tune hyperparameters in sample \n",
    "- Try all stocks\n",
    "- Train/dev/test split\n"
   ]
  },
  {
   "cell_type": "code",
   "execution_count": 18,
   "metadata": {
    "collapsed": true
   },
   "outputs": [],
   "source": [
    "spx = pd.read_csv('CRSP SPX Index File.csv')\n",
    "spx['caldt'] = pd.to_datetime(spx['caldt'], format = '%Y%m%d')\n",
    "spx['caldt'] = spx.caldt.dt.to_period('M')\n",
    "spx['caldt'] = spx['caldt'].astype('str')\n",
    "spx = spx[(spx['caldt'] <= '2013-12')]"
   ]
  },
  {
   "cell_type": "code",
   "execution_count": 19,
   "metadata": {
    "collapsed": true
   },
   "outputs": [],
   "source": [
    "spx_tr = spx.iloc[:,0:2] #SPX Total Return\n",
    "spx_pr = spx.iloc[:,[0,2]] #SPX Price Return\n",
    "spx_tr.reset_index(inplace = True, drop = True) \n",
    "spx_pr.reset_index(inplace = True, drop = True)"
   ]
  },
  {
   "cell_type": "code",
   "execution_count": 20,
   "metadata": {
    "collapsed": true
   },
   "outputs": [],
   "source": [
    "# collects net return data, FF 5 factors, and S&P returns in one dataframe\n",
    "together_df = netreturns.merge(portfolios6, left_on='Month',right_on='Month').merge(ff_5_monthly, left_on='Month',right_on='Month')"
   ]
  },
  {
   "cell_type": "code",
   "execution_count": 21,
   "metadata": {},
   "outputs": [
    {
     "data": {
      "text/html": [
       "<div>\n",
       "<style scoped>\n",
       "    .dataframe tbody tr th:only-of-type {\n",
       "        vertical-align: middle;\n",
       "    }\n",
       "\n",
       "    .dataframe tbody tr th {\n",
       "        vertical-align: top;\n",
       "    }\n",
       "\n",
       "    .dataframe thead th {\n",
       "        text-align: right;\n",
       "    }\n",
       "</style>\n",
       "<table border=\"1\" class=\"dataframe\">\n",
       "  <thead>\n",
       "    <tr style=\"text-align: right;\">\n",
       "      <th></th>\n",
       "      <th>Month</th>\n",
       "      <th>Size</th>\n",
       "      <th>Gross Profitability</th>\n",
       "      <th>Value</th>\n",
       "      <th>ValProf</th>\n",
       "      <th>Accruals</th>\n",
       "      <th>Net Issuance (rebal.:A)</th>\n",
       "      <th>Asset Growth</th>\n",
       "      <th>Investment</th>\n",
       "      <th>Piotroski's F-score</th>\n",
       "      <th>...</th>\n",
       "      <th>SMALL HiBM</th>\n",
       "      <th>BIG LoBM</th>\n",
       "      <th>ME2 BM2</th>\n",
       "      <th>BIG HiBM</th>\n",
       "      <th>Mkt-RF</th>\n",
       "      <th>SMB</th>\n",
       "      <th>HML</th>\n",
       "      <th>RMW</th>\n",
       "      <th>CMA</th>\n",
       "      <th>RF</th>\n",
       "    </tr>\n",
       "  </thead>\n",
       "  <tbody>\n",
       "    <tr>\n",
       "      <th>0</th>\n",
       "      <td>1963-07</td>\n",
       "      <td>-0.633410</td>\n",
       "      <td>-1.635407</td>\n",
       "      <td>-2.726409</td>\n",
       "      <td>-1.690123</td>\n",
       "      <td>1.959792</td>\n",
       "      <td>2.992479</td>\n",
       "      <td>-1.384890</td>\n",
       "      <td>-3.240626</td>\n",
       "      <td>1.198153</td>\n",
       "      <td>...</td>\n",
       "      <td>-1.1591</td>\n",
       "      <td>-0.0296</td>\n",
       "      <td>0.4589</td>\n",
       "      <td>-1.5991</td>\n",
       "      <td>-0.39</td>\n",
       "      <td>-0.47</td>\n",
       "      <td>-0.83</td>\n",
       "      <td>0.66</td>\n",
       "      <td>-1.15</td>\n",
       "      <td>0.27</td>\n",
       "    </tr>\n",
       "    <tr>\n",
       "      <th>1</th>\n",
       "      <td>1963-08</td>\n",
       "      <td>-2.526682</td>\n",
       "      <td>2.418348</td>\n",
       "      <td>1.576539</td>\n",
       "      <td>0.455624</td>\n",
       "      <td>-1.563703</td>\n",
       "      <td>-1.844691</td>\n",
       "      <td>-1.914710</td>\n",
       "      <td>4.503954</td>\n",
       "      <td>-1.433401</td>\n",
       "      <td>...</td>\n",
       "      <td>5.7608</td>\n",
       "      <td>5.3950</td>\n",
       "      <td>4.6761</td>\n",
       "      <td>7.4206</td>\n",
       "      <td>5.07</td>\n",
       "      <td>-0.79</td>\n",
       "      <td>1.67</td>\n",
       "      <td>0.39</td>\n",
       "      <td>-0.40</td>\n",
       "      <td>0.25</td>\n",
       "    </tr>\n",
       "    <tr>\n",
       "      <th>2</th>\n",
       "      <td>1963-09</td>\n",
       "      <td>0.819609</td>\n",
       "      <td>0.779151</td>\n",
       "      <td>-1.268680</td>\n",
       "      <td>2.072555</td>\n",
       "      <td>-2.173126</td>\n",
       "      <td>-0.756282</td>\n",
       "      <td>-2.203093</td>\n",
       "      <td>6.016384</td>\n",
       "      <td>-2.547664</td>\n",
       "      <td>...</td>\n",
       "      <td>-1.9386</td>\n",
       "      <td>-1.0517</td>\n",
       "      <td>-1.7246</td>\n",
       "      <td>-1.8235</td>\n",
       "      <td>-1.57</td>\n",
       "      <td>-0.48</td>\n",
       "      <td>0.18</td>\n",
       "      <td>-0.76</td>\n",
       "      <td>0.24</td>\n",
       "      <td>0.27</td>\n",
       "    </tr>\n",
       "    <tr>\n",
       "      <th>3</th>\n",
       "      <td>1963-10</td>\n",
       "      <td>-3.000215</td>\n",
       "      <td>1.445213</td>\n",
       "      <td>-3.422705</td>\n",
       "      <td>2.559109</td>\n",
       "      <td>10.870540</td>\n",
       "      <td>-0.660985</td>\n",
       "      <td>0.746974</td>\n",
       "      <td>3.599053</td>\n",
       "      <td>1.659890</td>\n",
       "      <td>...</td>\n",
       "      <td>2.6987</td>\n",
       "      <td>3.8542</td>\n",
       "      <td>1.2362</td>\n",
       "      <td>2.1259</td>\n",
       "      <td>2.53</td>\n",
       "      <td>-1.29</td>\n",
       "      <td>-0.10</td>\n",
       "      <td>2.75</td>\n",
       "      <td>-2.24</td>\n",
       "      <td>0.29</td>\n",
       "    </tr>\n",
       "    <tr>\n",
       "      <th>4</th>\n",
       "      <td>1963-11</td>\n",
       "      <td>-1.558811</td>\n",
       "      <td>-1.158534</td>\n",
       "      <td>0.779921</td>\n",
       "      <td>0.877660</td>\n",
       "      <td>-3.211279</td>\n",
       "      <td>-0.204558</td>\n",
       "      <td>3.671321</td>\n",
       "      <td>-1.514076</td>\n",
       "      <td>1.229205</td>\n",
       "      <td>...</td>\n",
       "      <td>-0.3295</td>\n",
       "      <td>-0.2497</td>\n",
       "      <td>-1.4575</td>\n",
       "      <td>0.6373</td>\n",
       "      <td>-0.85</td>\n",
       "      <td>-0.84</td>\n",
       "      <td>1.71</td>\n",
       "      <td>-0.45</td>\n",
       "      <td>2.22</td>\n",
       "      <td>0.27</td>\n",
       "    </tr>\n",
       "  </tbody>\n",
       "</table>\n",
       "<p>5 rows × 37 columns</p>\n",
       "</div>"
      ],
      "text/plain": [
       "     Month      Size  Gross Profitability     Value   ValProf   Accruals  \\\n",
       "0  1963-07 -0.633410            -1.635407 -2.726409 -1.690123   1.959792   \n",
       "1  1963-08 -2.526682             2.418348  1.576539  0.455624  -1.563703   \n",
       "2  1963-09  0.819609             0.779151 -1.268680  2.072555  -2.173126   \n",
       "3  1963-10 -3.000215             1.445213 -3.422705  2.559109  10.870540   \n",
       "4  1963-11 -1.558811            -1.158534  0.779921  0.877660  -3.211279   \n",
       "\n",
       "   Net Issuance (rebal.:A)  Asset Growth  Investment  Piotroski's F-score  \\\n",
       "0                 2.992479     -1.384890   -3.240626             1.198153   \n",
       "1                -1.844691     -1.914710    4.503954            -1.433401   \n",
       "2                -0.756282     -2.203093    6.016384            -2.547664   \n",
       "3                -0.660985      0.746974    3.599053             1.659890   \n",
       "4                -0.204558      3.671321   -1.514076             1.229205   \n",
       "\n",
       "     ...     SMALL HiBM  BIG LoBM  ME2 BM2  BIG HiBM    Mkt-RF       SMB  \\\n",
       "0    ...        -1.1591   -0.0296   0.4589   -1.5991     -0.39     -0.47   \n",
       "1    ...         5.7608    5.3950   4.6761    7.4206      5.07     -0.79   \n",
       "2    ...        -1.9386   -1.0517  -1.7246   -1.8235     -1.57     -0.48   \n",
       "3    ...         2.6987    3.8542   1.2362    2.1259      2.53     -1.29   \n",
       "4    ...        -0.3295   -0.2497  -1.4575    0.6373     -0.85     -0.84   \n",
       "\n",
       "        HML       RMW       CMA        RF  \n",
       "0     -0.83      0.66     -1.15      0.27  \n",
       "1      1.67      0.39     -0.40      0.25  \n",
       "2      0.18     -0.76      0.24      0.27  \n",
       "3     -0.10      2.75     -2.24      0.29  \n",
       "4      1.71     -0.45      2.22      0.27  \n",
       "\n",
       "[5 rows x 37 columns]"
      ]
     },
     "execution_count": 21,
     "metadata": {},
     "output_type": "execute_result"
    }
   ],
   "source": [
    "together_df.head()"
   ]
  },
  {
   "cell_type": "markdown",
   "metadata": {},
   "source": [
    "### Rep. Learning and Evaluation"
   ]
  },
  {
   "cell_type": "code",
   "execution_count": 28,
   "metadata": {},
   "outputs": [
    {
     "data": {
      "text/html": [
       "<div>\n",
       "<style scoped>\n",
       "    .dataframe tbody tr th:only-of-type {\n",
       "        vertical-align: middle;\n",
       "    }\n",
       "\n",
       "    .dataframe tbody tr th {\n",
       "        vertical-align: top;\n",
       "    }\n",
       "\n",
       "    .dataframe thead th {\n",
       "        text-align: right;\n",
       "    }\n",
       "</style>\n",
       "<table border=\"1\" class=\"dataframe\">\n",
       "  <thead>\n",
       "    <tr style=\"text-align: right;\">\n",
       "      <th>ticker</th>\n",
       "      <th>IBM</th>\n",
       "      <th>MMM</th>\n",
       "      <th>PG</th>\n",
       "      <th>UTX</th>\n",
       "      <th>XOM</th>\n",
       "    </tr>\n",
       "  </thead>\n",
       "  <tbody>\n",
       "    <tr>\n",
       "      <th>0</th>\n",
       "      <td>-0.004011</td>\n",
       "      <td>0.039387</td>\n",
       "      <td>-0.027723</td>\n",
       "      <td>-0.038043</td>\n",
       "      <td>0.025594</td>\n",
       "    </tr>\n",
       "    <tr>\n",
       "      <th>1</th>\n",
       "      <td>0.025892</td>\n",
       "      <td>0.064842</td>\n",
       "      <td>0.075085</td>\n",
       "      <td>0.038960</td>\n",
       "      <td>0.028877</td>\n",
       "    </tr>\n",
       "    <tr>\n",
       "      <th>2</th>\n",
       "      <td>0.016301</td>\n",
       "      <td>-0.031746</td>\n",
       "      <td>0.003175</td>\n",
       "      <td>-0.055556</td>\n",
       "      <td>-0.041958</td>\n",
       "    </tr>\n",
       "    <tr>\n",
       "      <th>3</th>\n",
       "      <td>0.092920</td>\n",
       "      <td>0.088115</td>\n",
       "      <td>0.008228</td>\n",
       "      <td>-0.011765</td>\n",
       "      <td>0.036496</td>\n",
       "    </tr>\n",
       "    <tr>\n",
       "      <th>4</th>\n",
       "      <td>-0.015182</td>\n",
       "      <td>-0.009793</td>\n",
       "      <td>0.000000</td>\n",
       "      <td>0.107143</td>\n",
       "      <td>0.011268</td>\n",
       "    </tr>\n",
       "  </tbody>\n",
       "</table>\n",
       "</div>"
      ],
      "text/plain": [
       "ticker       IBM       MMM        PG       UTX       XOM\n",
       "0      -0.004011  0.039387 -0.027723 -0.038043  0.025594\n",
       "1       0.025892  0.064842  0.075085  0.038960  0.028877\n",
       "2       0.016301 -0.031746  0.003175 -0.055556 -0.041958\n",
       "3       0.092920  0.088115  0.008228 -0.011765  0.036496\n",
       "4      -0.015182 -0.009793  0.000000  0.107143  0.011268"
      ]
     },
     "execution_count": 28,
     "metadata": {},
     "output_type": "execute_result"
    }
   ],
   "source": [
    "stocks.head()"
   ]
  },
  {
   "cell_type": "code",
   "execution_count": 83,
   "metadata": {
    "collapsed": true
   },
   "outputs": [],
   "source": [
    "# Net/gross returns dataset\n",
    "# X_train = netreturns.drop(\"Month\", axis=1)\n",
    "X_train = grossreturns.drop(\"Month\", axis=1)\n",
    "\n",
    "\n",
    "# Fama-French 3 and 5 factor dataset\n",
    "X_ff5 = together_df[['SMB','HML','RMW','CMA',\"Mkt-RF\"]]\n",
    "X_ff3 = together_df[['SMB','HML','Mkt-RF']]\n",
    "\n",
    "# Research Portfolio Returns\n",
    "# y = together_df[['SMALL LoBM']]\n",
    "y = stocks[['XOM']]"
   ]
  },
  {
   "cell_type": "markdown",
   "metadata": {},
   "source": [
    "Fama-French 3 Factors"
   ]
  },
  {
   "cell_type": "code",
   "execution_count": 84,
   "metadata": {
    "scrolled": true
   },
   "outputs": [
    {
     "data": {
      "text/plain": [
       "0.35509302224069583"
      ]
     },
     "execution_count": 84,
     "metadata": {},
     "output_type": "execute_result"
    }
   ],
   "source": [
    "LinRegression(X_ff3, y)"
   ]
  },
  {
   "cell_type": "markdown",
   "metadata": {},
   "source": [
    "Fama-French 5 Factors"
   ]
  },
  {
   "cell_type": "code",
   "execution_count": 85,
   "metadata": {},
   "outputs": [
    {
     "data": {
      "text/plain": [
       "0.37074207162865896"
      ]
     },
     "execution_count": 85,
     "metadata": {},
     "output_type": "execute_result"
    }
   ],
   "source": [
    "LinRegression(X_ff5, y)"
   ]
  },
  {
   "cell_type": "markdown",
   "metadata": {},
   "source": [
    "Linear PCA"
   ]
  },
  {
   "cell_type": "code",
   "execution_count": 100,
   "metadata": {},
   "outputs": [
    {
     "data": {
      "text/plain": [
       "0.04671838477276502"
      ]
     },
     "execution_count": 100,
     "metadata": {},
     "output_type": "execute_result"
    }
   ],
   "source": [
    "k = 5\n",
    "linpcaZ = pd.DataFrame(linPCA(X_train, X_train, n_components=k))\n",
    "LinRegression(linpcaZ, y, autocor = 2)"
   ]
  },
  {
   "cell_type": "code",
   "execution_count": 116,
   "metadata": {},
   "outputs": [],
   "source": [
    "r_2 = np.zeros(24)\n",
    "for i in range(1, 25):\n",
    "    k=i\n",
    "    linpcaZ = pd.DataFrame(linPCA(X_train, X_train, n_components=k))\n",
    "    r_2[i-1]=LinRegression(linpcaZ, y, autocor = 2)\n",
    "r_2 = pd.DataFrame(r_2, columns=['r^2'])\n",
    "r_2['k'] = range(1,25)"
   ]
  },
  {
   "cell_type": "code",
   "execution_count": 119,
   "metadata": {},
   "outputs": [
    {
     "data": {
      "text/plain": [
       "<matplotlib.axes._subplots.AxesSubplot at 0x1172e58d0>"
      ]
     },
     "execution_count": 119,
     "metadata": {},
     "output_type": "execute_result"
    },
    {
     "data": {
      "image/png": "[encoded data removed]",
      "text/plain": [
       "<matplotlib.figure.Figure at 0x116173da0>"
      ]
     },
     "metadata": {},
     "output_type": "display_data"
    }
   ],
   "source": [
    "sns.lineplot(x='k',y='r^2',data=r_2)"
   ]
  },
  {
   "cell_type": "markdown",
   "metadata": {},
   "source": [
    "Kernel PCA"
   ]
  },
  {
   "cell_type": "code",
   "execution_count": 127,
   "metadata": {},
   "outputs": [
    {
     "data": {
      "text/plain": [
       "0.07641102184948123"
      ]
     },
     "execution_count": 127,
     "metadata": {},
     "output_type": "execute_result"
    }
   ],
   "source": [
    "# Polynomial kernel\n",
    "k = 24\n",
    "gamma = 1\n",
    "degree = 2\n",
    "poly_kpcaZ = pd.DataFrame(KPCA(X_train, X_train, n_components=k, kernel='poly', gamma = gamma, degree=degree))\n",
    "LinRegression(poly_kpcaZ, y)"
   ]
  },
  {
   "cell_type": "code",
   "execution_count": 128,
   "metadata": {},
   "outputs": [
    {
     "data": {
      "text/plain": [
       "0.03012646559657173"
      ]
     },
     "execution_count": 128,
     "metadata": {},
     "output_type": "execute_result"
    }
   ],
   "source": [
    "# RBF Kernel\n",
    "k = 24\n",
    "gamma = 3\n",
    "rbf_kpcaZ = pd.DataFrame(KPCA(X_train, X_train, n_components=k, kernel='rbf', gamma = gamma))\n",
    "LinRegression(rbf_kpcaZ, y)"
   ]
  },
  {
   "cell_type": "markdown",
   "metadata": {},
   "source": [
    "Isomap"
   ]
  },
  {
   "cell_type": "code",
   "execution_count": 143,
   "metadata": {},
   "outputs": [
    {
     "data": {
      "text/plain": [
       "0.07786933763125303"
      ]
     },
     "execution_count": 143,
     "metadata": {},
     "output_type": "execute_result"
    }
   ],
   "source": [
    "k_comp = 5\n",
    "k_nn = 10\n",
    "isomapZ = pd.DataFrame(isomap(X_train, X_train, n_components=k_comp, n_neighbors=k_nn))\n",
    "LinRegression(isomapZ, y)"
   ]
  },
  {
   "cell_type": "markdown",
   "metadata": {
    "collapsed": true
   },
   "source": [
    "Spectral Embedding"
   ]
  },
  {
   "cell_type": "code",
   "execution_count": 91,
   "metadata": {},
   "outputs": [
    {
     "data": {
      "text/plain": [
       "0.08003289094716437"
      ]
     },
     "execution_count": 91,
     "metadata": {},
     "output_type": "execute_result"
    }
   ],
   "source": [
    "k_comp = 24\n",
    "k_nn = 6\n",
    "affinity = 'nearest_neighbors'\n",
    "spectralZ = pd.DataFrame(spectral(X_train, n_components=k_comp, n_neighbors=k_nn, affinity=affinity))\n",
    "LinRegression(spectralZ, y)"
   ]
  },
  {
   "cell_type": "code",
   "execution_count": null,
   "metadata": {
    "collapsed": true
   },
   "outputs": [],
   "source": []
  }
 ],
 "metadata": {
  "kernelspec": {
   "display_name": "Python 3",
   "language": "python",
   "name": "python3"
  },
  "language_info": {
   "codemirror_mode": {
    "name": "ipython",
    "version": 3
   },
   "file_extension": ".py",
   "mimetype": "text/x-python",
   "name": "python",
   "nbconvert_exporter": "python",
   "pygments_lexer": "ipython3",
   "version": "3.6.1"
  }
 },
 "nbformat": 4,
 "nbformat_minor": 2
}
