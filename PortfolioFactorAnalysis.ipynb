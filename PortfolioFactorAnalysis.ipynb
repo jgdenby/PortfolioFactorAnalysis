{
 "cells": [
  {
   "cell_type": "markdown",
   "metadata": {},
   "source": [
    "## Portfolio Factor Analysis"
   ]
  },
  {
   "cell_type": "code",
   "execution_count": 1,
   "metadata": {
    "collapsed": true
   },
   "outputs": [],
   "source": [
    "import numpy as np\n",
    "import pandas as pd\n",
    "from sklearn.decomposition import PCA, KernelPCA\n",
    "from sklearn.manifold import Isomap"
   ]
  },
  {
   "cell_type": "markdown",
   "metadata": {},
   "source": [
    "### Import Data"
   ]
  },
  {
   "cell_type": "markdown",
   "metadata": {},
   "source": [
    "Read in Excel file and specifically import net returns data"
   ]
  },
  {
   "cell_type": "code",
   "execution_count": 2,
   "metadata": {
    "collapsed": true
   },
   "outputs": [],
   "source": [
    "xls=pd.ExcelFile('Simple_Strategies_Returns.xlsx')\n",
    "netreturns = pd.read_excel(xls, 1)"
   ]
  },
  {
   "cell_type": "markdown",
   "metadata": {},
   "source": [
    "Split data into 'new' and 'old' sections:  \n",
    "'Old' section has 120 months of 26 factors  \n",
    "'New' section has 486 months of 34 factors"
   ]
  },
  {
   "cell_type": "code",
   "execution_count": 3,
   "metadata": {},
   "outputs": [
    {
     "data": {
      "text/plain": [
       "(120, 25)"
      ]
     },
     "execution_count": 3,
     "metadata": {},
     "output_type": "execute_result"
    }
   ],
   "source": [
    "oldnetreturns = netreturns[netreturns.Month < 197307]\n",
    "oldnetreturns = oldnetreturns.reset_index(drop=True)\n",
    "oldnetreturns = oldnetreturns.dropna(axis=1)\n",
    "oldnetreturns.shape"
   ]
  },
  {
   "cell_type": "code",
   "execution_count": 4,
   "metadata": {},
   "outputs": [
    {
     "data": {
      "text/plain": [
       "(486, 33)"
      ]
     },
     "execution_count": 4,
     "metadata": {},
     "output_type": "execute_result"
    }
   ],
   "source": [
    "newnetreturns = netreturns[netreturns.Month >= 197307]\n",
    "newnetreturns = newnetreturns.reset_index(drop=True)\n",
    "newnetreturns.shape"
   ]
  },
  {
   "cell_type": "markdown",
   "metadata": {},
   "source": [
    "Fama-French Data"
   ]
  },
  {
   "cell_type": "code",
   "execution_count": 5,
   "metadata": {
    "collapsed": true
   },
   "outputs": [],
   "source": [
    "ff_3 = pd.read_csv('FF_3_Factors')"
   ]
  },
  {
   "cell_type": "code",
   "execution_count": 6,
   "metadata": {},
   "outputs": [],
   "source": [
    "ff_3_monthly = ff_3.iloc[:1110,]"
   ]
  },
  {
   "cell_type": "code",
   "execution_count": 11,
   "metadata": {
    "collapsed": true
   },
   "outputs": [],
   "source": [
    "ff_3_yearly = ff_3.loc[1112:,]\n",
    "ff_3_yearly.drop(1204, inplace=True)\n",
    "ff_3_yearly.reset_index(inplace=True, drop=True)\n",
    "ff_3_yearly.rename(columns={\"Month\":\"Year\"}, inplace=True)"
   ]
  },
  {
   "cell_type": "code",
   "execution_count": 12,
   "metadata": {
    "collapsed": true
   },
   "outputs": [],
   "source": [
    "ff_5 = pd.read_csv('FF_5_Factors')"
   ]
  },
  {
   "cell_type": "code",
   "execution_count": 13,
   "metadata": {
    "collapsed": true
   },
   "outputs": [],
   "source": [
    "ff_5_monthly = ff_5.loc[:666,]"
   ]
  },
  {
   "cell_type": "code",
   "execution_count": 14,
   "metadata": {
    "collapsed": true
   },
   "outputs": [],
   "source": [
    "ff_5_yearly = ff_5.loc[668:,]\n",
    "ff_5_yearly.reset_index(inplace=True, drop=True)\n",
    "ff_5_yearly.rename(columns={\"Month\":\"Year\"}, inplace=True)"
   ]
  },
  {
   "cell_type": "markdown",
   "metadata": {},
   "source": [
    "TODO:  \n",
    "- Import S&P 500 returns [__DONE__]  \n",
    "- Import Fama-French data [__DONE__] (no data before 1970s)\n",
    "- Build dimensionality reduction pipeline (to try different methods)\n",
    "- Build supervised learning pipeline (i.e., timeseries regression of reduced data on S&P returns)"
   ]
  },
  {
   "cell_type": "code",
   "execution_count": 25,
   "metadata": {},
   "outputs": [
    {
     "data": {
      "text/html": [
       "<div>\n",
       "<style scoped>\n",
       "    .dataframe tbody tr th:only-of-type {\n",
       "        vertical-align: middle;\n",
       "    }\n",
       "\n",
       "    .dataframe tbody tr th {\n",
       "        vertical-align: top;\n",
       "    }\n",
       "\n",
       "    .dataframe thead th {\n",
       "        text-align: right;\n",
       "    }\n",
       "</style>\n",
       "<table border=\"1\" class=\"dataframe\">\n",
       "  <thead>\n",
       "    <tr style=\"text-align: right;\">\n",
       "      <th></th>\n",
       "      <th>caldt</th>\n",
       "      <th>Value Weighted Return (incl. dividends)</th>\n",
       "      <th>Value Weighted Return (ex dividends)</th>\n",
       "      <th>S&amp;P Composite Return</th>\n",
       "    </tr>\n",
       "  </thead>\n",
       "  <tbody>\n",
       "    <tr>\n",
       "      <th>6</th>\n",
       "      <td>1963-07</td>\n",
       "      <td>-0.001821</td>\n",
       "      <td>-0.003131</td>\n",
       "      <td>-0.003460</td>\n",
       "    </tr>\n",
       "    <tr>\n",
       "      <th>7</th>\n",
       "      <td>1963-08</td>\n",
       "      <td>0.053466</td>\n",
       "      <td>0.048496</td>\n",
       "      <td>0.048749</td>\n",
       "    </tr>\n",
       "    <tr>\n",
       "      <th>8</th>\n",
       "      <td>1963-09</td>\n",
       "      <td>-0.010402</td>\n",
       "      <td>-0.011579</td>\n",
       "      <td>-0.011034</td>\n",
       "    </tr>\n",
       "    <tr>\n",
       "      <th>9</th>\n",
       "      <td>1963-10</td>\n",
       "      <td>0.034825</td>\n",
       "      <td>0.033290</td>\n",
       "      <td>0.032218</td>\n",
       "    </tr>\n",
       "    <tr>\n",
       "      <th>10</th>\n",
       "      <td>1963-11</td>\n",
       "      <td>-0.004487</td>\n",
       "      <td>-0.011085</td>\n",
       "      <td>-0.010539</td>\n",
       "    </tr>\n",
       "    <tr>\n",
       "      <th>11</th>\n",
       "      <td>1963-12</td>\n",
       "      <td>0.026065</td>\n",
       "      <td>0.024651</td>\n",
       "      <td>0.024444</td>\n",
       "    </tr>\n",
       "    <tr>\n",
       "      <th>12</th>\n",
       "      <td>1964-01</td>\n",
       "      <td>0.027391</td>\n",
       "      <td>0.026373</td>\n",
       "      <td>0.026926</td>\n",
       "    </tr>\n",
       "    <tr>\n",
       "      <th>13</th>\n",
       "      <td>1964-02</td>\n",
       "      <td>0.017015</td>\n",
       "      <td>0.012171</td>\n",
       "      <td>0.009865</td>\n",
       "    </tr>\n",
       "    <tr>\n",
       "      <th>14</th>\n",
       "      <td>1964-03</td>\n",
       "      <td>0.017232</td>\n",
       "      <td>0.015814</td>\n",
       "      <td>0.015167</td>\n",
       "    </tr>\n",
       "    <tr>\n",
       "      <th>15</th>\n",
       "      <td>1964-04</td>\n",
       "      <td>0.006192</td>\n",
       "      <td>0.005297</td>\n",
       "      <td>0.006077</td>\n",
       "    </tr>\n",
       "    <tr>\n",
       "      <th>16</th>\n",
       "      <td>1964-05</td>\n",
       "      <td>0.016815</td>\n",
       "      <td>0.011460</td>\n",
       "      <td>0.011452</td>\n",
       "    </tr>\n",
       "    <tr>\n",
       "      <th>17</th>\n",
       "      <td>1964-06</td>\n",
       "      <td>0.018084</td>\n",
       "      <td>0.016779</td>\n",
       "      <td>0.016424</td>\n",
       "    </tr>\n",
       "    <tr>\n",
       "      <th>18</th>\n",
       "      <td>1964-07</td>\n",
       "      <td>0.018910</td>\n",
       "      <td>0.017953</td>\n",
       "      <td>0.018240</td>\n",
       "    </tr>\n",
       "    <tr>\n",
       "      <th>19</th>\n",
       "      <td>1964-08</td>\n",
       "      <td>-0.011621</td>\n",
       "      <td>-0.016285</td>\n",
       "      <td>-0.016230</td>\n",
       "    </tr>\n",
       "    <tr>\n",
       "      <th>20</th>\n",
       "      <td>1964-09</td>\n",
       "      <td>0.030399</td>\n",
       "      <td>0.029022</td>\n",
       "      <td>0.028718</td>\n",
       "    </tr>\n",
       "    <tr>\n",
       "      <th>21</th>\n",
       "      <td>1964-10</td>\n",
       "      <td>0.008745</td>\n",
       "      <td>0.007566</td>\n",
       "      <td>0.008078</td>\n",
       "    </tr>\n",
       "    <tr>\n",
       "      <th>22</th>\n",
       "      <td>1964-11</td>\n",
       "      <td>0.001598</td>\n",
       "      <td>-0.004588</td>\n",
       "      <td>-0.005185</td>\n",
       "    </tr>\n",
       "    <tr>\n",
       "      <th>23</th>\n",
       "      <td>1964-12</td>\n",
       "      <td>0.005228</td>\n",
       "      <td>0.003803</td>\n",
       "      <td>0.003909</td>\n",
       "    </tr>\n",
       "    <tr>\n",
       "      <th>24</th>\n",
       "      <td>1965-01</td>\n",
       "      <td>0.034791</td>\n",
       "      <td>0.033837</td>\n",
       "      <td>0.033156</td>\n",
       "    </tr>\n",
       "    <tr>\n",
       "      <th>25</th>\n",
       "      <td>1965-02</td>\n",
       "      <td>0.003746</td>\n",
       "      <td>-0.000853</td>\n",
       "      <td>-0.001485</td>\n",
       "    </tr>\n",
       "    <tr>\n",
       "      <th>26</th>\n",
       "      <td>1965-03</td>\n",
       "      <td>-0.012213</td>\n",
       "      <td>-0.013685</td>\n",
       "      <td>-0.014526</td>\n",
       "    </tr>\n",
       "    <tr>\n",
       "      <th>27</th>\n",
       "      <td>1965-04</td>\n",
       "      <td>0.035612</td>\n",
       "      <td>0.034769</td>\n",
       "      <td>0.034239</td>\n",
       "    </tr>\n",
       "    <tr>\n",
       "      <th>28</th>\n",
       "      <td>1965-05</td>\n",
       "      <td>-0.003122</td>\n",
       "      <td>-0.008354</td>\n",
       "      <td>-0.007743</td>\n",
       "    </tr>\n",
       "    <tr>\n",
       "      <th>29</th>\n",
       "      <td>1965-06</td>\n",
       "      <td>-0.046880</td>\n",
       "      <td>-0.048367</td>\n",
       "      <td>-0.048632</td>\n",
       "    </tr>\n",
       "    <tr>\n",
       "      <th>30</th>\n",
       "      <td>1965-07</td>\n",
       "      <td>0.014486</td>\n",
       "      <td>0.013678</td>\n",
       "      <td>0.013433</td>\n",
       "    </tr>\n",
       "    <tr>\n",
       "      <th>31</th>\n",
       "      <td>1965-08</td>\n",
       "      <td>0.027560</td>\n",
       "      <td>0.022473</td>\n",
       "      <td>0.022522</td>\n",
       "    </tr>\n",
       "    <tr>\n",
       "      <th>32</th>\n",
       "      <td>1965-09</td>\n",
       "      <td>0.033366</td>\n",
       "      <td>0.032034</td>\n",
       "      <td>0.032006</td>\n",
       "    </tr>\n",
       "    <tr>\n",
       "      <th>33</th>\n",
       "      <td>1965-10</td>\n",
       "      <td>0.028812</td>\n",
       "      <td>0.027737</td>\n",
       "      <td>0.027345</td>\n",
       "    </tr>\n",
       "    <tr>\n",
       "      <th>34</th>\n",
       "      <td>1965-11</td>\n",
       "      <td>-0.003821</td>\n",
       "      <td>-0.010306</td>\n",
       "      <td>-0.008764</td>\n",
       "    </tr>\n",
       "    <tr>\n",
       "      <th>35</th>\n",
       "      <td>1965-12</td>\n",
       "      <td>0.010349</td>\n",
       "      <td>0.009059</td>\n",
       "      <td>0.008951</td>\n",
       "    </tr>\n",
       "    <tr>\n",
       "      <th>...</th>\n",
       "      <td>...</td>\n",
       "      <td>...</td>\n",
       "      <td>...</td>\n",
       "      <td>...</td>\n",
       "    </tr>\n",
       "    <tr>\n",
       "      <th>582</th>\n",
       "      <td>2011-07</td>\n",
       "      <td>-0.019828</td>\n",
       "      <td>-0.020982</td>\n",
       "      <td>-0.021474</td>\n",
       "    </tr>\n",
       "    <tr>\n",
       "      <th>583</th>\n",
       "      <td>2011-08</td>\n",
       "      <td>-0.054322</td>\n",
       "      <td>-0.056734</td>\n",
       "      <td>-0.056791</td>\n",
       "    </tr>\n",
       "    <tr>\n",
       "      <th>584</th>\n",
       "      <td>2011-09</td>\n",
       "      <td>-0.070238</td>\n",
       "      <td>-0.071739</td>\n",
       "      <td>-0.071762</td>\n",
       "    </tr>\n",
       "    <tr>\n",
       "      <th>585</th>\n",
       "      <td>2011-10</td>\n",
       "      <td>0.109014</td>\n",
       "      <td>0.107554</td>\n",
       "      <td>0.107723</td>\n",
       "    </tr>\n",
       "    <tr>\n",
       "      <th>586</th>\n",
       "      <td>2011-11</td>\n",
       "      <td>-0.002727</td>\n",
       "      <td>-0.005552</td>\n",
       "      <td>-0.005059</td>\n",
       "    </tr>\n",
       "    <tr>\n",
       "      <th>587</th>\n",
       "      <td>2011-12</td>\n",
       "      <td>0.009427</td>\n",
       "      <td>0.007613</td>\n",
       "      <td>0.008533</td>\n",
       "    </tr>\n",
       "    <tr>\n",
       "      <th>588</th>\n",
       "      <td>2012-01</td>\n",
       "      <td>0.045205</td>\n",
       "      <td>0.044003</td>\n",
       "      <td>0.043583</td>\n",
       "    </tr>\n",
       "    <tr>\n",
       "      <th>589</th>\n",
       "      <td>2012-02</td>\n",
       "      <td>0.043340</td>\n",
       "      <td>0.040744</td>\n",
       "      <td>0.040589</td>\n",
       "    </tr>\n",
       "    <tr>\n",
       "      <th>590</th>\n",
       "      <td>2012-03</td>\n",
       "      <td>0.032866</td>\n",
       "      <td>0.031282</td>\n",
       "      <td>0.031332</td>\n",
       "    </tr>\n",
       "    <tr>\n",
       "      <th>591</th>\n",
       "      <td>2012-04</td>\n",
       "      <td>-0.006034</td>\n",
       "      <td>-0.007237</td>\n",
       "      <td>-0.007497</td>\n",
       "    </tr>\n",
       "    <tr>\n",
       "      <th>592</th>\n",
       "      <td>2012-05</td>\n",
       "      <td>-0.059790</td>\n",
       "      <td>-0.062433</td>\n",
       "      <td>-0.062651</td>\n",
       "    </tr>\n",
       "    <tr>\n",
       "      <th>593</th>\n",
       "      <td>2012-06</td>\n",
       "      <td>0.041465</td>\n",
       "      <td>0.039888</td>\n",
       "      <td>0.039555</td>\n",
       "    </tr>\n",
       "    <tr>\n",
       "      <th>594</th>\n",
       "      <td>2012-07</td>\n",
       "      <td>0.014363</td>\n",
       "      <td>0.013096</td>\n",
       "      <td>0.012598</td>\n",
       "    </tr>\n",
       "    <tr>\n",
       "      <th>595</th>\n",
       "      <td>2012-08</td>\n",
       "      <td>0.022744</td>\n",
       "      <td>0.019938</td>\n",
       "      <td>0.019763</td>\n",
       "    </tr>\n",
       "    <tr>\n",
       "      <th>596</th>\n",
       "      <td>2012-09</td>\n",
       "      <td>0.025120</td>\n",
       "      <td>0.023547</td>\n",
       "      <td>0.024236</td>\n",
       "    </tr>\n",
       "    <tr>\n",
       "      <th>597</th>\n",
       "      <td>2012-10</td>\n",
       "      <td>-0.017837</td>\n",
       "      <td>-0.019227</td>\n",
       "      <td>-0.019789</td>\n",
       "    </tr>\n",
       "    <tr>\n",
       "      <th>598</th>\n",
       "      <td>2012-11</td>\n",
       "      <td>0.005326</td>\n",
       "      <td>0.002154</td>\n",
       "      <td>0.002847</td>\n",
       "    </tr>\n",
       "    <tr>\n",
       "      <th>599</th>\n",
       "      <td>2012-12</td>\n",
       "      <td>0.008508</td>\n",
       "      <td>0.005902</td>\n",
       "      <td>0.007068</td>\n",
       "    </tr>\n",
       "    <tr>\n",
       "      <th>600</th>\n",
       "      <td>2013-01</td>\n",
       "      <td>0.052361</td>\n",
       "      <td>0.051024</td>\n",
       "      <td>0.050428</td>\n",
       "    </tr>\n",
       "    <tr>\n",
       "      <th>601</th>\n",
       "      <td>2013-02</td>\n",
       "      <td>0.013013</td>\n",
       "      <td>0.010511</td>\n",
       "      <td>0.011061</td>\n",
       "    </tr>\n",
       "    <tr>\n",
       "      <th>602</th>\n",
       "      <td>2013-03</td>\n",
       "      <td>0.037584</td>\n",
       "      <td>0.036025</td>\n",
       "      <td>0.035988</td>\n",
       "    </tr>\n",
       "    <tr>\n",
       "      <th>603</th>\n",
       "      <td>2013-04</td>\n",
       "      <td>0.019621</td>\n",
       "      <td>0.018482</td>\n",
       "      <td>0.018086</td>\n",
       "    </tr>\n",
       "    <tr>\n",
       "      <th>604</th>\n",
       "      <td>2013-05</td>\n",
       "      <td>0.023120</td>\n",
       "      <td>0.020441</td>\n",
       "      <td>0.020763</td>\n",
       "    </tr>\n",
       "    <tr>\n",
       "      <th>605</th>\n",
       "      <td>2013-06</td>\n",
       "      <td>-0.013601</td>\n",
       "      <td>-0.015262</td>\n",
       "      <td>-0.014999</td>\n",
       "    </tr>\n",
       "    <tr>\n",
       "      <th>606</th>\n",
       "      <td>2013-07</td>\n",
       "      <td>0.050672</td>\n",
       "      <td>0.049287</td>\n",
       "      <td>0.049462</td>\n",
       "    </tr>\n",
       "    <tr>\n",
       "      <th>607</th>\n",
       "      <td>2013-08</td>\n",
       "      <td>-0.029207</td>\n",
       "      <td>-0.031638</td>\n",
       "      <td>-0.031298</td>\n",
       "    </tr>\n",
       "    <tr>\n",
       "      <th>608</th>\n",
       "      <td>2013-09</td>\n",
       "      <td>0.031660</td>\n",
       "      <td>0.030064</td>\n",
       "      <td>0.029749</td>\n",
       "    </tr>\n",
       "    <tr>\n",
       "      <th>609</th>\n",
       "      <td>2013-10</td>\n",
       "      <td>0.046268</td>\n",
       "      <td>0.044953</td>\n",
       "      <td>0.044596</td>\n",
       "    </tr>\n",
       "    <tr>\n",
       "      <th>610</th>\n",
       "      <td>2013-11</td>\n",
       "      <td>0.030817</td>\n",
       "      <td>0.028398</td>\n",
       "      <td>0.028049</td>\n",
       "    </tr>\n",
       "    <tr>\n",
       "      <th>611</th>\n",
       "      <td>2013-12</td>\n",
       "      <td>0.025950</td>\n",
       "      <td>0.024196</td>\n",
       "      <td>0.023563</td>\n",
       "    </tr>\n",
       "  </tbody>\n",
       "</table>\n",
       "<p>606 rows × 4 columns</p>\n",
       "</div>"
      ],
      "text/plain": [
       "       caldt  Value Weighted Return (incl. dividends)  \\\n",
       "6    1963-07                                -0.001821   \n",
       "7    1963-08                                 0.053466   \n",
       "8    1963-09                                -0.010402   \n",
       "9    1963-10                                 0.034825   \n",
       "10   1963-11                                -0.004487   \n",
       "11   1963-12                                 0.026065   \n",
       "12   1964-01                                 0.027391   \n",
       "13   1964-02                                 0.017015   \n",
       "14   1964-03                                 0.017232   \n",
       "15   1964-04                                 0.006192   \n",
       "16   1964-05                                 0.016815   \n",
       "17   1964-06                                 0.018084   \n",
       "18   1964-07                                 0.018910   \n",
       "19   1964-08                                -0.011621   \n",
       "20   1964-09                                 0.030399   \n",
       "21   1964-10                                 0.008745   \n",
       "22   1964-11                                 0.001598   \n",
       "23   1964-12                                 0.005228   \n",
       "24   1965-01                                 0.034791   \n",
       "25   1965-02                                 0.003746   \n",
       "26   1965-03                                -0.012213   \n",
       "27   1965-04                                 0.035612   \n",
       "28   1965-05                                -0.003122   \n",
       "29   1965-06                                -0.046880   \n",
       "30   1965-07                                 0.014486   \n",
       "31   1965-08                                 0.027560   \n",
       "32   1965-09                                 0.033366   \n",
       "33   1965-10                                 0.028812   \n",
       "34   1965-11                                -0.003821   \n",
       "35   1965-12                                 0.010349   \n",
       "..       ...                                      ...   \n",
       "582  2011-07                                -0.019828   \n",
       "583  2011-08                                -0.054322   \n",
       "584  2011-09                                -0.070238   \n",
       "585  2011-10                                 0.109014   \n",
       "586  2011-11                                -0.002727   \n",
       "587  2011-12                                 0.009427   \n",
       "588  2012-01                                 0.045205   \n",
       "589  2012-02                                 0.043340   \n",
       "590  2012-03                                 0.032866   \n",
       "591  2012-04                                -0.006034   \n",
       "592  2012-05                                -0.059790   \n",
       "593  2012-06                                 0.041465   \n",
       "594  2012-07                                 0.014363   \n",
       "595  2012-08                                 0.022744   \n",
       "596  2012-09                                 0.025120   \n",
       "597  2012-10                                -0.017837   \n",
       "598  2012-11                                 0.005326   \n",
       "599  2012-12                                 0.008508   \n",
       "600  2013-01                                 0.052361   \n",
       "601  2013-02                                 0.013013   \n",
       "602  2013-03                                 0.037584   \n",
       "603  2013-04                                 0.019621   \n",
       "604  2013-05                                 0.023120   \n",
       "605  2013-06                                -0.013601   \n",
       "606  2013-07                                 0.050672   \n",
       "607  2013-08                                -0.029207   \n",
       "608  2013-09                                 0.031660   \n",
       "609  2013-10                                 0.046268   \n",
       "610  2013-11                                 0.030817   \n",
       "611  2013-12                                 0.025950   \n",
       "\n",
       "     Value Weighted Return (ex dividends)  S&P Composite Return  \n",
       "6                               -0.003131             -0.003460  \n",
       "7                                0.048496              0.048749  \n",
       "8                               -0.011579             -0.011034  \n",
       "9                                0.033290              0.032218  \n",
       "10                              -0.011085             -0.010539  \n",
       "11                               0.024651              0.024444  \n",
       "12                               0.026373              0.026926  \n",
       "13                               0.012171              0.009865  \n",
       "14                               0.015814              0.015167  \n",
       "15                               0.005297              0.006077  \n",
       "16                               0.011460              0.011452  \n",
       "17                               0.016779              0.016424  \n",
       "18                               0.017953              0.018240  \n",
       "19                              -0.016285             -0.016230  \n",
       "20                               0.029022              0.028718  \n",
       "21                               0.007566              0.008078  \n",
       "22                              -0.004588             -0.005185  \n",
       "23                               0.003803              0.003909  \n",
       "24                               0.033837              0.033156  \n",
       "25                              -0.000853             -0.001485  \n",
       "26                              -0.013685             -0.014526  \n",
       "27                               0.034769              0.034239  \n",
       "28                              -0.008354             -0.007743  \n",
       "29                              -0.048367             -0.048632  \n",
       "30                               0.013678              0.013433  \n",
       "31                               0.022473              0.022522  \n",
       "32                               0.032034              0.032006  \n",
       "33                               0.027737              0.027345  \n",
       "34                              -0.010306             -0.008764  \n",
       "35                               0.009059              0.008951  \n",
       "..                                    ...                   ...  \n",
       "582                             -0.020982             -0.021474  \n",
       "583                             -0.056734             -0.056791  \n",
       "584                             -0.071739             -0.071762  \n",
       "585                              0.107554              0.107723  \n",
       "586                             -0.005552             -0.005059  \n",
       "587                              0.007613              0.008533  \n",
       "588                              0.044003              0.043583  \n",
       "589                              0.040744              0.040589  \n",
       "590                              0.031282              0.031332  \n",
       "591                             -0.007237             -0.007497  \n",
       "592                             -0.062433             -0.062651  \n",
       "593                              0.039888              0.039555  \n",
       "594                              0.013096              0.012598  \n",
       "595                              0.019938              0.019763  \n",
       "596                              0.023547              0.024236  \n",
       "597                             -0.019227             -0.019789  \n",
       "598                              0.002154              0.002847  \n",
       "599                              0.005902              0.007068  \n",
       "600                              0.051024              0.050428  \n",
       "601                              0.010511              0.011061  \n",
       "602                              0.036025              0.035988  \n",
       "603                              0.018482              0.018086  \n",
       "604                              0.020441              0.020763  \n",
       "605                             -0.015262             -0.014999  \n",
       "606                              0.049287              0.049462  \n",
       "607                             -0.031638             -0.031298  \n",
       "608                              0.030064              0.029749  \n",
       "609                              0.044953              0.044596  \n",
       "610                              0.028398              0.028049  \n",
       "611                              0.024196              0.023563  \n",
       "\n",
       "[606 rows x 4 columns]"
      ]
     },
     "execution_count": 25,
     "metadata": {},
     "output_type": "execute_result"
    }
   ],
   "source": [
    "spx = pd.read_csv('CRSP SPX Index File.csv')\n",
    "spx['caldt'] = pd.to_datetime(spx['caldt'], format = '%Y%m%d')\n",
    "spx['caldt'] = spx.caldt.dt.to_period('M')\n",
    "spx = spx[(spx['caldt'] > '1963-06') & (spx['caldt'] <= '2013-12')]"
   ]
  },
  {
   "cell_type": "code",
   "execution_count": 32,
   "metadata": {},
   "outputs": [],
   "source": [
    "spx_tr = spx.iloc[:,0:2] #SPX Total Return\n",
    "spx_pr = spx.iloc[:,[0,2]] #SPX Price Return\n",
    "spx_tr.reset_index(inplace = True, drop = True) \n",
    "spx_pr.reset_index(inplace = True, drop = True)"
   ]
  },
  {
   "cell_type": "markdown",
   "metadata": {},
   "source": [
    "### Rep. Learning Options"
   ]
  },
  {
   "cell_type": "markdown",
   "metadata": {},
   "source": [
    "DROP MONTHS"
   ]
  },
  {
   "cell_type": "markdown",
   "metadata": {},
   "source": [
    "Linear PCA"
   ]
  },
  {
   "cell_type": "code",
   "execution_count": 107,
   "metadata": {
    "collapsed": true
   },
   "outputs": [],
   "source": [
    "k = 5\n",
    "pca = PCA(n_components=k)\n",
    "linpca_newnet = pca.fit_transform(newnetreturns.drop(\"Month\", axis=1))"
   ]
  },
  {
   "cell_type": "code",
   "execution_count": 108,
   "metadata": {},
   "outputs": [
    {
     "data": {
      "text/plain": [
       "(486, 5)"
      ]
     },
     "execution_count": 108,
     "metadata": {},
     "output_type": "execute_result"
    }
   ],
   "source": [
    "linpca_newnet.shape"
   ]
  },
  {
   "cell_type": "markdown",
   "metadata": {},
   "source": [
    "Kernel PCA"
   ]
  },
  {
   "cell_type": "code",
   "execution_count": 109,
   "metadata": {
    "collapsed": true
   },
   "outputs": [],
   "source": [
    "k = 5\n",
    "poly_kpca = KernelPCA(n_components=k, kernel='poly')\n",
    "poly_pca_newnet = poly_kpca.fit_transform(newnetreturns.drop(\"Month\", axis=1))"
   ]
  },
  {
   "cell_type": "code",
   "execution_count": 110,
   "metadata": {},
   "outputs": [
    {
     "data": {
      "text/plain": [
       "(486, 5)"
      ]
     },
     "execution_count": 110,
     "metadata": {},
     "output_type": "execute_result"
    }
   ],
   "source": [
    "poly_pca_newnet.shape"
   ]
  },
  {
   "cell_type": "code",
   "execution_count": 12,
   "metadata": {
    "collapsed": true
   },
   "outputs": [],
   "source": [
    "k = 5\n",
    "rbf_kpca = KernelPCA(n_components=k, kernel='rbf')\n",
    "rbf_pca_newnet = rbf_kpca.fit_transform(newnetreturns.drop(\"Month\", axis=1))"
   ]
  },
  {
   "cell_type": "code",
   "execution_count": 13,
   "metadata": {},
   "outputs": [
    {
     "data": {
      "text/plain": [
       "(486, 5)"
      ]
     },
     "execution_count": 13,
     "metadata": {},
     "output_type": "execute_result"
    }
   ],
   "source": [
    "rbf_pca_newnet.shape"
   ]
  },
  {
   "cell_type": "markdown",
   "metadata": {},
   "source": [
    "Isomap"
   ]
  },
  {
   "cell_type": "code",
   "execution_count": 113,
   "metadata": {
    "collapsed": true
   },
   "outputs": [],
   "source": [
    "k = 5\n",
    "embedding = Isomap(n_components=k, n_neighbors=5)\n",
    "isomap_newnet = embedding.fit_transform(newnetreturns.drop(\"Month\", axis=1))"
   ]
  },
  {
   "cell_type": "code",
   "execution_count": 114,
   "metadata": {},
   "outputs": [
    {
     "data": {
      "text/plain": [
       "(486, 5)"
      ]
     },
     "execution_count": 114,
     "metadata": {},
     "output_type": "execute_result"
    }
   ],
   "source": [
    "isomap_newnet.shape"
   ]
  },
  {
   "cell_type": "code",
   "execution_count": null,
   "metadata": {
    "collapsed": true
   },
   "outputs": [],
   "source": []
  }
 ],
 "metadata": {
  "kernelspec": {
   "display_name": "Python 3",
   "language": "python",
   "name": "python3"
  },
  "language_info": {
   "codemirror_mode": {
    "name": "ipython",
    "version": 3
   },
   "file_extension": ".py",
   "mimetype": "text/x-python",
   "name": "python",
   "nbconvert_exporter": "python",
   "pygments_lexer": "ipython3",
   "version": "3.7.2"
  }
 },
 "nbformat": 4,
 "nbformat_minor": 2
}
