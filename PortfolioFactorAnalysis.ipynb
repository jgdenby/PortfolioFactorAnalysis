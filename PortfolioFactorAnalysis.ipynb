{
 "cells": [
  {
   "cell_type": "markdown",
   "metadata": {},
   "source": [
    "## Portfolio Factor Analysis"
   ]
  },
  {
   "cell_type": "code",
   "execution_count": 1,
   "metadata": {
    "collapsed": true
   },
   "outputs": [],
   "source": [
    "import numpy as np\n",
    "import pandas as pd\n",
    "from sklearn.decomposition import PCA, KernelPCA\n",
    "from sklearn.manifold import Isomap, SpectralEmbedding\n",
    "from sklearn.linear_model import LinearRegression\n",
    "import seaborn as sns\n",
    "import matplotlib.pyplot as plt\n",
    "%matplotlib inline"
   ]
  },
  {
   "cell_type": "code",
   "execution_count": 2,
   "metadata": {
    "collapsed": true
   },
   "outputs": [],
   "source": [
    "# Function block\n",
    "\n",
    "### REPRESENTATION LEARNING METHODS\n",
    "def linPCA(train_data, tune_data, n_components):\n",
    "    \"\"\"\n",
    "    Function to apply linear PCA with specified number of components. \n",
    "    Input:\n",
    "        train_data (ndarray): dataset used to fit linear PCA model\n",
    "        tune_data (ndarray): dataset transformed by linear PCA model\n",
    "        n_components (int): hyperparameter specifying number of components\n",
    "    Output:\n",
    "        Z (ndarray): tune_data transformed to PCA subspace\n",
    "    \"\"\"\n",
    "    pca = PCA(n_components=n_components)\n",
    "    pca.fit(train_data)\n",
    "    Z = pca.transform(tune_data)\n",
    "    \n",
    "    return Z\n",
    "\n",
    "def KPCA(train_data, tune_data, n_components, kernel='poly', gamma=None, degree=3):\n",
    "    \"\"\"\n",
    "    Function to apply Kernel PCA with specified number of components. \n",
    "    Input:\n",
    "        train_data (ndarray): dataset used to fit kernel PCA model\n",
    "        tune_data (ndarray): dataset transformed by kernel PCA model\n",
    "        n_components (int): hyperparameter specifying number of components\n",
    "        kernel (str): kernel method; choose from {\"poly\" | \"rbf\" | \"sigmoid\" | \"cosine\"}\n",
    "        gamma (int): gamma coefficient for rbf, poly, and sigmoid kerenels\n",
    "        degree (int): degree of polynomial for poly kernel\n",
    "    Output:\n",
    "        Z (ndarray): tune_data transformed to PCA subspace\n",
    "    \"\"\"\n",
    "    kpca = KernelPCA(n_components=n_components, kernel=kernel, gamma=gamma, degree = degree)\n",
    "    kpca.fit(train_data)\n",
    "    Z = kpca.transform(tune_data)\n",
    "    \n",
    "    return Z\n",
    "\n",
    "def isomap(train_data, tune_data, n_components, n_neighbors):\n",
    "    \"\"\"\n",
    "    Function to apply Isomap with specified number of components. \n",
    "    Input:\n",
    "        train_data (ndarray): dataset used to fit Isomap model\n",
    "        tune_data (ndarray): dataset transformed by Isomap model\n",
    "        n_components (int): hyperparameter specifying number of components\n",
    "        n_neighbors (int): hyperparameter specifying number of neighbors to construct initial mapping\n",
    "    Output:\n",
    "        Z (ndarray): tune_data transformed to subspace\n",
    "    \"\"\"\n",
    "    embedding = Isomap(n_components=n_components, n_neighbors=n_neighbors)\n",
    "    embedding.fit(train_data)\n",
    "    Z = embedding.transform(tune_data)\n",
    "    \n",
    "    return Z\n",
    "\n",
    "def spectral(train_data, n_components, affinity, gamma = None, n_neighbors = None):\n",
    "    \"\"\"\n",
    "    Function to apply SpectralEmbedding with specified number of components. \n",
    "    Input:\n",
    "        train_data (ndarray): dataset used to fit Spectral Embedding model\n",
    "        n_components (int): hyperparameter specifying number of components\n",
    "        affinity (str): designation of affinity matrix; choose from {'nearest_neighbors'|'rbf'|'precomputed'}\n",
    "        gamma(int): coefficient for rbf kernel, if used\n",
    "        n_neighbors (int): hyperparameter specifying number of neighbors to construct knn map, if used\n",
    "\n",
    "    Output:\n",
    "        Z (ndarray): tune_data transformed to subspace\n",
    "    \"\"\"\n",
    "    embedding = SpectralEmbedding(n_components=n_components, n_neighbors=n_neighbors, affinity = affinity, gamma = gamma)\n",
    "    Z= embedding.fit_transform(train_data)\n",
    "    \n",
    "    return Z\n",
    "    \n",
    "    \n",
    "### REGRESSION TEST\n",
    "def LinRegression(X_train,y_train, dev = False, X_test = None,y_test = None,autocor = None):\n",
    "    \"\"\"\n",
    "    Runs simple linear regression on the dataset provided and returns the model's R^2 value.\n",
    "    Input:\n",
    "        X (DataFrame): predictor data\n",
    "        y (DataFrame): outcome data\n",
    "        autocor: number of periods for autocorrelation correction (default = None)\n",
    "    Output:\n",
    "        R^2 value for model (real)\n",
    "    \n",
    "    \"\"\"\n",
    "    if autocor:\n",
    "        for i in range(1,autocor + 1):\n",
    "            X_train.join(y.shift(i))\n",
    "        X_train = X_train.iloc[autocor::,:] # removing the rows that don't have lagged returns\n",
    "        y_train = y_train.iloc[autocor::]\n",
    "    reg = LinearRegression()\n",
    "    reg.fit(X_train,y_train)\n",
    "    if not dev:\n",
    "        return reg.score(X_train, y_train)\n",
    "    else:\n",
    "        return reg.score(X_test,y_test)"
   ]
  },
  {
   "cell_type": "markdown",
   "metadata": {},
   "source": [
    "### Import Data"
   ]
  },
  {
   "cell_type": "markdown",
   "metadata": {},
   "source": [
    "Read in Excel file and specifically import net returns data"
   ]
  },
  {
   "cell_type": "code",
   "execution_count": 6,
   "metadata": {
    "collapsed": true
   },
   "outputs": [],
   "source": [
    "xls=pd.ExcelFile('Simple_Strategies_Returns.xlsx')\n",
    "grossreturns = pd.read_excel(xls, 0)\n",
    "netreturns = pd.read_excel(xls, 1)"
   ]
  },
  {
   "cell_type": "code",
   "execution_count": 7,
   "metadata": {
    "collapsed": true
   },
   "outputs": [],
   "source": [
    "#Keep all data, but get rid of factors with missing data\n",
    "netreturns = netreturns.dropna(axis=1).copy()\n",
    "netreturns['Month'] = pd.to_datetime(netreturns['Month'], format = '%Y%m')\n",
    "netreturns['Month'] = netreturns['Month'].dt.to_period('M')\n",
    "netreturns['Month'] = netreturns['Month'].astype('str')\n",
    "\n",
    "grossreturns = grossreturns.dropna(axis=1).copy()\n",
    "grossreturns['Month'] = pd.to_datetime(grossreturns['Month'], format = '%Y%m')\n",
    "grossreturns['Month'] = grossreturns['Month'].dt.to_period('M')\n",
    "grossreturns['Month'] = grossreturns['Month'].astype('str')"
   ]
  },
  {
   "cell_type": "code",
   "execution_count": 8,
   "metadata": {},
   "outputs": [
    {
     "data": {
      "text/plain": [
       "(606, 25)"
      ]
     },
     "execution_count": 8,
     "metadata": {},
     "output_type": "execute_result"
    }
   ],
   "source": [
    "netreturns.shape"
   ]
  },
  {
   "cell_type": "markdown",
   "metadata": {},
   "source": [
    "Split data into 'new' and 'old' sections:  \n",
    "'Old' section has 120 months of 26 factors  \n",
    "'New' section has 486 months of 34 factors"
   ]
  },
  {
   "cell_type": "code",
   "execution_count": 6,
   "metadata": {
    "collapsed": true
   },
   "outputs": [],
   "source": [
    "# oldnetreturns = netreturns[netreturns.Month < 197307]\n",
    "# oldnetreturns = oldnetreturns.reset_index(drop=True)\n",
    "# oldnetreturns = oldnetreturns.dropna(axis=1)\n",
    "# oldnetreturns['Month'] = pd.to_datetime(oldnetreturns['Month'], format = '%Y%m')\n",
    "# oldnetreturns['Month'] = oldnetreturns['Month'].dt.to_period('M')\n",
    "# oldnetreturns['Month'] = oldnetreturns['Month'].astype('str')"
   ]
  },
  {
   "cell_type": "code",
   "execution_count": 7,
   "metadata": {
    "collapsed": true
   },
   "outputs": [],
   "source": [
    "# newnetreturns = netreturns[netreturns.Month >= 197307]\n",
    "# newnetreturns = newnetreturns.reset_index(drop=True)\n",
    "# newnetreturns['Month'] = pd.to_datetime(newnetreturns['Month'], format = '%Y%m')\n",
    "# newnetreturns['Month'] = newnetreturns['Month'].dt.to_period('M')\n",
    "# newnetreturns['Month'] = newnetreturns['Month'].astype('str')"
   ]
  },
  {
   "cell_type": "markdown",
   "metadata": {},
   "source": [
    "Fama-French Data"
   ]
  },
  {
   "cell_type": "code",
   "execution_count": 9,
   "metadata": {
    "collapsed": true
   },
   "outputs": [],
   "source": [
    "portfolios25 = pd.read_csv('25_Portfolios_5x5.CSV')\n",
    "portfolios6 =pd.read_csv('6_Portfolios_2x3.CSV')"
   ]
  },
  {
   "cell_type": "code",
   "execution_count": 10,
   "metadata": {
    "collapsed": true
   },
   "outputs": [],
   "source": [
    "portfolios25.reset_index(inplace=True)"
   ]
  },
  {
   "cell_type": "code",
   "execution_count": 11,
   "metadata": {
    "collapsed": true
   },
   "outputs": [],
   "source": [
    "portfolios6['Month'] = pd.to_datetime(portfolios6['Month'], format = '%Y%m')\n",
    "portfolios6['Month'] = portfolios6['Month'].dt.to_period('M')\n",
    "portfolios6['Month'] = portfolios6['Month'].astype('str')"
   ]
  },
  {
   "cell_type": "code",
   "execution_count": 12,
   "metadata": {},
   "outputs": [
    {
     "data": {
      "text/html": [
       "<div>\n",
       "<style scoped>\n",
       "    .dataframe tbody tr th:only-of-type {\n",
       "        vertical-align: middle;\n",
       "    }\n",
       "\n",
       "    .dataframe tbody tr th {\n",
       "        vertical-align: top;\n",
       "    }\n",
       "\n",
       "    .dataframe thead th {\n",
       "        text-align: right;\n",
       "    }\n",
       "</style>\n",
       "<table border=\"1\" class=\"dataframe\">\n",
       "  <thead>\n",
       "    <tr style=\"text-align: right;\">\n",
       "      <th></th>\n",
       "      <th>Month</th>\n",
       "      <th>SMALL LoBM</th>\n",
       "      <th>ME1 BM2</th>\n",
       "      <th>SMALL HiBM</th>\n",
       "      <th>BIG LoBM</th>\n",
       "      <th>ME2 BM2</th>\n",
       "      <th>BIG HiBM</th>\n",
       "    </tr>\n",
       "  </thead>\n",
       "  <tbody>\n",
       "    <tr>\n",
       "      <th>0</th>\n",
       "      <td>1926-07</td>\n",
       "      <td>1.3724</td>\n",
       "      <td>0.9081</td>\n",
       "      <td>-0.0695</td>\n",
       "      <td>5.7168</td>\n",
       "      <td>1.9642</td>\n",
       "      <td>1.4222</td>\n",
       "    </tr>\n",
       "    <tr>\n",
       "      <th>1</th>\n",
       "      <td>1926-08</td>\n",
       "      <td>0.6095</td>\n",
       "      <td>1.5075</td>\n",
       "      <td>5.3842</td>\n",
       "      <td>2.7154</td>\n",
       "      <td>2.6838</td>\n",
       "      <td>6.3154</td>\n",
       "    </tr>\n",
       "    <tr>\n",
       "      <th>2</th>\n",
       "      <td>1926-09</td>\n",
       "      <td>-2.6779</td>\n",
       "      <td>-0.1359</td>\n",
       "      <td>-0.4374</td>\n",
       "      <td>1.4287</td>\n",
       "      <td>0.0709</td>\n",
       "      <td>-0.7967</td>\n",
       "    </tr>\n",
       "    <tr>\n",
       "      <th>3</th>\n",
       "      <td>1926-10</td>\n",
       "      <td>-3.5365</td>\n",
       "      <td>-4.3572</td>\n",
       "      <td>-2.0112</td>\n",
       "      <td>-3.5898</td>\n",
       "      <td>-2.3460</td>\n",
       "      <td>-4.0970</td>\n",
       "    </tr>\n",
       "    <tr>\n",
       "      <th>4</th>\n",
       "      <td>1926-11</td>\n",
       "      <td>3.1210</td>\n",
       "      <td>3.6608</td>\n",
       "      <td>2.0944</td>\n",
       "      <td>3.1292</td>\n",
       "      <td>2.8965</td>\n",
       "      <td>3.4614</td>\n",
       "    </tr>\n",
       "  </tbody>\n",
       "</table>\n",
       "</div>"
      ],
      "text/plain": [
       "     Month  SMALL LoBM  ME1 BM2  SMALL HiBM  BIG LoBM  ME2 BM2  BIG HiBM\n",
       "0  1926-07      1.3724   0.9081     -0.0695    5.7168   1.9642    1.4222\n",
       "1  1926-08      0.6095   1.5075      5.3842    2.7154   2.6838    6.3154\n",
       "2  1926-09     -2.6779  -0.1359     -0.4374    1.4287   0.0709   -0.7967\n",
       "3  1926-10     -3.5365  -4.3572     -2.0112   -3.5898  -2.3460   -4.0970\n",
       "4  1926-11      3.1210   3.6608      2.0944    3.1292   2.8965    3.4614"
      ]
     },
     "execution_count": 12,
     "metadata": {},
     "output_type": "execute_result"
    }
   ],
   "source": [
    "portfolios6.head()"
   ]
  },
  {
   "cell_type": "code",
   "execution_count": 13,
   "metadata": {
    "collapsed": true
   },
   "outputs": [],
   "source": [
    "ff_5 = pd.read_csv('FF_5_Factors')"
   ]
  },
  {
   "cell_type": "code",
   "execution_count": 14,
   "metadata": {
    "collapsed": true
   },
   "outputs": [],
   "source": [
    "ff_5_monthly = ff_5.loc[:665,].copy()\n",
    "ff_5_monthly['Month'] = pd.to_datetime(ff_5_monthly['Month'], format = '%Y%m')\n",
    "ff_5_monthly['Month'] = ff_5_monthly['Month'].dt.to_period('M')\n",
    "ff_5_monthly['Month'] = ff_5_monthly['Month'].astype('str')"
   ]
  },
  {
   "cell_type": "markdown",
   "metadata": {},
   "source": [
    "Company Stock Data"
   ]
  },
  {
   "cell_type": "code",
   "execution_count": 15,
   "metadata": {
    "collapsed": true
   },
   "outputs": [],
   "source": [
    "stocks = pd.read_csv('Company Stock Data.csv')\n",
    "stocks = stocks.drop('company', axis = 1)\n",
    "stocks['date'] = pd.to_datetime(stocks['date'], format = '%m/%d/%Y')\n",
    "stocks['date'] = stocks['date'].dt.to_period('M')\n",
    "stocks['date'] = stocks['date'].astype('str')\n",
    "stocks = stocks.pivot(index='date', columns='ticker', values='return')\n",
    "stocks.reset_index(inplace=True)"
   ]
  },
  {
   "cell_type": "code",
   "execution_count": 16,
   "metadata": {},
   "outputs": [
    {
     "data": {
      "text/html": [
       "<div>\n",
       "<style scoped>\n",
       "    .dataframe tbody tr th:only-of-type {\n",
       "        vertical-align: middle;\n",
       "    }\n",
       "\n",
       "    .dataframe tbody tr th {\n",
       "        vertical-align: top;\n",
       "    }\n",
       "\n",
       "    .dataframe thead th {\n",
       "        text-align: right;\n",
       "    }\n",
       "</style>\n",
       "<table border=\"1\" class=\"dataframe\">\n",
       "  <thead>\n",
       "    <tr style=\"text-align: right;\">\n",
       "      <th>ticker</th>\n",
       "      <th>date</th>\n",
       "      <th>IBM</th>\n",
       "      <th>MMM</th>\n",
       "      <th>PG</th>\n",
       "      <th>UTX</th>\n",
       "      <th>XOM</th>\n",
       "    </tr>\n",
       "  </thead>\n",
       "  <tbody>\n",
       "    <tr>\n",
       "      <th>0</th>\n",
       "      <td>1963-07</td>\n",
       "      <td>-0.004011</td>\n",
       "      <td>0.039387</td>\n",
       "      <td>-0.027723</td>\n",
       "      <td>-0.038043</td>\n",
       "      <td>0.025594</td>\n",
       "    </tr>\n",
       "    <tr>\n",
       "      <th>1</th>\n",
       "      <td>1963-08</td>\n",
       "      <td>0.025892</td>\n",
       "      <td>0.064842</td>\n",
       "      <td>0.075085</td>\n",
       "      <td>0.038960</td>\n",
       "      <td>0.028877</td>\n",
       "    </tr>\n",
       "    <tr>\n",
       "      <th>2</th>\n",
       "      <td>1963-09</td>\n",
       "      <td>0.016301</td>\n",
       "      <td>-0.031746</td>\n",
       "      <td>0.003175</td>\n",
       "      <td>-0.055556</td>\n",
       "      <td>-0.041958</td>\n",
       "    </tr>\n",
       "    <tr>\n",
       "      <th>3</th>\n",
       "      <td>1963-10</td>\n",
       "      <td>0.092920</td>\n",
       "      <td>0.088115</td>\n",
       "      <td>0.008228</td>\n",
       "      <td>-0.011765</td>\n",
       "      <td>0.036496</td>\n",
       "    </tr>\n",
       "    <tr>\n",
       "      <th>4</th>\n",
       "      <td>1963-11</td>\n",
       "      <td>-0.015182</td>\n",
       "      <td>-0.009793</td>\n",
       "      <td>0.000000</td>\n",
       "      <td>0.107143</td>\n",
       "      <td>0.011268</td>\n",
       "    </tr>\n",
       "  </tbody>\n",
       "</table>\n",
       "</div>"
      ],
      "text/plain": [
       "ticker     date       IBM       MMM        PG       UTX       XOM\n",
       "0       1963-07 -0.004011  0.039387 -0.027723 -0.038043  0.025594\n",
       "1       1963-08  0.025892  0.064842  0.075085  0.038960  0.028877\n",
       "2       1963-09  0.016301 -0.031746  0.003175 -0.055556 -0.041958\n",
       "3       1963-10  0.092920  0.088115  0.008228 -0.011765  0.036496\n",
       "4       1963-11 -0.015182 -0.009793  0.000000  0.107143  0.011268"
      ]
     },
     "execution_count": 16,
     "metadata": {},
     "output_type": "execute_result"
    }
   ],
   "source": [
    "stocks.head()"
   ]
  },
  {
   "cell_type": "markdown",
   "metadata": {},
   "source": [
    "TODO:  \n",
    "- Import S&P 500 returns [__DONE__]  \n",
    "- Import Fama-French data [__DONE__]\n",
    "- Build dimensionality reduction pipeline (to try different methods) [__DONE__]\n",
    "- Build supervised learning pipeline [__DONE__]\n",
    "- Proper timeseries regression [__DONE__]\n",
    "- Tune hyperparameters in sample \n",
    "- Try all stocks\n",
    "- Train/dev/test split\n"
   ]
  },
  {
   "cell_type": "code",
   "execution_count": 17,
   "metadata": {
    "collapsed": true
   },
   "outputs": [],
   "source": [
    "spx = pd.read_csv('CRSP SPX Index File.csv')\n",
    "spx['caldt'] = pd.to_datetime(spx['caldt'], format = '%Y%m%d')\n",
    "spx['caldt'] = spx.caldt.dt.to_period('M')\n",
    "spx['caldt'] = spx['caldt'].astype('str')\n",
    "spx = spx[(spx['caldt'] <= '2013-12')]\n",
    "spx.rename(inplace = True, index = str, columns = {'caldt':'date', spx.columns[1]:'SPX'})"
   ]
  },
  {
   "cell_type": "code",
   "execution_count": 18,
   "metadata": {
    "collapsed": true
   },
   "outputs": [],
   "source": [
    "spx_tr = spx.iloc[:,0:2] #SPX Total Return\n",
    "spx_pr = spx.iloc[:,[0,2]] #SPX Price Return\n",
    "spx_tr.reset_index(inplace = True, drop = True) \n",
    "spx_pr.reset_index(inplace = True, drop = True)"
   ]
  },
  {
   "cell_type": "code",
   "execution_count": 19,
   "metadata": {
    "collapsed": true
   },
   "outputs": [],
   "source": [
    "# collects net return data, FF 5 factors, and S&P returns in one dataframe\n",
    "#together_df = netreturns.merge(portfolios6, left_on='Month',right_on='Month').merge(ff_5_monthly, left_on='Month',right_on='Month')\n",
    "#not using the F-F research portfolios anymore\n",
    "together_df = netreturns.merge(ff_5_monthly, left_on='Month',right_on='Month')\n",
    "# merging stocks and SPX_TR in case we want to use SPX later\n",
    "stocks_spx = stocks.merge(spx_tr, left_on='date', right_on = 'date', how = 'left')\n",
    "stocks_spx.set_index(keys = 'date', inplace = True)"
   ]
  },
  {
   "cell_type": "code",
   "execution_count": 20,
   "metadata": {},
   "outputs": [
    {
     "data": {
      "text/html": [
       "<div>\n",
       "<style scoped>\n",
       "    .dataframe tbody tr th:only-of-type {\n",
       "        vertical-align: middle;\n",
       "    }\n",
       "\n",
       "    .dataframe tbody tr th {\n",
       "        vertical-align: top;\n",
       "    }\n",
       "\n",
       "    .dataframe thead th {\n",
       "        text-align: right;\n",
       "    }\n",
       "</style>\n",
       "<table border=\"1\" class=\"dataframe\">\n",
       "  <thead>\n",
       "    <tr style=\"text-align: right;\">\n",
       "      <th></th>\n",
       "      <th>Month</th>\n",
       "      <th>Size</th>\n",
       "      <th>Gross Profitability</th>\n",
       "      <th>Value</th>\n",
       "      <th>ValProf</th>\n",
       "      <th>Accruals</th>\n",
       "      <th>Net Issuance (rebal.:A)</th>\n",
       "      <th>Asset Growth</th>\n",
       "      <th>Investment</th>\n",
       "      <th>Piotroski's F-score</th>\n",
       "      <th>...</th>\n",
       "      <th>Short-run Reversals</th>\n",
       "      <th>Seasonality</th>\n",
       "      <th>Industry Relative Reversals (Low Volatility)</th>\n",
       "      <th>High-frequency Combo (w/ HS)</th>\n",
       "      <th>Mkt-RF</th>\n",
       "      <th>SMB</th>\n",
       "      <th>HML</th>\n",
       "      <th>RMW</th>\n",
       "      <th>CMA</th>\n",
       "      <th>RF</th>\n",
       "    </tr>\n",
       "  </thead>\n",
       "  <tbody>\n",
       "    <tr>\n",
       "      <th>0</th>\n",
       "      <td>1963-07</td>\n",
       "      <td>-0.633410</td>\n",
       "      <td>-1.635407</td>\n",
       "      <td>-2.726409</td>\n",
       "      <td>-1.690123</td>\n",
       "      <td>1.959792</td>\n",
       "      <td>2.992479</td>\n",
       "      <td>-1.384890</td>\n",
       "      <td>-3.240626</td>\n",
       "      <td>1.198153</td>\n",
       "      <td>...</td>\n",
       "      <td>-1.126186</td>\n",
       "      <td>0.823922</td>\n",
       "      <td>-1.535105</td>\n",
       "      <td>-0.654918</td>\n",
       "      <td>-0.39</td>\n",
       "      <td>-0.47</td>\n",
       "      <td>-0.83</td>\n",
       "      <td>0.66</td>\n",
       "      <td>-1.15</td>\n",
       "      <td>0.27</td>\n",
       "    </tr>\n",
       "    <tr>\n",
       "      <th>1</th>\n",
       "      <td>1963-08</td>\n",
       "      <td>-2.526682</td>\n",
       "      <td>2.418348</td>\n",
       "      <td>1.576539</td>\n",
       "      <td>0.455624</td>\n",
       "      <td>-1.563703</td>\n",
       "      <td>-1.844691</td>\n",
       "      <td>-1.914710</td>\n",
       "      <td>4.503954</td>\n",
       "      <td>-1.433401</td>\n",
       "      <td>...</td>\n",
       "      <td>-0.660084</td>\n",
       "      <td>1.248862</td>\n",
       "      <td>2.157044</td>\n",
       "      <td>1.314814</td>\n",
       "      <td>5.07</td>\n",
       "      <td>-0.79</td>\n",
       "      <td>1.67</td>\n",
       "      <td>0.39</td>\n",
       "      <td>-0.40</td>\n",
       "      <td>0.25</td>\n",
       "    </tr>\n",
       "    <tr>\n",
       "      <th>2</th>\n",
       "      <td>1963-09</td>\n",
       "      <td>0.819609</td>\n",
       "      <td>0.779151</td>\n",
       "      <td>-1.268680</td>\n",
       "      <td>2.072555</td>\n",
       "      <td>-2.173126</td>\n",
       "      <td>-0.756282</td>\n",
       "      <td>-2.203093</td>\n",
       "      <td>6.016384</td>\n",
       "      <td>-2.547664</td>\n",
       "      <td>...</td>\n",
       "      <td>-0.445100</td>\n",
       "      <td>2.059853</td>\n",
       "      <td>3.335102</td>\n",
       "      <td>1.959729</td>\n",
       "      <td>-1.57</td>\n",
       "      <td>-0.48</td>\n",
       "      <td>0.18</td>\n",
       "      <td>-0.76</td>\n",
       "      <td>0.24</td>\n",
       "      <td>0.27</td>\n",
       "    </tr>\n",
       "    <tr>\n",
       "      <th>3</th>\n",
       "      <td>1963-10</td>\n",
       "      <td>-3.000215</td>\n",
       "      <td>1.445213</td>\n",
       "      <td>-3.422705</td>\n",
       "      <td>2.559109</td>\n",
       "      <td>10.870540</td>\n",
       "      <td>-0.660985</td>\n",
       "      <td>0.746974</td>\n",
       "      <td>3.599053</td>\n",
       "      <td>1.659890</td>\n",
       "      <td>...</td>\n",
       "      <td>0.414621</td>\n",
       "      <td>-2.510030</td>\n",
       "      <td>3.016937</td>\n",
       "      <td>0.393899</td>\n",
       "      <td>2.53</td>\n",
       "      <td>-1.29</td>\n",
       "      <td>-0.10</td>\n",
       "      <td>2.75</td>\n",
       "      <td>-2.24</td>\n",
       "      <td>0.29</td>\n",
       "    </tr>\n",
       "    <tr>\n",
       "      <th>4</th>\n",
       "      <td>1963-11</td>\n",
       "      <td>-1.558811</td>\n",
       "      <td>-1.158534</td>\n",
       "      <td>0.779921</td>\n",
       "      <td>0.877660</td>\n",
       "      <td>-3.211279</td>\n",
       "      <td>-0.204558</td>\n",
       "      <td>3.671321</td>\n",
       "      <td>-1.514076</td>\n",
       "      <td>1.229205</td>\n",
       "      <td>...</td>\n",
       "      <td>4.526252</td>\n",
       "      <td>2.026108</td>\n",
       "      <td>4.905247</td>\n",
       "      <td>1.389760</td>\n",
       "      <td>-0.85</td>\n",
       "      <td>-0.84</td>\n",
       "      <td>1.71</td>\n",
       "      <td>-0.45</td>\n",
       "      <td>2.22</td>\n",
       "      <td>0.27</td>\n",
       "    </tr>\n",
       "  </tbody>\n",
       "</table>\n",
       "<p>5 rows × 31 columns</p>\n",
       "</div>"
      ],
      "text/plain": [
       "     Month      Size  Gross Profitability     Value   ValProf   Accruals  \\\n",
       "0  1963-07 -0.633410            -1.635407 -2.726409 -1.690123   1.959792   \n",
       "1  1963-08 -2.526682             2.418348  1.576539  0.455624  -1.563703   \n",
       "2  1963-09  0.819609             0.779151 -1.268680  2.072555  -2.173126   \n",
       "3  1963-10 -3.000215             1.445213 -3.422705  2.559109  10.870540   \n",
       "4  1963-11 -1.558811            -1.158534  0.779921  0.877660  -3.211279   \n",
       "\n",
       "   Net Issuance (rebal.:A)  Asset Growth  Investment  Piotroski's F-score  \\\n",
       "0                 2.992479     -1.384890   -3.240626             1.198153   \n",
       "1                -1.844691     -1.914710    4.503954            -1.433401   \n",
       "2                -0.756282     -2.203093    6.016384            -2.547664   \n",
       "3                -0.660985      0.746974    3.599053             1.659890   \n",
       "4                -0.204558      3.671321   -1.514076             1.229205   \n",
       "\n",
       "     ...     Short-run Reversals  Seasonality  \\\n",
       "0    ...               -1.126186     0.823922   \n",
       "1    ...               -0.660084     1.248862   \n",
       "2    ...               -0.445100     2.059853   \n",
       "3    ...                0.414621    -2.510030   \n",
       "4    ...                4.526252     2.026108   \n",
       "\n",
       "   Industry Relative Reversals (Low Volatility)  High-frequency Combo (w/ HS)  \\\n",
       "0                                     -1.535105                     -0.654918   \n",
       "1                                      2.157044                      1.314814   \n",
       "2                                      3.335102                      1.959729   \n",
       "3                                      3.016937                      0.393899   \n",
       "4                                      4.905247                      1.389760   \n",
       "\n",
       "     Mkt-RF       SMB       HML       RMW       CMA        RF  \n",
       "0     -0.39     -0.47     -0.83      0.66     -1.15      0.27  \n",
       "1      5.07     -0.79      1.67      0.39     -0.40      0.25  \n",
       "2     -1.57     -0.48      0.18     -0.76      0.24      0.27  \n",
       "3      2.53     -1.29     -0.10      2.75     -2.24      0.29  \n",
       "4     -0.85     -0.84      1.71     -0.45      2.22      0.27  \n",
       "\n",
       "[5 rows x 31 columns]"
      ]
     },
     "execution_count": 20,
     "metadata": {},
     "output_type": "execute_result"
    }
   ],
   "source": [
    "together_df.head()"
   ]
  },
  {
   "cell_type": "markdown",
   "metadata": {},
   "source": [
    "### Rep. Learning and Evaluation"
   ]
  },
  {
   "cell_type": "code",
   "execution_count": 175,
   "metadata": {},
   "outputs": [
    {
     "data": {
      "text/html": [
       "<div>\n",
       "<style scoped>\n",
       "    .dataframe tbody tr th:only-of-type {\n",
       "        vertical-align: middle;\n",
       "    }\n",
       "\n",
       "    .dataframe tbody tr th {\n",
       "        vertical-align: top;\n",
       "    }\n",
       "\n",
       "    .dataframe thead th {\n",
       "        text-align: right;\n",
       "    }\n",
       "</style>\n",
       "<table border=\"1\" class=\"dataframe\">\n",
       "  <thead>\n",
       "    <tr style=\"text-align: right;\">\n",
       "      <th>ticker</th>\n",
       "      <th>date</th>\n",
       "      <th>IBM</th>\n",
       "      <th>MMM</th>\n",
       "      <th>PG</th>\n",
       "      <th>UTX</th>\n",
       "      <th>XOM</th>\n",
       "    </tr>\n",
       "  </thead>\n",
       "  <tbody>\n",
       "    <tr>\n",
       "      <th>0</th>\n",
       "      <td>1963-07</td>\n",
       "      <td>-0.004011</td>\n",
       "      <td>0.039387</td>\n",
       "      <td>-0.027723</td>\n",
       "      <td>-0.038043</td>\n",
       "      <td>0.025594</td>\n",
       "    </tr>\n",
       "    <tr>\n",
       "      <th>1</th>\n",
       "      <td>1963-08</td>\n",
       "      <td>0.025892</td>\n",
       "      <td>0.064842</td>\n",
       "      <td>0.075085</td>\n",
       "      <td>0.038960</td>\n",
       "      <td>0.028877</td>\n",
       "    </tr>\n",
       "    <tr>\n",
       "      <th>2</th>\n",
       "      <td>1963-09</td>\n",
       "      <td>0.016301</td>\n",
       "      <td>-0.031746</td>\n",
       "      <td>0.003175</td>\n",
       "      <td>-0.055556</td>\n",
       "      <td>-0.041958</td>\n",
       "    </tr>\n",
       "    <tr>\n",
       "      <th>3</th>\n",
       "      <td>1963-10</td>\n",
       "      <td>0.092920</td>\n",
       "      <td>0.088115</td>\n",
       "      <td>0.008228</td>\n",
       "      <td>-0.011765</td>\n",
       "      <td>0.036496</td>\n",
       "    </tr>\n",
       "    <tr>\n",
       "      <th>4</th>\n",
       "      <td>1963-11</td>\n",
       "      <td>-0.015182</td>\n",
       "      <td>-0.009793</td>\n",
       "      <td>0.000000</td>\n",
       "      <td>0.107143</td>\n",
       "      <td>0.011268</td>\n",
       "    </tr>\n",
       "  </tbody>\n",
       "</table>\n",
       "</div>"
      ],
      "text/plain": [
       "ticker     date       IBM       MMM        PG       UTX       XOM\n",
       "0       1963-07 -0.004011  0.039387 -0.027723 -0.038043  0.025594\n",
       "1       1963-08  0.025892  0.064842  0.075085  0.038960  0.028877\n",
       "2       1963-09  0.016301 -0.031746  0.003175 -0.055556 -0.041958\n",
       "3       1963-10  0.092920  0.088115  0.008228 -0.011765  0.036496\n",
       "4       1963-11 -0.015182 -0.009793  0.000000  0.107143  0.011268"
      ]
     },
     "execution_count": 175,
     "metadata": {},
     "output_type": "execute_result"
    }
   ],
   "source": [
    "stocks.head()"
   ]
  },
  {
   "cell_type": "code",
   "execution_count": 176,
   "metadata": {},
   "outputs": [
    {
     "data": {
      "text/html": [
       "<div>\n",
       "<style scoped>\n",
       "    .dataframe tbody tr th:only-of-type {\n",
       "        vertical-align: middle;\n",
       "    }\n",
       "\n",
       "    .dataframe tbody tr th {\n",
       "        vertical-align: top;\n",
       "    }\n",
       "\n",
       "    .dataframe thead th {\n",
       "        text-align: right;\n",
       "    }\n",
       "</style>\n",
       "<table border=\"1\" class=\"dataframe\">\n",
       "  <thead>\n",
       "    <tr style=\"text-align: right;\">\n",
       "      <th></th>\n",
       "      <th>IBM</th>\n",
       "      <th>MMM</th>\n",
       "      <th>PG</th>\n",
       "      <th>UTX</th>\n",
       "      <th>XOM</th>\n",
       "      <th>SPX</th>\n",
       "    </tr>\n",
       "    <tr>\n",
       "      <th>date</th>\n",
       "      <th></th>\n",
       "      <th></th>\n",
       "      <th></th>\n",
       "      <th></th>\n",
       "      <th></th>\n",
       "      <th></th>\n",
       "    </tr>\n",
       "  </thead>\n",
       "  <tbody>\n",
       "    <tr>\n",
       "      <th>1963-07</th>\n",
       "      <td>-0.004011</td>\n",
       "      <td>0.039387</td>\n",
       "      <td>-0.027723</td>\n",
       "      <td>-0.038043</td>\n",
       "      <td>0.025594</td>\n",
       "      <td>-0.001821</td>\n",
       "    </tr>\n",
       "    <tr>\n",
       "      <th>1963-08</th>\n",
       "      <td>0.025892</td>\n",
       "      <td>0.064842</td>\n",
       "      <td>0.075085</td>\n",
       "      <td>0.038960</td>\n",
       "      <td>0.028877</td>\n",
       "      <td>0.053466</td>\n",
       "    </tr>\n",
       "    <tr>\n",
       "      <th>1963-09</th>\n",
       "      <td>0.016301</td>\n",
       "      <td>-0.031746</td>\n",
       "      <td>0.003175</td>\n",
       "      <td>-0.055556</td>\n",
       "      <td>-0.041958</td>\n",
       "      <td>-0.010402</td>\n",
       "    </tr>\n",
       "    <tr>\n",
       "      <th>1963-10</th>\n",
       "      <td>0.092920</td>\n",
       "      <td>0.088115</td>\n",
       "      <td>0.008228</td>\n",
       "      <td>-0.011765</td>\n",
       "      <td>0.036496</td>\n",
       "      <td>0.034825</td>\n",
       "    </tr>\n",
       "    <tr>\n",
       "      <th>1963-11</th>\n",
       "      <td>-0.015182</td>\n",
       "      <td>-0.009793</td>\n",
       "      <td>0.000000</td>\n",
       "      <td>0.107143</td>\n",
       "      <td>0.011268</td>\n",
       "      <td>-0.004487</td>\n",
       "    </tr>\n",
       "  </tbody>\n",
       "</table>\n",
       "</div>"
      ],
      "text/plain": [
       "              IBM       MMM        PG       UTX       XOM       SPX\n",
       "date                                                               \n",
       "1963-07 -0.004011  0.039387 -0.027723 -0.038043  0.025594 -0.001821\n",
       "1963-08  0.025892  0.064842  0.075085  0.038960  0.028877  0.053466\n",
       "1963-09  0.016301 -0.031746  0.003175 -0.055556 -0.041958 -0.010402\n",
       "1963-10  0.092920  0.088115  0.008228 -0.011765  0.036496  0.034825\n",
       "1963-11 -0.015182 -0.009793  0.000000  0.107143  0.011268 -0.004487"
      ]
     },
     "execution_count": 176,
     "metadata": {},
     "output_type": "execute_result"
    }
   ],
   "source": [
    "stocks_spx.head()"
   ]
  },
  {
   "cell_type": "code",
   "execution_count": 21,
   "metadata": {
    "collapsed": true
   },
   "outputs": [],
   "source": [
    "# Net/gross returns dataset\n",
    "# X_train = netreturns.drop(\"Month\", axis=1)\n",
    "X_train = grossreturns.drop(\"Month\", axis=1)\n",
    "\n",
    "\n",
    "# Fama-French 3 and 5 factor dataset\n",
    "X_ff5 = together_df[['SMB','HML','RMW','CMA',\"Mkt-RF\"]]\n",
    "X_ff3 = together_df[['SMB','HML','Mkt-RF']]\n",
    "\n",
    "# Research Portfolio Returns\n",
    "# y = together_df[['SMALL LoBM']]\n",
    "y = stocks[['XOM']]\n",
    "\n",
    "stocks = stocks.drop('date', axis=1)"
   ]
  },
  {
   "cell_type": "markdown",
   "metadata": {},
   "source": [
    "Fama-French 3 Factors"
   ]
  },
  {
   "cell_type": "code",
   "execution_count": 178,
   "metadata": {},
   "outputs": [
    {
     "data": {
      "text/plain": [
       "0.35509302224069583"
      ]
     },
     "execution_count": 178,
     "metadata": {},
     "output_type": "execute_result"
    }
   ],
   "source": [
    "LinRegression(X_ff3, y)"
   ]
  },
  {
   "cell_type": "code",
   "execution_count": 179,
   "metadata": {
    "collapsed": true
   },
   "outputs": [],
   "source": [
    "ff3_results = np.zeros(5)\n",
    "for i,s in enumerate(stocks.columns):\n",
    "    y = stocks[[s]]\n",
    "    ff3_results[i] = LinRegression(X_ff3, y)"
   ]
  },
  {
   "cell_type": "code",
   "execution_count": 180,
   "metadata": {},
   "outputs": [
    {
     "data": {
      "text/plain": [
       "array([0.34, 0.37, 0.25, 0.4 , 0.36])"
      ]
     },
     "execution_count": 180,
     "metadata": {},
     "output_type": "execute_result"
    }
   ],
   "source": [
    "np.round(ff3_results,2)"
   ]
  },
  {
   "cell_type": "markdown",
   "metadata": {},
   "source": [
    "Fama-French 5 Factors"
   ]
  },
  {
   "cell_type": "code",
   "execution_count": 181,
   "metadata": {},
   "outputs": [
    {
     "data": {
      "text/plain": [
       "0.3707420716286589"
      ]
     },
     "execution_count": 181,
     "metadata": {},
     "output_type": "execute_result"
    }
   ],
   "source": [
    "LinRegression(X_ff5, y)"
   ]
  },
  {
   "cell_type": "code",
   "execution_count": 182,
   "metadata": {
    "collapsed": true
   },
   "outputs": [],
   "source": [
    "ff5_results = np.zeros(5)\n",
    "for i,s in enumerate(stocks.columns):\n",
    "    y = stocks[[s]]\n",
    "    ff5_results[i] = LinRegression(X_ff5, y)"
   ]
  },
  {
   "cell_type": "code",
   "execution_count": 183,
   "metadata": {},
   "outputs": [
    {
     "data": {
      "text/plain": [
       "array([0.34936165, 0.40793743, 0.30023964, 0.41159455, 0.37074207])"
      ]
     },
     "execution_count": 183,
     "metadata": {},
     "output_type": "execute_result"
    }
   ],
   "source": [
    "ff5_results"
   ]
  },
  {
   "cell_type": "markdown",
   "metadata": {},
   "source": [
    "Linear PCA"
   ]
  },
  {
   "cell_type": "code",
   "execution_count": 184,
   "metadata": {},
   "outputs": [
    {
     "data": {
      "text/plain": [
       "0.04672794519830947"
      ]
     },
     "execution_count": 184,
     "metadata": {},
     "output_type": "execute_result"
    }
   ],
   "source": [
    "k = 5\n",
    "linpcaZ = pd.DataFrame(linPCA(X_train, X_train, n_components=k))\n",
    "LinRegression(linpcaZ, y, autocor = 2)"
   ]
  },
  {
   "cell_type": "code",
   "execution_count": 185,
   "metadata": {
    "collapsed": true
   },
   "outputs": [],
   "source": [
    "r_2 = np.zeros(24)\n",
    "for i in range(1, 25):\n",
    "    k=i\n",
    "    linpcaZ = pd.DataFrame(linPCA(X_train, X_train, n_components=k))\n",
    "    r_2[i-1]=LinRegression(linpcaZ, y, autocor = 2)\n",
    "r_2 = pd.DataFrame(r_2, columns=['r^2'])\n",
    "r_2['k'] = range(1,25)"
   ]
  },
  {
   "cell_type": "code",
   "execution_count": 186,
   "metadata": {},
   "outputs": [
    {
     "data": {
      "text/plain": [
       "<matplotlib.lines.Line2D at 0x1e4bef359b0>"
      ]
     },
     "execution_count": 186,
     "metadata": {},
     "output_type": "execute_result"
    },
    {
     "data": {
      "image/png": "[encoded data removed]",
      "text/plain": [
       "<Figure size 432x288 with 1 Axes>"
      ]
     },
     "metadata": {
      "needs_background": "light"
     },
     "output_type": "display_data"
    }
   ],
   "source": [
    "sns.lineplot(x='k',y='r^2',data=r_2)\n",
    "plt.axvline(x=7, color = 'r', linestyle = '--')\n",
    "plt.axvline(x=20, color = 'r', linestyle = '--')"
   ]
  },
  {
   "cell_type": "markdown",
   "metadata": {},
   "source": [
    "\"Knees\" in the plot at around $k=7$ and $k=20$."
   ]
  },
  {
   "cell_type": "code",
   "execution_count": 187,
   "metadata": {
    "collapsed": true
   },
   "outputs": [],
   "source": [
    "k = 7\n",
    "linPCA_k7_results = np.zeros(5)\n",
    "for i,s in enumerate(stocks.columns):\n",
    "    y = stocks[[s]]\n",
    "    linpcaZ = pd.DataFrame(linPCA(X_train, X_train, n_components=k))\n",
    "    linPCA_k7_results[i] = LinRegression(linpcaZ, y, autocor = 2)"
   ]
  },
  {
   "cell_type": "code",
   "execution_count": 188,
   "metadata": {},
   "outputs": [
    {
     "data": {
      "text/plain": [
       "array([0.1735926 , 0.09168991, 0.07303175, 0.13265433, 0.14085989])"
      ]
     },
     "execution_count": 188,
     "metadata": {},
     "output_type": "execute_result"
    }
   ],
   "source": [
    "linPCA_k7_results"
   ]
  },
  {
   "cell_type": "code",
   "execution_count": 189,
   "metadata": {
    "collapsed": true
   },
   "outputs": [],
   "source": [
    "k = 20\n",
    "linPCA_k20_results = np.zeros(5)\n",
    "for i,s in enumerate(stocks.columns):\n",
    "    y = stocks[[s]]\n",
    "    linpcaZ = pd.DataFrame(linPCA(X_train, X_train, n_components=k))\n",
    "    linPCA_k20_results[i] = LinRegression(linpcaZ, y, autocor = 2)"
   ]
  },
  {
   "cell_type": "code",
   "execution_count": 190,
   "metadata": {},
   "outputs": [
    {
     "data": {
      "text/plain": [
       "array([0.29, 0.22, 0.2 , 0.24, 0.24])"
      ]
     },
     "execution_count": 190,
     "metadata": {},
     "output_type": "execute_result"
    }
   ],
   "source": [
    "np.round(linPCA_k20_results,2)"
   ]
  },
  {
   "cell_type": "markdown",
   "metadata": {},
   "source": [
    "Kernel PCA"
   ]
  },
  {
   "cell_type": "code",
   "execution_count": 191,
   "metadata": {},
   "outputs": [
    {
     "data": {
      "text/plain": [
       "0.016011521530103767"
      ]
     },
     "execution_count": 191,
     "metadata": {},
     "output_type": "execute_result"
    }
   ],
   "source": [
    "# Polynomial kernel\n",
    "k = 7\n",
    "gamma = 1\n",
    "degree = 2\n",
    "poly_kpcaZ = pd.DataFrame(KPCA(X_train, X_train, n_components=k, kernel='poly', gamma = gamma, degree=degree))\n",
    "LinRegression(poly_kpcaZ, y)"
   ]
  },
  {
   "cell_type": "code",
   "execution_count": 192,
   "metadata": {
    "collapsed": true
   },
   "outputs": [],
   "source": [
    "gamma = 1\n",
    "degree = 2\n",
    "r_2 = np.zeros(24)\n",
    "for i in range(1, 25):\n",
    "    k=i\n",
    "    poly_kpcaZ = pd.DataFrame(KPCA(X_train, X_train, n_components=k, kernel='poly', gamma = gamma, degree=degree))\n",
    "    r_2[i-1]=LinRegression(poly_kpcaZ, y, autocor = 2)\n",
    "r_2 = pd.DataFrame(r_2, columns=['r^2'])\n",
    "r_2['k'] = range(1,25)"
   ]
  },
  {
   "cell_type": "code",
   "execution_count": 193,
   "metadata": {},
   "outputs": [
    {
     "data": {
      "text/plain": [
       "<matplotlib.axes._subplots.AxesSubplot at 0x1e4bfa79b70>"
      ]
     },
     "execution_count": 193,
     "metadata": {},
     "output_type": "execute_result"
    },
    {
     "data": {
      "image/png": "[encoded data removed]",
      "text/plain": [
       "<Figure size 432x288 with 1 Axes>"
      ]
     },
     "metadata": {
      "needs_background": "light"
     },
     "output_type": "display_data"
    }
   ],
   "source": [
    "sns.lineplot(x='k',y='r^2',data=r_2)"
   ]
  },
  {
   "cell_type": "markdown",
   "metadata": {},
   "source": [
    "With polynomial kernel w/ 2 degrees, steady increase with more components."
   ]
  },
  {
   "cell_type": "code",
   "execution_count": 194,
   "metadata": {
    "collapsed": true
   },
   "outputs": [],
   "source": [
    "k=24\n",
    "degree = 2\n",
    "r_2 = np.zeros(50)\n",
    "vals= np.linspace(-1, 1, 50)\n",
    "for i, v in enumerate(vals):\n",
    "    gamma = v\n",
    "    poly_kpcaZ = pd.DataFrame(KPCA(X_train, X_train, n_components=k, kernel='poly', gamma = gamma, degree=degree))\n",
    "    r_2[i]=LinRegression(poly_kpcaZ, y, autocor = 2)\n",
    "r_2 = pd.DataFrame(r_2, columns=['r^2'])\n",
    "r_2['gamma'] = vals"
   ]
  },
  {
   "cell_type": "code",
   "execution_count": 195,
   "metadata": {},
   "outputs": [
    {
     "data": {
      "image/png": "[encoded data removed]",
      "text/plain": [
       "<Figure size 432x288 with 1 Axes>"
      ]
     },
     "metadata": {
      "needs_background": "light"
     },
     "output_type": "display_data"
    }
   ],
   "source": [
    "sns.lineplot(x='gamma',y='r^2',data=r_2);"
   ]
  },
  {
   "cell_type": "markdown",
   "metadata": {},
   "source": [
    "Gamma should be positive, but as close to 0 as possible."
   ]
  },
  {
   "cell_type": "code",
   "execution_count": 196,
   "metadata": {},
   "outputs": [
    {
     "name": "stdout",
     "output_type": "stream",
     "text": [
      "[0.289 0.219 0.199 0.246 0.242]\n"
     ]
    }
   ],
   "source": [
    "k = 20\n",
    "gamma = 0.00001\n",
    "degree = 2\n",
    "KPCA_poly_k20_results = np.zeros(5)\n",
    "for i,s in enumerate(stocks.columns):\n",
    "    y = stocks[[s]]\n",
    "    kpcaZ = pd.DataFrame(KPCA(X_train, X_train, n_components=k, gamma = gamma, kernel = 'poly', degree = degree))\n",
    "    KPCA_poly_k20_results[i] = LinRegression(kpcaZ, y)\n",
    "print(np.round(KPCA_poly_k20_results,3))"
   ]
  },
  {
   "cell_type": "code",
   "execution_count": 197,
   "metadata": {},
   "outputs": [
    {
     "name": "stdout",
     "output_type": "stream",
     "text": [
      "[0.28 0.21 0.2  0.25 0.22]\n"
     ]
    }
   ],
   "source": [
    "# RBF Kernel\n",
    "k = 20\n",
    "gamma = 0.0001\n",
    "rbf_kpcaZ = pd.DataFrame(KPCA(X_train, X_train, n_components=k, kernel='rbf', gamma = gamma))\n",
    "LinRegression(rbf_kpcaZ, y)\n",
    "KPCA_k20_results = np.zeros(5)\n",
    "for i,s in enumerate(stocks.columns):\n",
    "    y = stocks[[s]]\n",
    "    kpcaZ = pd.DataFrame(KPCA(X_train, X_train, n_components=k, gamma = gamma, kernel = 'rbf'))\n",
    "    KPCA_k20_results[i] = LinRegression(kpcaZ, y)\n",
    "print(np.round(KPCA_k20_results,2))"
   ]
  },
  {
   "cell_type": "markdown",
   "metadata": {},
   "source": [
    "Isomap"
   ]
  },
  {
   "cell_type": "code",
   "execution_count": 198,
   "metadata": {},
   "outputs": [
    {
     "data": {
      "text/plain": [
       "0.022929181978184054"
      ]
     },
     "execution_count": 198,
     "metadata": {},
     "output_type": "execute_result"
    }
   ],
   "source": [
    "k_comp = 4\n",
    "k_nn = 5\n",
    "isomapZ = pd.DataFrame(isomap(X_train, X_train, n_components=k_comp, n_neighbors=k_nn))\n",
    "LinRegression(isomapZ, y)"
   ]
  },
  {
   "cell_type": "code",
   "execution_count": 199,
   "metadata": {
    "collapsed": true
   },
   "outputs": [],
   "source": [
    "k_nn = 5\n",
    "r_2 = np.zeros(24)\n",
    "for i in range(1, 25):\n",
    "    k_comp=i\n",
    "    isomapZ = pd.DataFrame(isomap(X_train, X_train, n_components=k_comp, n_neighbors=k_nn))\n",
    "    r_2[i-1]=LinRegression(isomapZ, y, autocor = 2)\n",
    "r_2 = pd.DataFrame(r_2, columns=['r^2'])\n",
    "r_2['k'] = range(1,25)"
   ]
  },
  {
   "cell_type": "code",
   "execution_count": 200,
   "metadata": {},
   "outputs": [
    {
     "data": {
      "image/png": "[encoded data removed]",
      "text/plain": [
       "<Figure size 432x288 with 1 Axes>"
      ]
     },
     "metadata": {
      "needs_background": "light"
     },
     "output_type": "display_data"
    }
   ],
   "source": [
    "sns.lineplot(x='k',y='r^2',data=r_2)\n",
    "plt.axvline(x=5, color = 'r', linestyle = '--')\n",
    "plt.xlabel('k (# components)');"
   ]
  },
  {
   "cell_type": "markdown",
   "metadata": {},
   "source": [
    "Big gains at $k=5$, linear thereafter."
   ]
  },
  {
   "cell_type": "code",
   "execution_count": 201,
   "metadata": {
    "collapsed": true
   },
   "outputs": [],
   "source": [
    "k_comp = 5\n",
    "r_2 = np.zeros(50)\n",
    "for i in range(1, 51):\n",
    "    k_nn=i\n",
    "    isomapZ = pd.DataFrame(isomap(X_train, X_train, n_components=k_comp, n_neighbors=k_nn))\n",
    "    r_2[i-1]=LinRegression(isomapZ, y, autocor = 2)\n",
    "r_2 = pd.DataFrame(r_2, columns=['r^2'])\n",
    "r_2['k'] = range(1,51)"
   ]
  },
  {
   "cell_type": "code",
   "execution_count": 202,
   "metadata": {},
   "outputs": [
    {
     "data": {
      "image/png": "[encoded data removed]",
      "text/plain": [
       "<Figure size 432x288 with 1 Axes>"
      ]
     },
     "metadata": {
      "needs_background": "light"
     },
     "output_type": "display_data"
    }
   ],
   "source": [
    "sns.lineplot(x='k',y='r^2',data=r_2)\n",
    "plt.axvline(x=5, color = 'r', linestyle = '--')\n",
    "plt.xlabel('k (# nearest neighbors)');"
   ]
  },
  {
   "cell_type": "markdown",
   "metadata": {},
   "source": [
    "Again, big gains at $k=5$, unclear after that."
   ]
  },
  {
   "cell_type": "code",
   "execution_count": 203,
   "metadata": {},
   "outputs": [
    {
     "data": {
      "text/plain": [
       "array([0.24586509, 0.16389981, 0.15618824, 0.20639306, 0.15787926])"
      ]
     },
     "execution_count": 203,
     "metadata": {},
     "output_type": "execute_result"
    }
   ],
   "source": [
    "k = 20\n",
    "nebs = 47\n",
    "isomap_k7_results = np.zeros(5)\n",
    "for i,s in enumerate(stocks.columns):\n",
    "    y = stocks[[s]]\n",
    "    isomapZ = pd.DataFrame(isomap(X_train, X_train, n_components=k, n_neighbors = nebs))\n",
    "    isomap_k7_results[i] = LinRegression(isomapZ, y)\n",
    "isomap_k7_results"
   ]
  },
  {
   "cell_type": "markdown",
   "metadata": {},
   "source": [
    "Spectral Embedding"
   ]
  },
  {
   "cell_type": "code",
   "execution_count": 204,
   "metadata": {},
   "outputs": [
    {
     "data": {
      "text/plain": [
       "0.08003289094716293"
      ]
     },
     "execution_count": 204,
     "metadata": {},
     "output_type": "execute_result"
    }
   ],
   "source": [
    "k_comp = 24\n",
    "k_nn = 6\n",
    "affinity = 'nearest_neighbors'\n",
    "spectralZ = pd.DataFrame(spectral(X_train, n_components=k_comp, n_neighbors=k_nn, affinity=affinity))\n",
    "LinRegression(spectralZ, y)"
   ]
  },
  {
   "cell_type": "code",
   "execution_count": 205,
   "metadata": {
    "collapsed": true
   },
   "outputs": [],
   "source": [
    "k_nn= 6\n",
    "affinity = 'nearest_neighbors'\n",
    "r_2 = np.zeros(24)\n",
    "for i in range(1, 25):\n",
    "    k_comp=i\n",
    "    spectralZ = pd.DataFrame(spectral(X_train, n_components=k_comp, n_neighbors=k_nn, affinity = affinity))\n",
    "    r_2[i-1]=LinRegression(spectralZ, y, autocor = 2)\n",
    "r_2 = pd.DataFrame(r_2, columns=['r^2'])\n",
    "r_2['k'] = range(1,25)"
   ]
  },
  {
   "cell_type": "code",
   "execution_count": 206,
   "metadata": {},
   "outputs": [
    {
     "data": {
      "image/png": "[encoded data removed]",
      "text/plain": [
       "<Figure size 432x288 with 1 Axes>"
      ]
     },
     "metadata": {
      "needs_background": "light"
     },
     "output_type": "display_data"
    }
   ],
   "source": [
    "sns.lineplot(x='k',y='r^2',data=r_2);\n",
    "plt.xlabel('k (# components)');"
   ]
  },
  {
   "cell_type": "markdown",
   "metadata": {},
   "source": [
    "Steady linear increase with increasing components."
   ]
  },
  {
   "cell_type": "code",
   "execution_count": 207,
   "metadata": {},
   "outputs": [
    {
     "name": "stderr",
     "output_type": "stream",
     "text": [
      "C:\\ProgramData\\Anaconda3\\lib\\site-packages\\sklearn\\manifold\\spectral_embedding_.py:234: UserWarning: Graph is not fully connected, spectral embedding may not work as expected.\n",
      "  warnings.warn(\"Graph is not fully connected, spectral embedding\"\n"
     ]
    }
   ],
   "source": [
    "k_comp = 10\n",
    "affinity = 'nearest_neighbors'\n",
    "r_2 = np.zeros(50)\n",
    "for i in range(2,51):\n",
    "    k_nn=i\n",
    "    spectralZ = pd.DataFrame(spectral(X_train, n_components=k_comp, n_neighbors=k_nn, affinity = affinity))\n",
    "    r_2[i-1]=LinRegression(spectralZ, y, autocor = 2)\n",
    "r_2 = pd.DataFrame(r_2, columns=['r^2'])\n",
    "r_2['k'] = range(1,51)"
   ]
  },
  {
   "cell_type": "code",
   "execution_count": 208,
   "metadata": {},
   "outputs": [
    {
     "data": {
      "image/png": "[encoded data removed]",
      "text/plain": [
       "<Figure size 432x288 with 1 Axes>"
      ]
     },
     "metadata": {
      "needs_background": "light"
     },
     "output_type": "display_data"
    }
   ],
   "source": [
    "sns.lineplot(x='k',y='r^2',data=r_2);\n",
    "plt.xlabel('k (# nearest neighbors)');\n",
    "plt.axvline(x=2, color = 'r', linestyle = '--');"
   ]
  },
  {
   "cell_type": "markdown",
   "metadata": {},
   "source": [
    "Stark gains at $k=2$; highly variable after that, but general trend upwards"
   ]
  },
  {
   "cell_type": "code",
   "execution_count": 209,
   "metadata": {},
   "outputs": [
    {
     "name": "stdout",
     "output_type": "stream",
     "text": [
      "[0.1  0.08 0.08 0.09 0.06]\n"
     ]
    }
   ],
   "source": [
    "k_comp= 20\n",
    "k_nn = 3\n",
    "affinity = 'nearest_neighbors'\n",
    "spectral_results = np.zeros(5)\n",
    "for i,s in enumerate(stocks.columns):\n",
    "    y = stocks[[s]]\n",
    "    spectralZ = pd.DataFrame(spectral(X_train, n_components=k_comp, n_neighbors=k_nn, affinity = affinity))\n",
    "    spectral_results[i] = LinRegression(spectralZ, y)\n",
    "print(np.round(spectral_results,2))"
   ]
  },
  {
   "cell_type": "markdown",
   "metadata": {},
   "source": [
    "Training dev test split. 3 methods:\n",
    "- Direct in time (first half is train, next quarter dev, last quarter test)\n",
    "- Time, but split 75%/25%. Last quarter is test, train/dev is random split of first three quarters\n",
    "- Completely random"
   ]
  },
  {
   "cell_type": "code",
   "execution_count": 23,
   "metadata": {
    "collapsed": true
   },
   "outputs": [],
   "source": [
    "#Split in time\n",
    "X_train_time = together_df.iloc[:303,:]\n",
    "X_dev_time = together_df.iloc[303:455,:]\n",
    "X_test_time = together_df.iloc[455:,:]\n",
    "y_train_time = stocks_spx.iloc[:303,:]\n",
    "y_dev_time = stocks_spx.iloc[303:455,:]\n",
    "y_test_time = stocks_spx.iloc[455:,:]"
   ]
  },
  {
   "cell_type": "code",
   "execution_count": 24,
   "metadata": {
    "collapsed": true
   },
   "outputs": [],
   "source": [
    "#Split in time, with train/val split randomly\n",
    "np.random.seed(2019)\n",
    "X_train_time_rand = together_df.iloc[:455,:]\n",
    "y_train_time_rand = stocks_spx.iloc[:455,:]\n",
    "idx_train, idx_val = np.split(np.random.permutation(len(X_train_time_rand)), [int((2/3)*len(X_train_time_rand))])\n",
    "X_train_time_rand, X_dev_time_rand = X_train_time_rand.iloc[idx_train,:], X_train_time_rand.iloc[idx_val,:]\n",
    "y_train_time_rand, y_dev_time_rand = y_train_time_rand.iloc[idx_train,:], y_train_time_rand.iloc[idx_val,:]\n",
    "X_test_time_rand = together_df.iloc[455:,:]\n",
    "y_test_time_rand = stocks_spx.iloc[455:,:]"
   ]
  },
  {
   "cell_type": "code",
   "execution_count": 25,
   "metadata": {
    "collapsed": true
   },
   "outputs": [],
   "source": [
    "#Random split\n",
    "idx_train, idx_val, idx_test = np.split(np.random.permutation(len(together_df)),\n",
    "                                        [int(.5*len(together_df)),int(.75*len(together_df))])\n",
    "X_train_rand, y_train_rand = together_df.iloc[idx_train,:], stocks_spx.iloc[idx_train,:]\n",
    "X_dev_rand, y_dev_rand = together_df.iloc[idx_val,:], stocks_spx.iloc[idx_val,:]\n",
    "X_test_rand, y_test_rand = together_df.iloc[idx_test,:], stocks_spx.iloc[idx_test,:]"
   ]
  },
  {
   "cell_type": "markdown",
   "metadata": {},
   "source": [
    "Dimensionality reduction techniques: linear PCA as baseline, kernel PCA, and Isomap. Start by tuning hyperparameters for each method, then once we have tuned hyperparameters, get R^2 for linear regression using combined train/dev set for fitting. Then, do same for F-F model (using same train/test split), and compare."
   ]
  },
  {
   "cell_type": "markdown",
   "metadata": {},
   "source": [
    "Approach for linear PCA: 1. fit Linear PCA to training set 2. return learned representation of dev set 3. run linear regression using learned dev set and Y 4. return R^2. Note that, for linear regression, the linear regression model is fit to the dev set, not the training set."
   ]
  },
  {
   "cell_type": "markdown",
   "metadata": {},
   "source": [
    "TODO:\n",
    "- hyperparameter tuning plots for all methods (in time) [__DONE__]\n",
    "- final results table (train + dev, test)"
   ]
  },
  {
   "cell_type": "code",
   "execution_count": 27,
   "metadata": {},
   "outputs": [
    {
     "name": "stderr",
     "output_type": "stream",
     "text": [
      "/Users/josephdenby/anaconda/lib/python3.6/site-packages/scipy/linalg/basic.py:1226: RuntimeWarning: internal gelsd driver lwork query error, required iwork dimension not returned. This is likely the result of LAPACK bug 0038, fixed in LAPACK 3.2.2 (released July 21, 2010). Falling back to 'gelss' driver.\n",
      "  warnings.warn(mesg, RuntimeWarning)\n"
     ]
    },
    {
     "name": "stdout",
     "output_type": "stream",
     "text": [
      "         IBM       MMM        PG       UTX       XOM       SPX\n",
      "K                                                             \n",
      "2   0.180440  0.017037  0.021989  0.064478  0.050902  0.211642\n",
      "3   0.186670  0.044288  0.048825  0.064890  0.117557  0.237577\n",
      "4   0.210699  0.055649  0.051160  0.070871  0.125498  0.251051\n",
      "5   0.211130  0.057485  0.055826  0.098019  0.140880  0.307660\n",
      "6   0.218408  0.071398  0.057363  0.135310  0.149585  0.307667\n",
      "7   0.223897  0.117533  0.084407  0.194367  0.220926  0.397046\n",
      "8   0.248113  0.118596  0.092812  0.235532  0.231644  0.448900\n",
      "9   0.261566  0.128009  0.094646  0.247252  0.241462  0.465921\n",
      "10  0.263628  0.138741  0.097608  0.293313  0.243703  0.469251\n",
      "11  0.265440  0.140424  0.126536  0.310713  0.258452  0.471931\n",
      "12  0.269403  0.173384  0.131553  0.311528  0.277607  0.473927\n",
      "13  0.271462  0.243271  0.146420  0.363418  0.277792  0.512365\n",
      "14  0.279928  0.243431  0.148124  0.366195  0.278073  0.546265\n",
      "15  0.283381  0.243931  0.186125  0.371575  0.303260  0.547622\n",
      "16  0.390356  0.264849  0.186253  0.372991  0.318895  0.564635\n",
      "17  0.391492  0.293195  0.204297  0.374708  0.318897  0.565582\n",
      "18  0.391922  0.335915  0.217949  0.376054  0.329638  0.568745\n",
      "19  0.396205  0.336670  0.224907  0.384156  0.333703  0.572801\n",
      "20  0.396473  0.338829  0.233127  0.390532  0.343603  0.573345\n"
     ]
    }
   ],
   "source": [
    "#Split in time\n",
    "X_train = X_train_time.drop(['Month','SMB','HML','RMW','CMA',\"Mkt-RF\",'RF'],axis=1)\n",
    "X_dev = X_dev_time.drop(['Month','SMB','HML','RMW','CMA',\"Mkt-RF\",'RF'],axis=1)\n",
    "ks = np.arange(2,21)\n",
    "linPCA_results = np.zeros((len(ks),6))\n",
    "for k in ks:\n",
    "    linpcaZ = pd.DataFrame(linPCA(X_train, X_dev, n_components=k))\n",
    "    for i,s in enumerate(y_train_time.columns):\n",
    "        y = y_dev_time[[s]]\n",
    "        linPCA_results[k-2,i] = LinRegression(linpcaZ, y)\n",
    "pca = pd.DataFrame(linPCA_results, index = ks, columns = y_train_time.columns.values).rename_axis('K')\n",
    "print(pca)"
   ]
  },
  {
   "cell_type": "code",
   "execution_count": 214,
   "metadata": {},
   "outputs": [
    {
     "data": {
      "image/png": "[encoded data removed]",
      "text/plain": [
       "<Figure size 432x288 with 1 Axes>"
      ]
     },
     "metadata": {
      "needs_background": "light"
     },
     "output_type": "display_data"
    }
   ],
   "source": [
    "plotPCA=pca.reset_index()\n",
    "plotPCA = pd.melt(plotPCA, id_vars=['K'], value_vars=['IBM', 'MMM','PG','UTX','XOM','SPX'],\n",
    "                      var_name='Ticker',value_name = 'R^2')\n",
    "ax=sns.lineplot(x='K',y='R^2',hue = 'Ticker',data=plotPCA);\n",
    "plt.axvline(x=14, color = 'r', linestyle = '--');\n",
    "plt.savefig('linPCA_tune.png')"
   ]
  },
  {
   "cell_type": "markdown",
   "metadata": {},
   "source": [
    "FINAL IN TIME LIN PCA"
   ]
  },
  {
   "cell_type": "code",
   "execution_count": 215,
   "metadata": {},
   "outputs": [
    {
     "name": "stdout",
     "output_type": "stream",
     "text": [
      "                IBM       MMM        PG       UTX       XOM       SPX\n",
      "LinearPCA  0.450764  0.182046  0.233613  0.382891  0.209839  0.570158\n"
     ]
    }
   ],
   "source": [
    "#Split in time\n",
    "X_train = X_train_time.drop(['Month','SMB','HML','RMW','CMA',\"Mkt-RF\",'RF'],axis=1).append(X_dev_time.drop(['Month','SMB','HML','RMW','CMA',\"Mkt-RF\",'RF'],axis=1))\n",
    "X_dev = X_test_time.drop(['Month','SMB','HML','RMW','CMA',\"Mkt-RF\",'RF'],axis=1)\n",
    "linPCA_results = np.zeros((1,6))\n",
    "k=14\n",
    "\n",
    "linpcaZ = pd.DataFrame(linPCA(X_train, X_dev, n_components=k))\n",
    "for i,s in enumerate(y_train_time.columns):\n",
    "    y = y_test_time[[s]]\n",
    "    linPCA_results[0,i] = LinRegression(linpcaZ, y)\n",
    "pca = pd.DataFrame(linPCA_results,index = ['LinearPCA'], columns = y_test_time.columns.values)\n",
    "print(pca)"
   ]
  },
  {
   "cell_type": "code",
   "execution_count": 216,
   "metadata": {},
   "outputs": [
    {
     "name": "stdout",
     "output_type": "stream",
     "text": [
      "         IBM       MMM        PG       UTX       XOM       SPX\n",
      "K                                                             \n",
      "2   0.089650  0.111829  0.000442  0.040101  0.002195  0.087573\n",
      "3   0.118542  0.159121  0.028998  0.090184  0.013194  0.137275\n",
      "4   0.123375  0.160852  0.035293  0.117458  0.015832  0.150271\n",
      "5   0.123847  0.161560  0.036698  0.122352  0.029667  0.159272\n",
      "6   0.150542  0.166679  0.037194  0.140758  0.140821  0.256547\n",
      "7   0.160150  0.181210  0.037197  0.146834  0.152690  0.297906\n",
      "8   0.186803  0.274704  0.191370  0.203797  0.298321  0.479742\n",
      "9   0.200636  0.282610  0.195510  0.244517  0.315887  0.497298\n",
      "10  0.206007  0.284275  0.230086  0.259247  0.328223  0.500645\n",
      "11  0.207447  0.284277  0.230856  0.276447  0.362825  0.503228\n",
      "12  0.207447  0.293034  0.269147  0.278122  0.366971  0.506046\n",
      "13  0.207579  0.296092  0.269605  0.278122  0.367150  0.509841\n",
      "14  0.212271  0.310326  0.277546  0.294610  0.370737  0.537052\n",
      "15  0.212999  0.312221  0.282235  0.295952  0.386677  0.540709\n",
      "16  0.239569  0.314150  0.309530  0.296420  0.386910  0.545879\n",
      "17  0.355823  0.327863  0.342926  0.306863  0.395328  0.567373\n",
      "18  0.372883  0.334051  0.343466  0.306874  0.404839  0.569249\n",
      "19  0.373889  0.343008  0.423973  0.307877  0.428409  0.580250\n",
      "20  0.399055  0.367482  0.426167  0.311256  0.432145  0.580434\n"
     ]
    }
   ],
   "source": [
    "#Split in time, with train/val split randomly\n",
    "X_train = X_train_time_rand.drop(['Month','SMB','HML','RMW','CMA',\"Mkt-RF\",'RF'],axis=1)\n",
    "X_dev = X_dev_time_rand.drop(['Month','SMB','HML','RMW','CMA',\"Mkt-RF\",'RF'],axis=1)\n",
    "ks = np.arange(2,21)\n",
    "linPCA_results = np.zeros((len(ks),6))\n",
    "for k in ks:\n",
    "    linpcaZ = pd.DataFrame(linPCA(X_train, X_dev, n_components=k))\n",
    "    for i,s in enumerate(y_train_time_rand.columns):\n",
    "        y = y_dev_time_rand[[s]]\n",
    "        linPCA_results[k-2,i] = LinRegression(linpcaZ, y)\n",
    "print(pd.DataFrame(linPCA_results, index = ks, columns = y_train_time_rand.columns.values).rename_axis('K'))"
   ]
  },
  {
   "cell_type": "code",
   "execution_count": 217,
   "metadata": {},
   "outputs": [
    {
     "name": "stdout",
     "output_type": "stream",
     "text": [
      "         IBM       MMM        PG       UTX       XOM       SPX\n",
      "K                                                             \n",
      "2   0.141900  0.040913  0.107862  0.125023  0.042647  0.102466\n",
      "3   0.158416  0.052633  0.126219  0.160716  0.042663  0.103840\n",
      "4   0.170918  0.053268  0.157808  0.194193  0.098964  0.142630\n",
      "5   0.233233  0.058825  0.164317  0.195394  0.125747  0.142783\n",
      "6   0.253479  0.061239  0.164978  0.195934  0.135089  0.155580\n",
      "7   0.284037  0.111389  0.188968  0.222852  0.174448  0.291593\n",
      "8   0.298293  0.113863  0.191788  0.230961  0.174553  0.299150\n",
      "9   0.394266  0.136113  0.199482  0.262370  0.185274  0.333198\n",
      "10  0.401252  0.139410  0.204923  0.268954  0.185442  0.333200\n",
      "11  0.404045  0.140129  0.206207  0.269800  0.187076  0.333409\n",
      "12  0.420606  0.142191  0.211599  0.287617  0.191708  0.335036\n",
      "13  0.427716  0.145968  0.222451  0.289721  0.192064  0.340309\n",
      "14  0.431414  0.157673  0.245064  0.294189  0.200971  0.374770\n",
      "15  0.431445  0.159176  0.247708  0.297386  0.202669  0.377386\n",
      "16  0.439850  0.165687  0.248089  0.308648  0.207294  0.409749\n",
      "17  0.441506  0.165992  0.251430  0.310506  0.221957  0.413751\n",
      "18  0.456274  0.170729  0.251998  0.310597  0.231832  0.413830\n",
      "19  0.469548  0.177246  0.251998  0.312407  0.244032  0.421634\n",
      "20  0.477728  0.220433  0.255396  0.327482  0.277268  0.426099\n"
     ]
    }
   ],
   "source": [
    "#Random split\n",
    "X_train = X_train_rand.drop(['Month','SMB','HML','RMW','CMA',\"Mkt-RF\",'RF'],axis=1)\n",
    "X_dev = X_dev_rand.drop(['Month','SMB','HML','RMW','CMA',\"Mkt-RF\",'RF'],axis=1)\n",
    "ks = np.arange(2,21)\n",
    "linPCA_results = np.zeros((len(ks),6))\n",
    "for k in ks:\n",
    "    linpcaZ = pd.DataFrame(linPCA(X_train, X_dev, n_components=k))\n",
    "    for i,s in enumerate(y_train_rand.columns):\n",
    "        y = y_dev_rand[[s]]\n",
    "        linPCA_results[k-2,i] = LinRegression(linpcaZ, y)\n",
    "print(pd.DataFrame(linPCA_results, index = ks, columns = y_train_rand.columns.values).rename_axis('K'))"
   ]
  },
  {
   "cell_type": "markdown",
   "metadata": {},
   "source": [
    "RBF KPCA"
   ]
  },
  {
   "cell_type": "code",
   "execution_count": 222,
   "metadata": {},
   "outputs": [
    {
     "name": "stdout",
     "output_type": "stream",
     "text": [
      "         IBM       MMM        PG       UTX       XOM       SPX\n",
      "K                                                             \n",
      "2   0.178081  0.026836  0.023811  0.077306  0.047613  0.220907\n",
      "3   0.182677  0.052134  0.049928  0.077546  0.110919  0.236106\n",
      "4   0.222608  0.066336  0.056958  0.077836  0.118277  0.257074\n",
      "5   0.223482  0.066368  0.068955  0.108816  0.127003  0.324890\n",
      "6   0.247573  0.073824  0.069213  0.165095  0.130689  0.325050\n",
      "7   0.254743  0.119474  0.106776  0.216350  0.212438  0.400510\n",
      "8   0.267552  0.119661  0.119017  0.252875  0.220354  0.457877\n",
      "9   0.268140  0.126343  0.120225  0.253247  0.230863  0.461852\n",
      "10  0.273381  0.135555  0.120722  0.303631  0.231298  0.470341\n",
      "11  0.274100  0.144456  0.151697  0.304316  0.245994  0.472762\n",
      "12  0.284226  0.169457  0.153133  0.311743  0.251447  0.476126\n",
      "13  0.289977  0.172641  0.157131  0.327685  0.265912  0.476497\n",
      "14  0.297365  0.241379  0.168478  0.383242  0.266718  0.508145\n",
      "15  0.297589  0.249095  0.171021  0.395085  0.266949  0.573072\n",
      "16  0.299527  0.249095  0.210077  0.396454  0.295614  0.573220\n",
      "17  0.316164  0.250709  0.329119  0.399890  0.303265  0.575852\n",
      "18  0.382599  0.296660  0.354817  0.401960  0.311781  0.587519\n",
      "19  0.383397  0.325680  0.366869  0.403037  0.322488  0.589497\n",
      "20  0.398221  0.326856  0.380066  0.404606  0.323692  0.591617\n"
     ]
    }
   ],
   "source": [
    "#Split in time\n",
    "X_train = X_train_time.drop(['Month','SMB','HML','RMW','CMA',\"Mkt-RF\",'RF'],axis=1)\n",
    "X_dev = X_dev_time.drop(['Month','SMB','HML','RMW','CMA',\"Mkt-RF\",'RF'],axis=1)\n",
    "ks = np.arange(2,21)\n",
    "kernelPCA_results = np.zeros((len(ks),6))\n",
    "gamma = .0001\n",
    "for k in ks:\n",
    "    rbf_kpcaZ = pd.DataFrame(KPCA(X_train, X_dev, n_components=k, kernel='rbf', gamma = gamma))\n",
    "    for i,s in enumerate(y_train_time.columns):\n",
    "        y = y_dev_time[[s]]\n",
    "        kernelPCA_results[k-2,i] = LinRegression(rbf_kpcaZ, y)\n",
    "RBFKPCA = pd.DataFrame(kernelPCA_results, index = ks, columns = y_train_time.columns.values).rename_axis('K')\n",
    "print(RBFKPCA)"
   ]
  },
  {
   "cell_type": "code",
   "execution_count": 225,
   "metadata": {},
   "outputs": [
    {
     "data": {
      "image/png": "[encoded data removed]",
      "text/plain": [
       "<Figure size 432x288 with 1 Axes>"
      ]
     },
     "metadata": {
      "needs_background": "light"
     },
     "output_type": "display_data"
    }
   ],
   "source": [
    "plotRBFKPCA=RBFKPCA.reset_index()\n",
    "plotRBFKPCA = pd.melt(plotRBFKPCA, id_vars=['K'], value_vars=['IBM', 'MMM','PG','UTX','XOM','SPX'],\n",
    "                      var_name='Ticker',value_name = 'R^2')\n",
    "ax=sns.lineplot(x='K',y='R^2',hue = 'Ticker',data=plotRBFKPCA);\n",
    "plt.axvline(x=17, color = 'r', linestyle = '--');\n",
    "plt.savefig('KPCA_tune.png')"
   ]
  },
  {
   "cell_type": "markdown",
   "metadata": {},
   "source": [
    "POLY KPCA"
   ]
  },
  {
   "cell_type": "code",
   "execution_count": 30,
   "metadata": {},
   "outputs": [
    {
     "name": "stdout",
     "output_type": "stream",
     "text": [
      "         IBM       MMM        PG       UTX       XOM       SPX\n",
      "K                                                             \n",
      "2   0.179982  0.016748  0.021872  0.064377  0.051091  0.210423\n",
      "3   0.186881  0.043611  0.048736  0.064699  0.116638  0.237973\n",
      "4   0.211845  0.055584  0.050890  0.069474  0.125768  0.252618\n",
      "5   0.212071  0.057732  0.054326  0.102372  0.141740  0.305891\n",
      "6   0.219931  0.068117  0.056961  0.130075  0.146455  0.306715\n",
      "7   0.225953  0.114534  0.085823  0.187533  0.219580  0.394515\n",
      "8   0.251536  0.115704  0.097008  0.225897  0.228728  0.450228\n",
      "9   0.261852  0.124263  0.099216  0.232125  0.239305  0.462926\n",
      "10  0.266166  0.136245  0.101811  0.291364  0.241305  0.468347\n",
      "11  0.267024  0.137690  0.122431  0.309116  0.256259  0.471086\n",
      "12  0.270833  0.172538  0.129070  0.310997  0.274111  0.473448\n",
      "13  0.271087  0.234566  0.144664  0.366472  0.274121  0.526710\n",
      "14  0.291270  0.239330  0.144703  0.366588  0.275936  0.539239\n",
      "15  0.293790  0.239746  0.191575  0.371945  0.301523  0.541117\n",
      "16  0.329546  0.244090  0.243577  0.373725  0.314115  0.554510\n",
      "17  0.372147  0.305033  0.279727  0.376878  0.320960  0.566904\n",
      "18  0.372498  0.334762  0.290425  0.378145  0.332461  0.570335\n",
      "19  0.378027  0.335172  0.298550  0.384814  0.336405  0.573880\n",
      "20  0.411713  0.342582  0.310081  0.385099  0.338569  0.579508\n"
     ]
    }
   ],
   "source": [
    "#Split in time\n",
    "X_train = X_train_time.drop(['Month','SMB','HML','RMW','CMA',\"Mkt-RF\",'RF'],axis=1)\n",
    "X_dev = X_dev_time.drop(['Month','SMB','HML','RMW','CMA',\"Mkt-RF\",'RF'],axis=1)\n",
    "ks = np.arange(2,21)\n",
    "kernelPCA_results = np.zeros((len(ks),6))\n",
    "gamma = .0001\n",
    "degree = 2\n",
    "for k in ks:\n",
    "    rbf_kpcaZ = pd.DataFrame(KPCA(X_train, X_dev, n_components=k, kernel='poly', gamma = gamma, degree = degree))\n",
    "    for i,s in enumerate(y_train_time.columns):\n",
    "        y = y_dev_time[[s]]\n",
    "        kernelPCA_results[k-2,i] = LinRegression(rbf_kpcaZ, y)\n",
    "polyKPCA = pd.DataFrame(kernelPCA_results, index = ks, columns = y_train_time.columns.values).rename_axis('K')\n",
    "print(polyKPCA)"
   ]
  },
  {
   "cell_type": "code",
   "execution_count": 33,
   "metadata": {},
   "outputs": [
    {
     "data": {
      "image/png": "[encoded data removed]",
      "text/plain": [
       "<matplotlib.figure.Figure at 0x10c61f1d0>"
      ]
     },
     "metadata": {},
     "output_type": "display_data"
    }
   ],
   "source": [
    "plotpolyKPCA=polyKPCA.reset_index()\n",
    "plotpolyKPCA = pd.melt(plotpolyKPCA, id_vars=['K'], value_vars=['IBM', 'MMM','PG','UTX','XOM','SPX'],\n",
    "                      var_name='Ticker',value_name = 'R^2')\n",
    "ax=sns.lineplot(x='K',y='R^2',hue = 'Ticker',data=plotpolyKPCA);\n",
    "plt.axvline(x=17, color = 'r', linestyle = '--');\n",
    "plt.savefig('poly_components_tune.png')"
   ]
  },
  {
   "cell_type": "code",
   "execution_count": 35,
   "metadata": {},
   "outputs": [
    {
     "name": "stdout",
     "output_type": "stream",
     "text": [
      "             IBM       MMM        PG       UTX       XOM       SPX\n",
      "Degree                                                            \n",
      "2       0.372147  0.305033  0.279727  0.376878  0.320960  0.566904\n",
      "3       0.322469  0.312156  0.369362  0.379590  0.322980  0.561189\n",
      "4       0.303291  0.272335  0.411040  0.381591  0.320141  0.548475\n",
      "5       0.308798  0.275418  0.415983  0.382626  0.329947  0.540048\n",
      "6       0.311883  0.285893  0.410034  0.387467  0.328219  0.528790\n",
      "7       0.311621  0.282794  0.410212  0.386448  0.320079  0.511378\n",
      "8       0.308811  0.272898  0.416496  0.379419  0.313317  0.496167\n",
      "9       0.301581  0.265503  0.421262  0.372890  0.315758  0.495854\n",
      "10      0.297204  0.266406  0.411828  0.369534  0.317371  0.488520\n",
      "11      0.294452  0.269917  0.411827  0.367759  0.316060  0.483854\n",
      "12      0.292921  0.271046  0.411556  0.364792  0.315048  0.480017\n",
      "13      0.291888  0.270097  0.411650  0.360810  0.313880  0.476174\n",
      "14      0.290701  0.267534  0.412677  0.355780  0.312070  0.471782\n",
      "15      0.288907  0.264231  0.414193  0.349698  0.309454  0.466667\n",
      "16      0.286464  0.261375  0.415157  0.342948  0.305905  0.461306\n",
      "17      0.283780  0.259351  0.415686  0.336919  0.301259  0.456870\n",
      "18      0.296170  0.255887  0.416837  0.337503  0.291063  0.460803\n",
      "19      0.301186  0.258743  0.423423  0.335229  0.287457  0.461043\n",
      "20      0.300493  0.257491  0.429875  0.332173  0.286548  0.458893\n"
     ]
    }
   ],
   "source": [
    "#Split in time\n",
    "X_train = X_train_time.drop(['Month','SMB','HML','RMW','CMA',\"Mkt-RF\",'RF'],axis=1)\n",
    "X_dev = X_dev_time.drop(['Month','SMB','HML','RMW','CMA',\"Mkt-RF\",'RF'],axis=1)\n",
    "ks = np.arange(2,21)\n",
    "kernelPCA_results = np.zeros((len(ks),6))\n",
    "gamma = .0001\n",
    "k = 17\n",
    "for d in ks:\n",
    "    rbf_kpcaZ = pd.DataFrame(KPCA(X_train, X_dev, n_components=k, kernel='poly', gamma = gamma, degree = d))\n",
    "    for i,s in enumerate(y_train_time.columns):\n",
    "        y = y_dev_time[[s]]\n",
    "        kernelPCA_results[d-2,i] = LinRegression(rbf_kpcaZ, y)\n",
    "polyKPCA = pd.DataFrame(kernelPCA_results, index = ks, columns = y_train_time.columns.values).rename_axis('Degree')\n",
    "print(polyKPCA)"
   ]
  },
  {
   "cell_type": "code",
   "execution_count": 38,
   "metadata": {},
   "outputs": [
    {
     "data": {
      "image/png": "[encoded data removed]",
      "text/plain": [
       "<matplotlib.figure.Figure at 0x10c01fc88>"
      ]
     },
     "metadata": {},
     "output_type": "display_data"
    }
   ],
   "source": [
    "plotpolyKPCA=polyKPCA.reset_index()\n",
    "plotpolyKPCA = pd.melt(plotpolyKPCA, id_vars=['Degree'], value_vars=['IBM', 'MMM','PG','UTX','XOM','SPX'],\n",
    "                      var_name='Ticker',value_name = 'R^2')\n",
    "ax=sns.lineplot(x='Degree',y='R^2',hue = 'Ticker',data=plotpolyKPCA);\n",
    "plt.axvline(x=3, color = 'r', linestyle = '--');\n",
    "plt.savefig('poly_degree_tune.png')"
   ]
  },
  {
   "cell_type": "code",
   "execution_count": 26,
   "metadata": {},
   "outputs": [
    {
     "name": "stderr",
     "output_type": "stream",
     "text": [
      "/Users/josephdenby/anaconda/lib/python3.6/site-packages/scipy/linalg/basic.py:1226: RuntimeWarning: internal gelsd driver lwork query error, required iwork dimension not returned. This is likely the result of LAPACK bug 0038, fixed in LAPACK 3.2.2 (released July 21, 2010). Falling back to 'gelss' driver.\n",
      "  warnings.warn(mesg, RuntimeWarning)\n"
     ]
    },
    {
     "name": "stdout",
     "output_type": "stream",
     "text": [
      "                   IBM       MMM        PG       UTX       XOM       SPX\n",
      "gamma                                                                   \n",
      "1.000000e-08  0.279931  0.243433  0.148126  0.366201  0.278072  0.546271\n",
      "7.894738e-02  0.046050  0.067708  0.024848  0.050378  0.058371  0.043688\n",
      "1.578947e-01  0.045402  0.093581  0.029972  0.044719  0.058204  0.050989\n",
      "2.368421e-01  0.049085  0.091373  0.029931  0.042072  0.060744  0.050719\n",
      "3.157895e-01  0.049681  0.090435  0.028440  0.043743  0.061024  0.051361\n",
      "3.947368e-01  0.048028  0.089318  0.026715  0.046182  0.060754  0.052052\n",
      "4.736842e-01  0.023744  0.059355  0.019607  0.023066  0.039302  0.041394\n",
      "5.526316e-01  0.000000  0.000000  0.000000  0.000000  0.000000  0.000000\n",
      "6.315790e-01  0.000000  0.000000  0.000000  0.000000  0.000000  0.000000\n",
      "7.105263e-01  0.007591  0.016006  0.008427  0.013656  0.013992  0.015304\n",
      "7.894737e-01  0.005309  0.001355  0.005211  0.009924  0.007175  0.001115\n",
      "8.684211e-01  0.003691 -0.007995  0.003698  0.001052  0.002179 -0.000353\n",
      "9.473684e-01  0.003635 -0.007207  0.003516  0.001281  0.002178 -0.000477\n",
      "1.026316e+00  0.003432 -0.008918  0.003494  0.001005  0.002127 -0.000392\n",
      "1.105263e+00  0.000000  0.000000  0.000000  0.000000  0.000000  0.000000\n",
      "1.184211e+00  0.000000  0.000000  0.000000  0.000000  0.000000  0.000000\n",
      "1.263158e+00  0.000000  0.000000  0.000000  0.000000  0.000000  0.000000\n",
      "1.342105e+00  0.000000  0.000000  0.000000  0.000000  0.000000  0.000000\n",
      "1.421053e+00  0.000000  0.000000  0.000000  0.000000  0.000000  0.000000\n",
      "1.500000e+00  0.000000  0.000000  0.000000  0.000000  0.000000  0.000000\n"
     ]
    }
   ],
   "source": [
    "#Split in time\n",
    "X_train = X_train_time.drop(['Month','SMB','HML','RMW','CMA',\"Mkt-RF\",'RF'],axis=1)\n",
    "X_dev = X_dev_time.drop(['Month','SMB','HML','RMW','CMA',\"Mkt-RF\",'RF'],axis=1)\n",
    "gs = np.linspace(0.00000001,1.5, 20)\n",
    "kernelPCA_results = np.zeros((len(gs),6))\n",
    "k=14\n",
    "for j, g in enumerate(gs):\n",
    "    rbf_kpcaZ = pd.DataFrame(KPCA(X_train, X_dev, n_components=k, kernel='rbf', gamma = g))\n",
    "    for i,s in enumerate(y_train_time.columns):\n",
    "        y = y_dev_time[[s]]\n",
    "        kernelPCA_results[j,i] = LinRegression(rbf_kpcaZ, y)\n",
    "RBFKPCA = pd.DataFrame(kernelPCA_results, index = gs, columns = y_train_time.columns.values).rename_axis('gamma')\n",
    "print(RBFKPCA)"
   ]
  },
  {
   "cell_type": "code",
   "execution_count": 28,
   "metadata": {},
   "outputs": [
    {
     "data": {
      "image/png": "[encoded data removed]",
      "text/plain": [
       "<matplotlib.figure.Figure at 0x10c652550>"
      ]
     },
     "metadata": {},
     "output_type": "display_data"
    }
   ],
   "source": [
    "plotRBFKPCA=RBFKPCA.reset_index()\n",
    "plotRBFKPCA = pd.melt(plotRBFKPCA, id_vars=['gamma'], value_vars=['IBM', 'MMM','PG','UTX','XOM','SPX'],\n",
    "                      var_name='Ticker',value_name = 'R^2')\n",
    "ax=sns.lineplot(x='gamma',y='R^2',hue = 'Ticker',data=plotRBFKPCA);\n",
    "plt.savefig('rbf_gamma_tune.png')"
   ]
  },
  {
   "cell_type": "code",
   "execution_count": 67,
   "metadata": {},
   "outputs": [
    {
     "name": "stdout",
     "output_type": "stream",
     "text": [
      "         IBM       MMM        PG       UTX       XOM       SPX\n",
      "K                                                             \n",
      "2   0.089643  0.111839  0.000443  0.040098  0.002192  0.087568\n",
      "3   0.118534  0.159116  0.028995  0.090178  0.013186  0.137269\n",
      "4   0.123369  0.160851  0.035291  0.117463  0.015824  0.150269\n",
      "5   0.123841  0.161558  0.036696  0.122364  0.029654  0.159280\n",
      "6   0.150530  0.166676  0.037192  0.140759  0.140796  0.256535\n",
      "7   0.160126  0.181199  0.037195  0.146829  0.152648  0.297859\n",
      "8   0.186779  0.274701  0.191378  0.203800  0.298317  0.479739\n",
      "9   0.200623  0.282600  0.195520  0.244485  0.315855  0.497270\n",
      "10  0.205995  0.284265  0.230098  0.259225  0.328201  0.500618\n",
      "11  0.207436  0.284267  0.230864  0.276430  0.362838  0.503208\n",
      "12  0.207436  0.293026  0.269138  0.278102  0.366985  0.506030\n",
      "13  0.207568  0.296087  0.269593  0.278103  0.367165  0.509828\n",
      "14  0.212261  0.310319  0.277539  0.294583  0.370750  0.537037\n",
      "15  0.212989  0.312210  0.282238  0.295923  0.386695  0.540686\n",
      "16  0.239564  0.314139  0.309526  0.296390  0.386929  0.545856\n",
      "17  0.355789  0.327845  0.342906  0.306833  0.395339  0.567337\n",
      "18  0.372857  0.334031  0.343447  0.306843  0.404841  0.569211\n",
      "19  0.373859  0.343000  0.423930  0.307848  0.428406  0.580216\n",
      "20  0.399035  0.367489  0.426109  0.311218  0.432134  0.580400\n"
     ]
    }
   ],
   "source": [
    "#Split in time, with train/val split randomly\n",
    "X_train = X_train_time_rand.drop(['Month','SMB','HML','RMW','CMA',\"Mkt-RF\",'RF'],axis=1)\n",
    "X_dev = X_dev_time_rand.drop(['Month','SMB','HML','RMW','CMA',\"Mkt-RF\",'RF'],axis=1)\n",
    "ks = np.arange(2,21)\n",
    "kernelPCA_results = np.zeros((len(ks),6))\n",
    "gamma = .0000001\n",
    "for k in ks:\n",
    "    rbf_kpcaZ = pd.DataFrame(KPCA(X_train, X_dev, n_components=k, kernel='rbf', gamma = gamma))\n",
    "    for i,s in enumerate(y_train_time_rand.columns):\n",
    "        y = y_dev_time_rand[[s]]\n",
    "        kernelPCA_results[k-2,i] = LinRegression(rbf_kpcaZ, y)\n",
    "print(pd.DataFrame(kernelPCA_results, index = ks, columns = y_train_time_rand.columns.values).rename_axis('K'))"
   ]
  },
  {
   "cell_type": "code",
   "execution_count": 68,
   "metadata": {},
   "outputs": [
    {
     "name": "stdout",
     "output_type": "stream",
     "text": [
      "         IBM       MMM        PG       UTX       XOM       SPX\n",
      "K                                                             \n",
      "2   0.141897  0.040913  0.107861  0.125022  0.042640  0.102469\n",
      "3   0.158414  0.052635  0.126219  0.160710  0.042655  0.103841\n",
      "4   0.170912  0.053269  0.157814  0.194179  0.098961  0.142628\n",
      "5   0.233220  0.058825  0.164326  0.195381  0.125745  0.142781\n",
      "6   0.253477  0.061242  0.164990  0.195922  0.135097  0.155587\n",
      "7   0.284038  0.111402  0.188977  0.222840  0.174457  0.291607\n",
      "8   0.298301  0.113877  0.191795  0.230941  0.174562  0.299172\n",
      "9   0.394260  0.136127  0.199486  0.262352  0.185281  0.333218\n",
      "10  0.401254  0.139425  0.204921  0.268940  0.185449  0.333221\n",
      "11  0.404047  0.140146  0.206204  0.269783  0.187083  0.333430\n",
      "12  0.420598  0.142207  0.211593  0.287608  0.191718  0.335056\n",
      "13  0.427663  0.145924  0.222302  0.289683  0.192058  0.340207\n",
      "14  0.431407  0.157696  0.245058  0.294182  0.200983  0.374795\n",
      "15  0.431438  0.159204  0.247700  0.297383  0.202676  0.377411\n",
      "16  0.439840  0.165705  0.248083  0.308643  0.207308  0.409753\n",
      "17  0.441497  0.166008  0.251425  0.310502  0.221972  0.413757\n",
      "18  0.456278  0.170751  0.251994  0.310595  0.231840  0.413836\n",
      "19  0.469546  0.177250  0.251994  0.312400  0.244020  0.421636\n",
      "20  0.477738  0.220570  0.255444  0.327501  0.277297  0.426089\n"
     ]
    }
   ],
   "source": [
    "#Random split\n",
    "X_train = X_train_rand.drop(['Month','SMB','HML','RMW','CMA',\"Mkt-RF\",'RF'],axis=1)\n",
    "X_dev = X_dev_rand.drop(['Month','SMB','HML','RMW','CMA',\"Mkt-RF\",'RF'],axis=1)\n",
    "ks = np.arange(2,21)\n",
    "kernelPCA_results = np.zeros((len(ks),6))\n",
    "gamma = .0000001\n",
    "for k in ks:\n",
    "    rbf_kpcaZ = pd.DataFrame(KPCA(X_train, X_dev, n_components=k, kernel='rbf', gamma = gamma))\n",
    "    for i,s in enumerate(y_train_rand.columns):\n",
    "        y = y_dev_rand[[s]]\n",
    "        kernelPCA_results[k-2,i] = LinRegression(rbf_kpcaZ, y)\n",
    "print(pd.DataFrame(kernelPCA_results, index = ks, columns = y_train_rand.columns.values).rename_axis('K'))"
   ]
  },
  {
   "cell_type": "markdown",
   "metadata": {},
   "source": [
    "FINAL TEST"
   ]
  },
  {
   "cell_type": "code",
   "execution_count": 69,
   "metadata": {},
   "outputs": [
    {
     "name": "stdout",
     "output_type": "stream",
     "text": [
      "           IBM       MMM        PG       UTX       XOM       SPX\n",
      "KPCA  0.450746  0.182039  0.233612  0.382872  0.209839  0.570154\n"
     ]
    }
   ],
   "source": [
    "#Split in time\n",
    "X_train = X_train_time.drop(['Month','SMB','HML','RMW','CMA',\"Mkt-RF\",'RF'],axis=1).append(X_dev_time.drop(['Month','SMB','HML','RMW','CMA',\"Mkt-RF\",'RF'],axis=1))\n",
    "X_test = X_test_time.drop(['Month','SMB','HML','RMW','CMA',\"Mkt-RF\",'RF'],axis=1)\n",
    "kernelPCA_results = np.zeros((1,6))\n",
    "k=14\n",
    "gamma = .0000001\n",
    "rbf_kpcaZ = pd.DataFrame(KPCA(X_train, X_test, n_components=k, kernel='rbf', gamma = gamma))\n",
    "for i,s in enumerate(y_train_time.columns):\n",
    "    y = y_test_time[[s]]\n",
    "    kernelPCA_results[0,i] = LinRegression(rbf_kpcaZ, y)\n",
    "kpca_rbf=pd.DataFrame(kernelPCA_results, index = ['KPCA'],columns = y_train_time.columns.values)\n",
    "print(kpca_rbf)"
   ]
  },
  {
   "cell_type": "markdown",
   "metadata": {},
   "source": [
    "Isomap"
   ]
  },
  {
   "cell_type": "code",
   "execution_count": 32,
   "metadata": {},
   "outputs": [
    {
     "name": "stdout",
     "output_type": "stream",
     "text": [
      "         IBM       MMM        PG       UTX       XOM       SPX\n",
      "K                                                             \n",
      "2   0.170302  0.012815  0.015088  0.058971  0.044473  0.191233\n",
      "3   0.171445  0.038104  0.040232  0.059471  0.114543  0.204422\n",
      "4   0.184307  0.044204  0.040629  0.064818  0.122158  0.248313\n",
      "5   0.197329  0.046614  0.041250  0.067296  0.122668  0.277877\n",
      "6   0.197908  0.051142  0.086493  0.067488  0.122997  0.284802\n",
      "7   0.197984  0.051142  0.112119  0.072972  0.124008  0.284876\n",
      "8   0.210307  0.093735  0.119017  0.075099  0.128254  0.289089\n",
      "9   0.221975  0.093738  0.179901  0.125527  0.132230  0.320918\n",
      "10  0.228701  0.096419  0.193947  0.131829  0.181621  0.331671\n",
      "11  0.236475  0.103682  0.199135  0.155921  0.181746  0.352664\n",
      "12  0.242324  0.107506  0.210817  0.158625  0.183204  0.390415\n",
      "13  0.264516  0.114626  0.212732  0.207079  0.197732  0.425328\n",
      "14  0.268417  0.115035  0.215886  0.218562  0.209524  0.425608\n",
      "15  0.289359  0.115186  0.222503  0.221551  0.210019  0.425786\n",
      "16  0.293029  0.115982  0.223484  0.224234  0.211928  0.432667\n",
      "17  0.293360  0.170750  0.251744  0.231488  0.215645  0.432717\n",
      "18  0.293522  0.170881  0.267838  0.233231  0.258834  0.432724\n",
      "19  0.307136  0.183774  0.270401  0.234315  0.282409  0.432942\n",
      "20  0.307136  0.184956  0.273248  0.234315  0.286823  0.433032\n"
     ]
    }
   ],
   "source": [
    "#Split in time\n",
    "X_train = X_train_time.drop(['Month','SMB','HML','RMW','CMA',\"Mkt-RF\",'RF'],axis=1)\n",
    "X_dev = X_dev_time.drop(['Month','SMB','HML','RMW','CMA',\"Mkt-RF\",'RF'],axis=1)\n",
    "ks = np.arange(2,21)\n",
    "isomap_results = np.zeros((len(ks),6))\n",
    "k_nn = 24\n",
    "for k in ks:\n",
    "    isomapZ = pd.DataFrame(isomap(X_train, X_dev, n_components=k, n_neighbors=k_nn))\n",
    "    for i,s in enumerate(y_train_time.columns):\n",
    "        y = y_dev_time[[s]]\n",
    "        isomap_results[k-2,i] = LinRegression(isomapZ, y)\n",
    "isomapdf = pd.DataFrame(isomap_results, index = ks, columns = y_train_time.columns.values).rename_axis('K')\n",
    "print(isomapdf)"
   ]
  },
  {
   "cell_type": "code",
   "execution_count": 34,
   "metadata": {},
   "outputs": [
    {
     "data": {
      "image/png": "[encoded data removed]",
      "text/plain": [
       "<matplotlib.figure.Figure at 0x10e3c7b38>"
      ]
     },
     "metadata": {},
     "output_type": "display_data"
    }
   ],
   "source": [
    "plotisomap=isomapdf.reset_index()\n",
    "plotisomap = pd.melt(plotisomap, id_vars=['K'], value_vars=['IBM', 'MMM','PG','UTX','XOM','SPX'],\n",
    "                      var_name='Ticker',value_name = 'R^2')\n",
    "ax=sns.lineplot(x='K',y='R^2',hue = 'Ticker',data=plotisomap);\n",
    "plt.xlabel('K (# components)');\n",
    "plt.axvline(x=12, color = 'r', linestyle = '--');\n",
    "plt.savefig('isomap_tune.png')"
   ]
  },
  {
   "cell_type": "code",
   "execution_count": 39,
   "metadata": {},
   "outputs": [
    {
     "name": "stdout",
     "output_type": "stream",
     "text": [
      "         IBM       MMM        PG       UTX       XOM       SPX\n",
      "K                                                             \n",
      "2   0.136122  0.084895  0.143914  0.120603  0.119922  0.236916\n",
      "3   0.249464  0.079096  0.159126  0.090808  0.135674  0.243430\n",
      "4   0.224260  0.074964  0.133714  0.097749  0.154521  0.269565\n",
      "5   0.226646  0.074901  0.156439  0.099774  0.119533  0.292826\n",
      "6   0.209839  0.051920  0.159903  0.086045  0.107447  0.320347\n",
      "7   0.223870  0.076471  0.174817  0.098673  0.104293  0.323584\n",
      "8   0.225076  0.064664  0.179913  0.118065  0.131469  0.325614\n",
      "9   0.217729  0.075773  0.152762  0.097511  0.119016  0.320663\n",
      "10  0.220562  0.071407  0.187970  0.115101  0.123158  0.317305\n",
      "11  0.216041  0.114235  0.162402  0.104543  0.143973  0.310736\n",
      "12  0.240278  0.151724  0.130345  0.153497  0.161998  0.331195\n",
      "13  0.251628  0.139863  0.125846  0.146264  0.156297  0.326468\n",
      "14  0.245859  0.145979  0.128632  0.135866  0.145631  0.324043\n",
      "15  0.251191  0.128662  0.132966  0.129181  0.117544  0.335587\n",
      "16  0.268606  0.115246  0.135933  0.153785  0.132889  0.354923\n",
      "17  0.231095  0.118365  0.149902  0.130917  0.136251  0.365442\n",
      "18  0.239766  0.112481  0.176609  0.159756  0.155390  0.381633\n",
      "19  0.233677  0.139703  0.183467  0.158657  0.196411  0.387680\n",
      "20  0.231205  0.116186  0.196097  0.189657  0.179217  0.387931\n",
      "21  0.249348  0.107458  0.193743  0.175722  0.155989  0.385469\n",
      "22  0.266854  0.108823  0.189297  0.156957  0.159391  0.370132\n",
      "23  0.246421  0.112318  0.213752  0.143200  0.158222  0.340594\n",
      "24  0.242324  0.107506  0.210817  0.158625  0.183204  0.390415\n",
      "25  0.249594  0.108588  0.199780  0.205159  0.229971  0.415573\n",
      "26  0.244671  0.107806  0.215971  0.224286  0.217973  0.433449\n",
      "27  0.246562  0.120355  0.206796  0.233816  0.232305  0.421356\n",
      "28  0.257385  0.123291  0.199655  0.226980  0.230947  0.431496\n",
      "29  0.256354  0.138834  0.169450  0.222153  0.221557  0.424015\n",
      "30  0.244198  0.151440  0.178640  0.274456  0.217040  0.430458\n",
      "31  0.249180  0.149815  0.198148  0.285682  0.214411  0.445658\n",
      "..       ...       ...       ...       ...       ...       ...\n",
      "70  0.248054  0.201206  0.128108  0.264404  0.279428  0.472930\n",
      "71  0.246322  0.193691  0.119180  0.256817  0.273921  0.464278\n",
      "72  0.246481  0.191874  0.119797  0.252255  0.273402  0.461569\n",
      "73  0.248431  0.193062  0.147014  0.246697  0.283171  0.458584\n",
      "74  0.253515  0.193881  0.142384  0.246310  0.286682  0.467746\n",
      "75  0.253835  0.198991  0.136666  0.256392  0.290874  0.470531\n",
      "76  0.255792  0.209898  0.133645  0.256962  0.287220  0.469402\n",
      "77  0.254342  0.201016  0.129023  0.255153  0.286200  0.473510\n",
      "78  0.251989  0.203856  0.132853  0.261813  0.289245  0.473766\n",
      "79  0.253810  0.202928  0.125487  0.257573  0.284095  0.471948\n",
      "80  0.255855  0.198854  0.121353  0.256990  0.288813  0.473113\n",
      "81  0.255093  0.205280  0.123142  0.255996  0.297867  0.473400\n",
      "82  0.259229  0.205106  0.122999  0.257875  0.296899  0.472686\n",
      "83  0.257971  0.209275  0.121666  0.259691  0.301486  0.472340\n",
      "84  0.259849  0.204576  0.120540  0.261358  0.299651  0.472232\n",
      "85  0.260193  0.205456  0.120705  0.260444  0.298093  0.471602\n",
      "86  0.264801  0.206064  0.120666  0.261145  0.299278  0.469327\n",
      "87  0.257807  0.199676  0.122097  0.265283  0.292821  0.468023\n",
      "88  0.260128  0.210372  0.125641  0.273495  0.296703  0.469703\n",
      "89  0.259668  0.206683  0.129879  0.270634  0.300763  0.468547\n",
      "90  0.260132  0.206174  0.136444  0.274211  0.296107  0.466731\n",
      "91  0.260938  0.208109  0.144758  0.270129  0.303615  0.470503\n",
      "92  0.263069  0.217386  0.140758  0.277953  0.303807  0.476206\n",
      "93  0.267495  0.218195  0.140304  0.272545  0.301528  0.472621\n",
      "94  0.266050  0.217255  0.143195  0.273865  0.302265  0.477965\n",
      "95  0.263865  0.222029  0.145629  0.275040  0.293111  0.473915\n",
      "96  0.262191  0.215621  0.147553  0.274905  0.294958  0.473045\n",
      "97  0.262785  0.220050  0.144870  0.282681  0.296533  0.471715\n",
      "98  0.265436  0.215451  0.139994  0.287133  0.292597  0.469242\n",
      "99  0.264902  0.215105  0.140686  0.288125  0.290469  0.468084\n",
      "\n",
      "[98 rows x 6 columns]\n"
     ]
    }
   ],
   "source": [
    "#Split in time\n",
    "X_train = X_train_time.drop(['Month','SMB','HML','RMW','CMA',\"Mkt-RF\",'RF'],axis=1)\n",
    "X_dev = X_dev_time.drop(['Month','SMB','HML','RMW','CMA',\"Mkt-RF\",'RF'],axis=1)\n",
    "ks = np.arange(2,100)\n",
    "isomap_results = np.zeros((len(ks),6))\n",
    "k_comp = 12\n",
    "for k in ks:\n",
    "    isomapZ = pd.DataFrame(isomap(X_train, X_dev, n_components=k_comp, n_neighbors=k))\n",
    "    for i,s in enumerate(y_train_time.columns):\n",
    "        y = y_dev_time[[s]]\n",
    "        isomap_results[k-2,i] = LinRegression(isomapZ, y)\n",
    "isomapdf = pd.DataFrame(isomap_results, index = ks, columns = y_train_time.columns.values).rename_axis('K')\n",
    "print(isomapdf)"
   ]
  },
  {
   "cell_type": "code",
   "execution_count": 40,
   "metadata": {},
   "outputs": [
    {
     "data": {
      "image/png": "[encoded data removed]",
      "text/plain": [
       "<matplotlib.figure.Figure at 0x10c21d208>"
      ]
     },
     "metadata": {},
     "output_type": "display_data"
    }
   ],
   "source": [
    "plotisomap=isomapdf.reset_index()\n",
    "plotisomap = pd.melt(plotisomap, id_vars=['K'], value_vars=['IBM', 'MMM','PG','UTX','XOM','SPX'],\n",
    "                      var_name='Ticker',value_name = 'R^2')\n",
    "ax=sns.lineplot(x='K',y='R^2',hue = 'Ticker',data=plotisomap);\n",
    "plt.xlabel('K (# neighbors)');\n",
    "plt.axvline(x=24, color = 'r', linestyle = '--');\n",
    "plt.savefig('isomap_knn_tune.png')"
   ]
  },
  {
   "cell_type": "markdown",
   "metadata": {},
   "source": [
    "FINAL TEST"
   ]
  },
  {
   "cell_type": "code",
   "execution_count": 74,
   "metadata": {},
   "outputs": [
    {
     "name": "stdout",
     "output_type": "stream",
     "text": [
      "             IBM       MMM        PG       UTX       XOM      SPX\n",
      "Isomap  0.406218  0.208697  0.160205  0.371214  0.217296  0.51391\n"
     ]
    }
   ],
   "source": [
    "#Split in time\n",
    "X_train = X_train_time.drop(['Month','SMB','HML','RMW','CMA',\"Mkt-RF\",'RF'],axis=1).append(X_dev_time.drop(['Month','SMB','HML','RMW','CMA',\"Mkt-RF\",'RF'],axis=1))\n",
    "X_dev = X_test_time.drop(['Month','SMB','HML','RMW','CMA',\"Mkt-RF\",'RF'],axis=1)\n",
    "isomap_results = np.zeros((1,6))\n",
    "k_comp = 12\n",
    "k_nn = 24\n",
    "isomapZ = pd.DataFrame(isomap(X_train, X_dev, n_components=k_comp, n_neighbors=k_nn))\n",
    "for i,s in enumerate(y_train_time.columns):\n",
    "    y = y_test_time[[s]]\n",
    "    isomap_results[0,i] = LinRegression(isomapZ, y)\n",
    "isomapdf = pd.DataFrame(isomap_results, index = ['Isomap'], columns = y_train_time.columns.values)\n",
    "print(isomapdf)"
   ]
  },
  {
   "cell_type": "code",
   "execution_count": 75,
   "metadata": {},
   "outputs": [
    {
     "name": "stdout",
     "output_type": "stream",
     "text": [
      "         IBM       MMM        PG       UTX       XOM       SPX\n",
      "K                                                             \n",
      "2   0.083332  0.102926  0.001589  0.036558  0.003602  0.081377\n",
      "3   0.125040  0.179583  0.034285  0.110138  0.012128  0.153051\n",
      "4   0.130439  0.179612  0.045021  0.136509  0.012176  0.168345\n",
      "5   0.132210  0.183866  0.048213  0.158115  0.054983  0.213447\n",
      "6   0.164006  0.191271  0.070274  0.162875  0.136889  0.287095\n",
      "7   0.167031  0.204056  0.071359  0.165192  0.173337  0.318192\n",
      "8   0.167747  0.204668  0.099838  0.165198  0.175622  0.322321\n",
      "9   0.169363  0.245023  0.257832  0.166868  0.194130  0.380656\n",
      "10  0.171541  0.259209  0.290453  0.195501  0.254114  0.442890\n",
      "11  0.185975  0.269289  0.294806  0.201582  0.273242  0.455951\n",
      "12  0.195062  0.270206  0.306461  0.251762  0.303106  0.491867\n",
      "13  0.195063  0.309799  0.315415  0.270980  0.305772  0.508026\n",
      "14  0.201824  0.319989  0.321202  0.275395  0.316582  0.519957\n",
      "15  0.202913  0.320098  0.332930  0.276561  0.318034  0.521252\n",
      "16  0.203410  0.321794  0.350212  0.276564  0.323700  0.521254\n",
      "17  0.203623  0.327721  0.358876  0.277536  0.323705  0.521306\n",
      "18  0.203630  0.354884  0.381545  0.302006  0.400988  0.543111\n",
      "19  0.256378  0.360323  0.391671  0.310600  0.421323  0.553584\n",
      "20  0.271217  0.363472  0.394287  0.311707  0.431543  0.554887\n"
     ]
    }
   ],
   "source": [
    "#Split in time, with train/val split randomly\n",
    "X_train = X_train_time_rand.drop(['Month','SMB','HML','RMW','CMA',\"Mkt-RF\",'RF'],axis=1)\n",
    "X_dev = X_dev_time_rand.drop(['Month','SMB','HML','RMW','CMA',\"Mkt-RF\",'RF'],axis=1)\n",
    "ks = np.arange(2,21)\n",
    "isomap_results = np.zeros((len(ks),6))\n",
    "k_nn = 60\n",
    "for k in ks:\n",
    "    isomapZ = pd.DataFrame(isomap(X_train, X_dev, n_components=k, n_neighbors=k_nn))\n",
    "    for i,s in enumerate(y_train_time_rand.columns):\n",
    "        y = y_dev_time_rand[[s]]\n",
    "        isomap_results[k-2,i] = LinRegression(isomapZ, y)\n",
    "print(pd.DataFrame(isomap_results, index = ks, columns = y_train_time_rand.columns.values).rename_axis('K'))"
   ]
  },
  {
   "cell_type": "code",
   "execution_count": 76,
   "metadata": {},
   "outputs": [
    {
     "name": "stdout",
     "output_type": "stream",
     "text": [
      "         IBM       MMM        PG       UTX       XOM       SPX\n",
      "K                                                             \n",
      "2   0.147892  0.045935  0.097042  0.137927  0.036786  0.108037\n",
      "3   0.168721  0.052297  0.130056  0.158752  0.037842  0.124400\n",
      "4   0.186849  0.055142  0.143340  0.203599  0.109124  0.148733\n",
      "5   0.242307  0.062361  0.149670  0.204878  0.123360  0.149047\n",
      "6   0.294767  0.074133  0.157501  0.208976  0.141900  0.178987\n",
      "7   0.295955  0.078038  0.192529  0.236732  0.150052  0.221707\n",
      "8   0.370793  0.093304  0.201730  0.261277  0.184516  0.283403\n",
      "9   0.373381  0.101666  0.203679  0.271710  0.187762  0.308427\n",
      "10  0.373572  0.101724  0.207753  0.271866  0.198683  0.309789\n",
      "11  0.406593  0.105195  0.209153  0.277174  0.215300  0.321079\n",
      "12  0.418862  0.140020  0.209358  0.277292  0.216733  0.334213\n",
      "13  0.428722  0.146172  0.224796  0.284434  0.217844  0.334689\n",
      "14  0.460867  0.160085  0.232531  0.322509  0.240039  0.363102\n",
      "15  0.460985  0.162362  0.241457  0.323877  0.254847  0.376091\n",
      "16  0.461369  0.173064  0.245415  0.327129  0.270423  0.377843\n",
      "17  0.462465  0.174237  0.252227  0.342050  0.271034  0.381126\n",
      "18  0.462465  0.208619  0.258806  0.374054  0.276339  0.398339\n",
      "19  0.466983  0.220236  0.261327  0.376517  0.281438  0.398545\n",
      "20  0.467153  0.220242  0.266457  0.376693  0.288183  0.399261\n"
     ]
    }
   ],
   "source": [
    "#Random split\n",
    "X_train = X_train_rand.drop(['Month','SMB','HML','RMW','CMA',\"Mkt-RF\",'RF'],axis=1)\n",
    "X_dev = X_dev_rand.drop(['Month','SMB','HML','RMW','CMA',\"Mkt-RF\",'RF'],axis=1)\n",
    "ks = np.arange(2,21)\n",
    "kernelPCA_results = np.zeros((len(ks),6))\n",
    "isomap_results = np.zeros((len(ks),6))\n",
    "k_nn = 60\n",
    "for k in ks:\n",
    "    isomapZ = pd.DataFrame(isomap(X_train, X_dev, n_components=k, n_neighbors=k_nn))\n",
    "    for i,s in enumerate(y_train_rand.columns):\n",
    "        y = y_dev_rand[[s]]\n",
    "        isomap_results[k-2,i] = LinRegression(isomapZ, y)\n",
    "print(pd.DataFrame(isomap_results, index = ks, columns = y_train_rand.columns.values).rename_axis('K'))"
   ]
  },
  {
   "cell_type": "markdown",
   "metadata": {},
   "source": [
    "Spectral Embedding"
   ]
  },
  {
   "cell_type": "code",
   "execution_count": 48,
   "metadata": {},
   "outputs": [
    {
     "name": "stdout",
     "output_type": "stream",
     "text": [
      "         IBM       MMM        PG       UTX       XOM       SPX\n",
      "K                                                             \n",
      "2   0.051989  0.043099  0.061564  0.025723  0.004573  0.058599\n",
      "3   0.063328  0.044545  0.061669  0.045005  0.026290  0.063410\n",
      "4   0.063772  0.045047  0.069161  0.055903  0.026294  0.070511\n",
      "5   0.071295  0.045330  0.069761  0.061955  0.026347  0.080259\n",
      "6   0.082231  0.049834  0.092252  0.063559  0.053697  0.092442\n",
      "7   0.082322  0.049841  0.096443  0.066131  0.058492  0.092692\n",
      "8   0.082992  0.049918  0.099896  0.066131  0.062476  0.096229\n",
      "9   0.084782  0.059243  0.101262  0.066500  0.073967  0.110818\n",
      "10  0.098294  0.062371  0.101904  0.067193  0.074769  0.111122\n",
      "11  0.098295  0.063253  0.105819  0.077455  0.090234  0.128606\n",
      "12  0.120164  0.119640  0.137834  0.103227  0.154428  0.199293\n",
      "13  0.120616  0.121402  0.143095  0.104561  0.155558  0.205808\n",
      "14  0.122902  0.122951  0.143875  0.107545  0.169747  0.206179\n",
      "15  0.129876  0.125184  0.144410  0.114355  0.170434  0.208466\n",
      "16  0.139926  0.133036  0.163992  0.119765  0.180653  0.224335\n",
      "17  0.140009  0.139143  0.165292  0.124091  0.186094  0.233035\n",
      "18  0.142453  0.139892  0.165309  0.125002  0.189828  0.241225\n",
      "19  0.148241  0.142516  0.169680  0.125296  0.191665  0.241226\n",
      "20  0.148441  0.142882  0.170578  0.129139  0.192474  0.241285\n"
     ]
    }
   ],
   "source": [
    "#Split in time\n",
    "X_train = X_train_time.drop(['Month','SMB','HML','RMW','CMA',\"Mkt-RF\",'RF'],axis=1).append(X_dev_time.drop(['Month','SMB','HML','RMW','CMA',\"Mkt-RF\",'RF'],axis=1))\n",
    "ks = np.arange(2,21)\n",
    "spectral_results = np.zeros((len(ks),6))\n",
    "k_nn = 70\n",
    "affinity = 'nearest_neighbors'\n",
    "for k in ks:\n",
    "    spectralZ = pd.DataFrame(spectral(X_train, n_components=k, n_neighbors=k_nn, affinity=affinity))\n",
    "    for i,s in enumerate(y_train_time.columns):\n",
    "        y = y_train_time[[s]].append(y_dev_time[[s]])\n",
    "        spectral_results[k-2,i] = LinRegression(spectralZ, y)\n",
    "spectraldf = pd.DataFrame(spectral_results, index = ks, columns = y_train_time.columns.values).rename_axis('K')\n",
    "print(spectraldf)"
   ]
  },
  {
   "cell_type": "code",
   "execution_count": 50,
   "metadata": {},
   "outputs": [
    {
     "data": {
      "image/png": "[encoded data removed]",
      "text/plain": [
       "<matplotlib.figure.Figure at 0x10c309908>"
      ]
     },
     "metadata": {},
     "output_type": "display_data"
    }
   ],
   "source": [
    "plotspectral=spectraldf.reset_index()\n",
    "plotspectral = pd.melt(plotspectral, id_vars=['K'], value_vars=['IBM', 'MMM','PG','UTX','XOM','SPX'],\n",
    "                      var_name='Ticker',value_name = 'R^2')\n",
    "ax=sns.lineplot(x='K',y='R^2',hue = 'Ticker',data=plotspectral);\n",
    "plt.xlabel('K (# components)');\n",
    "plt.axvline(x=12, color = 'r', linestyle = '--');\n",
    "plt.savefig('spectral_tune.png')"
   ]
  },
  {
   "cell_type": "code",
   "execution_count": 42,
   "metadata": {},
   "outputs": [
    {
     "name": "stderr",
     "output_type": "stream",
     "text": [
      "/Users/josephdenby/anaconda/lib/python3.6/site-packages/sklearn/manifold/spectral_embedding_.py:234: UserWarning: Graph is not fully connected, spectral embedding may not work as expected.\n",
      "  warnings.warn(\"Graph is not fully connected, spectral embedding\"\n"
     ]
    },
    {
     "name": "stdout",
     "output_type": "stream",
     "text": [
      "         IBM       MMM        PG       UTX       XOM       SPX\n",
      "K                                                             \n",
      "2   0.038108  0.023547  0.040941  0.058811  0.037182  0.059897\n",
      "3   0.099415  0.065741  0.068169  0.080093  0.081182  0.108464\n",
      "4   0.121558  0.066133  0.077724  0.082460  0.033673  0.098050\n",
      "5   0.118770  0.079448  0.072211  0.078039  0.060596  0.100294\n",
      "6   0.143697  0.082471  0.086709  0.084481  0.069264  0.133591\n",
      "7   0.142239  0.074916  0.079804  0.088987  0.054804  0.128718\n",
      "8   0.139039  0.079866  0.084839  0.082697  0.047071  0.129961\n",
      "9   0.140627  0.083754  0.096298  0.083158  0.077283  0.142402\n",
      "10  0.147211  0.096020  0.097833  0.089094  0.106367  0.153354\n",
      "11  0.147891  0.100956  0.101740  0.090353  0.099237  0.147728\n",
      "12  0.141098  0.096365  0.098821  0.083892  0.086238  0.134105\n",
      "13  0.135105  0.096528  0.100441  0.084783  0.089946  0.138124\n",
      "14  0.132025  0.098268  0.103321  0.084446  0.091132  0.145140\n",
      "15  0.131689  0.095883  0.102331  0.090209  0.107525  0.140070\n",
      "16  0.133609  0.096609  0.102388  0.092730  0.118030  0.143116\n",
      "17  0.129906  0.094132  0.100695  0.088150  0.115854  0.140397\n",
      "18  0.127599  0.095929  0.105182  0.087683  0.117016  0.146512\n",
      "19  0.122765  0.086914  0.104420  0.085071  0.114678  0.139172\n",
      "20  0.119553  0.081703  0.101564  0.085500  0.107138  0.138109\n",
      "21  0.119963  0.081766  0.100644  0.083578  0.112811  0.135547\n",
      "22  0.119925  0.079602  0.099531  0.082798  0.108172  0.134395\n",
      "23  0.116449  0.079070  0.100044  0.082624  0.098085  0.133503\n",
      "24  0.112220  0.078830  0.100542  0.082911  0.100831  0.140245\n",
      "25  0.117328  0.083424  0.099472  0.083099  0.121394  0.143415\n",
      "26  0.113184  0.083371  0.099277  0.087501  0.119344  0.145537\n",
      "27  0.111268  0.082749  0.099558  0.086594  0.114844  0.145972\n",
      "28  0.113667  0.081185  0.100977  0.082877  0.124767  0.140586\n",
      "29  0.115673  0.081478  0.101657  0.083670  0.126380  0.141362\n",
      "30  0.117720  0.080292  0.101205  0.084288  0.126461  0.139997\n",
      "31  0.117539  0.076950  0.098083  0.082964  0.124123  0.136731\n",
      "..       ...       ...       ...       ...       ...       ...\n",
      "70  0.120616  0.121402  0.143095  0.104561  0.155558  0.205808\n",
      "71  0.122037  0.120560  0.142106  0.105580  0.156692  0.205600\n",
      "72  0.122732  0.120941  0.140890  0.107181  0.160180  0.206122\n",
      "73  0.124210  0.121887  0.141348  0.105888  0.156678  0.205175\n",
      "74  0.122986  0.122129  0.142812  0.106774  0.156596  0.207165\n",
      "75  0.122222  0.121959  0.143116  0.108278  0.159399  0.208088\n",
      "76  0.122912  0.121012  0.141945  0.110461  0.159963  0.205328\n",
      "77  0.125419  0.122479  0.142969  0.109941  0.159413  0.208679\n",
      "78  0.125651  0.123016  0.143537  0.110621  0.159298  0.209658\n",
      "79  0.126816  0.122017  0.143598  0.107659  0.154771  0.208276\n",
      "80  0.126424  0.122354  0.144342  0.109858  0.155882  0.208794\n",
      "81  0.126765  0.123498  0.144491  0.110243  0.155597  0.209451\n",
      "82  0.128121  0.123679  0.148208  0.112453  0.155548  0.210437\n",
      "83  0.129276  0.126363  0.148932  0.111390  0.154054  0.210511\n",
      "84  0.129779  0.128620  0.148538  0.111199  0.159165  0.213023\n",
      "85  0.130450  0.130894  0.149724  0.112912  0.163291  0.215539\n",
      "86  0.131357  0.130365  0.147599  0.109501  0.162135  0.211561\n",
      "87  0.130933  0.128530  0.147244  0.110497  0.161223  0.209497\n",
      "88  0.130782  0.127923  0.149412  0.111216  0.163061  0.210706\n",
      "89  0.131328  0.126012  0.148225  0.111725  0.162225  0.209752\n",
      "90  0.131944  0.126045  0.148641  0.112148  0.160976  0.210170\n",
      "91  0.129797  0.122144  0.146482  0.109199  0.158779  0.204827\n",
      "92  0.129952  0.121959  0.144688  0.109634  0.156731  0.202358\n",
      "93  0.131881  0.125426  0.146831  0.109915  0.158927  0.207307\n",
      "94  0.131543  0.126295  0.146729  0.109392  0.160116  0.209182\n",
      "95  0.133012  0.127446  0.148014  0.109624  0.158103  0.212199\n",
      "96  0.134168  0.126903  0.147734  0.107295  0.158119  0.211155\n",
      "97  0.134817  0.128859  0.149440  0.107023  0.160219  0.213924\n",
      "98  0.134637  0.126705  0.148023  0.105662  0.157166  0.211417\n",
      "99  0.133959  0.126663  0.147874  0.104387  0.155545  0.210006\n",
      "\n",
      "[98 rows x 6 columns]\n"
     ]
    }
   ],
   "source": [
    "#Split in time\n",
    "X_train = X_train_time.drop(['Month','SMB','HML','RMW','CMA',\"Mkt-RF\",'RF'],axis=1).append(X_dev_time.drop(['Month','SMB','HML','RMW','CMA',\"Mkt-RF\",'RF'],axis=1))\n",
    "ks = np.arange(2,100)\n",
    "spectral_results = np.zeros((len(ks),6))\n",
    "k_comp = 13\n",
    "affinity = 'nearest_neighbors'\n",
    "for k in ks:\n",
    "    spectralZ = pd.DataFrame(spectral(X_train, n_components=k_comp, n_neighbors=k, affinity=affinity))\n",
    "    for i,s in enumerate(y_train_time.columns):\n",
    "        y = y_train_time[[s]].append(y_dev_time[[s]])\n",
    "        spectral_results[k-2,i] = LinRegression(spectralZ, y)\n",
    "spectraldf = pd.DataFrame(spectral_results, index = ks, columns = y_train_time.columns.values).rename_axis('K')\n",
    "print(spectraldf)"
   ]
  },
  {
   "cell_type": "code",
   "execution_count": 47,
   "metadata": {},
   "outputs": [
    {
     "data": {
      "image/png": "[encoded data removed]",
      "text/plain": [
       "<matplotlib.figure.Figure at 0x10c77bef0>"
      ]
     },
     "metadata": {},
     "output_type": "display_data"
    }
   ],
   "source": [
    "plotspectral=spectraldf.reset_index()\n",
    "plotspectral = pd.melt(plotspectral, id_vars=['K'], value_vars=['IBM', 'MMM','PG','UTX','XOM','SPX'],\n",
    "                      var_name='Ticker',value_name = 'R^2')\n",
    "ax=sns.lineplot(x='K',y='R^2',hue = 'Ticker',data=plotspectral);\n",
    "plt.xlabel('K (# neighbors)');\n",
    "plt.axvline(x=70, color = 'r', linestyle = '--');\n",
    "plt.savefig('spectral_knn_tune.png')"
   ]
  },
  {
   "cell_type": "markdown",
   "metadata": {},
   "source": [
    "FF Factor Models"
   ]
  },
  {
   "cell_type": "code",
   "execution_count": 51,
   "metadata": {
    "scrolled": false
   },
   "outputs": [
    {
     "name": "stdout",
     "output_type": "stream",
     "text": [
      "          IBM       MMM        PG       UTX       XOM       SPX\n",
      "FF5  0.350321  0.409447  0.106694  0.494025  0.207206  0.986028\n"
     ]
    }
   ],
   "source": [
    "#Split in time - FF5\n",
    "X_train = X_train_time[['SMB','HML','RMW','CMA',\"Mkt-RF\"]].append(X_dev_time[['SMB','HML','RMW','CMA',\"Mkt-RF\"]])\n",
    "X_dev = X_test_time[['SMB','HML','RMW','CMA',\"Mkt-RF\"]]\n",
    "ff5 = np.zeros((1,6))\n",
    "for i,s in enumerate(y_train_time.columns):\n",
    "    y_train = y_train_time[[s]].append(y_dev_time[[s]])\n",
    "    y = y_test_time[[s]]\n",
    "    ff5[0,i] = LinRegression(X_train, y_train,dev = True, X_test = X_dev, y_test = y)\n",
    "ff5_df = pd.DataFrame(ff5, index = ['FF5'],columns = y_train_time.columns.values)\n",
    "print(ff5_df)"
   ]
  },
  {
   "cell_type": "code",
   "execution_count": 52,
   "metadata": {},
   "outputs": [
    {
     "name": "stdout",
     "output_type": "stream",
     "text": [
      "          IBM       MMM        PG       UTX       XOM       SPX\n",
      "FF3  0.426857  0.373947  0.049076  0.504265  0.202096  0.988266\n"
     ]
    }
   ],
   "source": [
    "#Split in time - FF3\n",
    "X_train = X_train_time[['SMB','HML','Mkt-RF']].append(X_dev_time[['SMB','HML','Mkt-RF']])\n",
    "X_dev = X_test_time[['SMB','HML','Mkt-RF']]\n",
    "ff3 = np.zeros((1,6))\n",
    "for i,s in enumerate(y_train_time.columns):\n",
    "    y_train = y_train_time[[s]].append(y_dev_time[[s]])\n",
    "    y = y_test_time[[s]]\n",
    "    ff3[0,i] = LinRegression(X_train, y_train,dev = True, X_test = X_dev, y_test = y)\n",
    "ff3_df = pd.DataFrame(ff3, index = ['FF3'],columns = y_train_time.columns.values)\n",
    "print(ff3_df)"
   ]
  },
  {
   "cell_type": "code",
   "execution_count": 53,
   "metadata": {},
   "outputs": [
    {
     "name": "stdout",
     "output_type": "stream",
     "text": [
      "        IBM       MMM        PG       UTX      XOM       SPX\n",
      "0  0.335889  0.402518  0.146558  0.467956  0.22437  0.986211\n"
     ]
    }
   ],
   "source": [
    "#Split in time, with train/val split randomly - FF5\n",
    "X_train = X_train_time_rand[['SMB','HML','RMW','CMA',\"Mkt-RF\"]]\n",
    "X_dev = X_test_time_rand[['SMB','HML','RMW','CMA',\"Mkt-RF\"]]\n",
    "ff5 = np.zeros((1,6))\n",
    "for i,s in enumerate(y_train_time.columns):\n",
    "    y_train = y_train_time_rand[[s]]\n",
    "    y = y_test_time_rand[[s]]\n",
    "    ff5[0,i] = LinRegression(X_train, y_train,dev = True, X_test = X_dev, y_test = y)\n",
    "print(pd.DataFrame(ff5, columns = y_train_time_rand.columns.values))"
   ]
  },
  {
   "cell_type": "code",
   "execution_count": 81,
   "metadata": {
    "collapsed": true
   },
   "outputs": [
    {
     "name": "stdout",
     "output_type": "stream",
     "text": [
      "        IBM       MMM        PG       UTX      XOM       SPX\n",
      "0  0.342301  0.380555  0.189116  0.355426  0.43029  0.993259\n"
     ]
    }
   ],
   "source": [
    "#Split in time, with train/val split randomly - FF3\n",
    "X_train = X_train_time_rand[['SMB','HML','RMW','CMA',\"Mkt-RF\"]]\n",
    "X_dev = X_dev_time_rand[['SMB','HML','RMW','CMA',\"Mkt-RF\"]]\n",
    "ff5 = np.zeros((1,6))\n",
    "for i,s in enumerate(y_train_time.columns):\n",
    "    y_train = y_train_time_rand[[s]]\n",
    "    y = y_dev_time_rand[[s]]\n",
    "    ff5[0,i] = LinRegression(X_train, y_train,dev = True, X_test = X_dev, y_test = y)\n",
    "print(pd.DataFrame(ff5, columns = y_train_time_rand.columns.values))"
   ]
  },
  {
   "cell_type": "markdown",
   "metadata": {},
   "source": [
    "### AGGREGATED RESULTS"
   ]
  },
  {
   "cell_type": "code",
   "execution_count": 54,
   "metadata": {
    "collapsed": true
   },
   "outputs": [],
   "source": [
    "## LINEAR PCA\n",
    "X_train = X_train_time.drop(['Month','SMB','HML','RMW','CMA',\"Mkt-RF\",'RF'],axis=1).append(X_dev_time.drop(['Month','SMB','HML','RMW','CMA',\"Mkt-RF\",'RF'],axis=1))\n",
    "X_dev = X_test_time.drop(['Month','SMB','HML','RMW','CMA',\"Mkt-RF\",'RF'],axis=1)\n",
    "linPCA_results = np.zeros((1,6))\n",
    "\n",
    "k=14\n",
    "\n",
    "linpcaZ = pd.DataFrame(linPCA(X_train, X_dev, n_components=k))\n",
    "for i,s in enumerate(y_train_time.columns):\n",
    "    y = y_test_time[[s]]\n",
    "    linPCA_results[0,i] = LinRegression(linpcaZ, y)\n",
    "pca = pd.DataFrame(linPCA_results,index = ['LinearPCA'], columns = y_test_time.columns.values)"
   ]
  },
  {
   "cell_type": "code",
   "execution_count": 66,
   "metadata": {
    "collapsed": true
   },
   "outputs": [],
   "source": [
    "## RBF KERNEL PCA\n",
    "X_train = X_train_time.drop(['Month','SMB','HML','RMW','CMA',\"Mkt-RF\",'RF'],axis=1).append(X_dev_time.drop(['Month','SMB','HML','RMW','CMA',\"Mkt-RF\",'RF'],axis=1))\n",
    "X_test = X_test_time.drop(['Month','SMB','HML','RMW','CMA',\"Mkt-RF\",'RF'],axis=1)\n",
    "kernelPCA_results = np.zeros((1,6))\n",
    "k=17\n",
    "gamma = .0000001\n",
    "rbf_kpcaZ = pd.DataFrame(KPCA(X_train, X_test, n_components=k, kernel='rbf', gamma = gamma))\n",
    "for i,s in enumerate(y_train_time.columns):\n",
    "    y = y_test_time[[s]]\n",
    "    kernelPCA_results[0,i] = LinRegression(rbf_kpcaZ, y)\n",
    "kpca_rbf=pd.DataFrame(kernelPCA_results, index = ['RBF_KPCA'],columns = y_train_time.columns.values)"
   ]
  },
  {
   "cell_type": "code",
   "execution_count": 67,
   "metadata": {
    "collapsed": true
   },
   "outputs": [],
   "source": [
    "## POLY KERNEL PCA\n",
    "X_train = X_train_time.drop(['Month','SMB','HML','RMW','CMA',\"Mkt-RF\",'RF'],axis=1).append(X_dev_time.drop(['Month','SMB','HML','RMW','CMA',\"Mkt-RF\",'RF'],axis=1))\n",
    "X_test = X_test_time.drop(['Month','SMB','HML','RMW','CMA',\"Mkt-RF\",'RF'],axis=1)\n",
    "kernelPCA_results = np.zeros((1,6))\n",
    "k=17\n",
    "gamma = .0000001\n",
    "degree = 3\n",
    "poly_kpcaZ = pd.DataFrame(KPCA(X_train, X_test, n_components=k, kernel='poly', gamma = gamma, degree=degree))\n",
    "for i,s in enumerate(y_train_time.columns):\n",
    "    y = y_test_time[[s]]\n",
    "    kernelPCA_results[0,i] = LinRegression(poly_kpcaZ, y)\n",
    "kpca_poly=pd.DataFrame(kernelPCA_results, index = ['Poly_KPCA'],columns = y_train_time.columns.values)"
   ]
  },
  {
   "cell_type": "code",
   "execution_count": 61,
   "metadata": {
    "collapsed": true
   },
   "outputs": [],
   "source": [
    "# ISOMAP\n",
    "X_train = X_train_time.drop(['Month','SMB','HML','RMW','CMA',\"Mkt-RF\",'RF'],axis=1).append(X_dev_time.drop(['Month','SMB','HML','RMW','CMA',\"Mkt-RF\",'RF'],axis=1))\n",
    "X_dev = X_test_time.drop(['Month','SMB','HML','RMW','CMA',\"Mkt-RF\",'RF'],axis=1)\n",
    "isomap_results = np.zeros((1,6))\n",
    "k_comp = 12\n",
    "k_nn = 24\n",
    "isomapZ = pd.DataFrame(isomap(X_train, X_dev, n_components=k_comp, n_neighbors=k_nn))\n",
    "for i,s in enumerate(y_train_time.columns):\n",
    "    y = y_test_time[[s]]\n",
    "    isomap_results[0,i] = LinRegression(isomapZ, y)\n",
    "isomapdf = pd.DataFrame(isomap_results, index = ['Isomap'], columns = y_train_time.columns.values)"
   ]
  },
  {
   "cell_type": "code",
   "execution_count": 62,
   "metadata": {},
   "outputs": [],
   "source": [
    "# SPECTRAL EMBEDDING\n",
    "X_train = X_train_time.drop(['Month','SMB','HML','RMW','CMA',\"Mkt-RF\",'RF'],axis=1).append(X_dev_time.drop(['Month','SMB','HML','RMW','CMA',\"Mkt-RF\",'RF'],axis=1)).append(X_test_time.drop(['Month','SMB','HML','RMW','CMA',\"Mkt-RF\",'RF'],axis=1))\n",
    "spectral_results = np.zeros((1,6))\n",
    "k_comp = 12\n",
    "k_nn = 70\n",
    "affinity = 'nearest_neighbors'\n",
    "spectralZ = pd.DataFrame(spectral(X_train, n_components=k_comp, n_neighbors=k_nn, affinity=affinity))\n",
    "for i,s in enumerate(y_train_time.columns):\n",
    "    y = y_train_time[[s]].append(y_dev_time[[s]]).append(y_test_time[[s]])\n",
    "    spectral_results[0,i] = LinRegression(spectralZ, y)\n",
    "spectraldf = pd.DataFrame(spectral_results, index = ['SpectralEmbedding'], columns = y_train_time.columns.values)"
   ]
  },
  {
   "cell_type": "code",
   "execution_count": 64,
   "metadata": {
    "collapsed": true
   },
   "outputs": [],
   "source": [
    "#FAMA FRENCH 3 FACTORS\n",
    "X_train = X_train_time[['SMB','HML','Mkt-RF']].append(X_dev_time[['SMB','HML','Mkt-RF']])\n",
    "X_dev = X_test_time[['SMB','HML','Mkt-RF']]\n",
    "ff3 = np.zeros((1,6))\n",
    "for i,s in enumerate(y_train_time.columns):\n",
    "    y_train = y_train_time[[s]].append(y_dev_time[[s]])\n",
    "    y = y_test_time[[s]]\n",
    "    ff3[0,i] = LinRegression(X_train, y_train,dev = True, X_test = X_dev, y_test = y)\n",
    "ff3_df = pd.DataFrame(ff3, index = ['FF3'],columns = y_train_time.columns.values)"
   ]
  },
  {
   "cell_type": "code",
   "execution_count": 65,
   "metadata": {
    "collapsed": true
   },
   "outputs": [],
   "source": [
    "#FAMA FRENCH 5 FACTORS\n",
    "X_train = X_train_time[['SMB','HML','RMW','CMA',\"Mkt-RF\"]].append(X_dev_time[['SMB','HML','RMW','CMA',\"Mkt-RF\"]])\n",
    "X_dev = X_test_time[['SMB','HML','RMW','CMA',\"Mkt-RF\"]]\n",
    "ff5 = np.zeros((1,6))\n",
    "for i,s in enumerate(y_train_time.columns):\n",
    "    y_train = y_train_time[[s]].append(y_dev_time[[s]])\n",
    "    y = y_test_time[[s]]\n",
    "    ff5[0,i] = LinRegression(X_train, y_train,dev = True, X_test = X_dev, y_test = y)\n",
    "ff5_df = pd.DataFrame(ff5, index = ['FF5'],columns = y_train_time.columns.values)"
   ]
  },
  {
   "cell_type": "code",
   "execution_count": 69,
   "metadata": {},
   "outputs": [
    {
     "data": {
      "text/html": [
       "<div>\n",
       "<style scoped>\n",
       "    .dataframe tbody tr th:only-of-type {\n",
       "        vertical-align: middle;\n",
       "    }\n",
       "\n",
       "    .dataframe tbody tr th {\n",
       "        vertical-align: top;\n",
       "    }\n",
       "\n",
       "    .dataframe thead th {\n",
       "        text-align: right;\n",
       "    }\n",
       "</style>\n",
       "<table border=\"1\" class=\"dataframe\">\n",
       "  <thead>\n",
       "    <tr style=\"text-align: right;\">\n",
       "      <th></th>\n",
       "      <th>method</th>\n",
       "      <th>IBM</th>\n",
       "      <th>MMM</th>\n",
       "      <th>PG</th>\n",
       "      <th>UTX</th>\n",
       "      <th>XOM</th>\n",
       "      <th>SPX</th>\n",
       "    </tr>\n",
       "  </thead>\n",
       "  <tbody>\n",
       "    <tr>\n",
       "      <th>0</th>\n",
       "      <td>FF5</td>\n",
       "      <td>0.350321</td>\n",
       "      <td>0.409447</td>\n",
       "      <td>0.106694</td>\n",
       "      <td>0.494025</td>\n",
       "      <td>0.207206</td>\n",
       "      <td>0.986028</td>\n",
       "    </tr>\n",
       "    <tr>\n",
       "      <th>1</th>\n",
       "      <td>LinearPCA</td>\n",
       "      <td>0.450764</td>\n",
       "      <td>0.182046</td>\n",
       "      <td>0.233613</td>\n",
       "      <td>0.382891</td>\n",
       "      <td>0.209839</td>\n",
       "      <td>0.570158</td>\n",
       "    </tr>\n",
       "    <tr>\n",
       "      <th>2</th>\n",
       "      <td>RBF_KPCA</td>\n",
       "      <td>0.477631</td>\n",
       "      <td>0.186110</td>\n",
       "      <td>0.234137</td>\n",
       "      <td>0.391139</td>\n",
       "      <td>0.235663</td>\n",
       "      <td>0.577220</td>\n",
       "    </tr>\n",
       "    <tr>\n",
       "      <th>3</th>\n",
       "      <td>Poly_KPCA</td>\n",
       "      <td>0.477640</td>\n",
       "      <td>0.186115</td>\n",
       "      <td>0.234138</td>\n",
       "      <td>0.391150</td>\n",
       "      <td>0.235666</td>\n",
       "      <td>0.577224</td>\n",
       "    </tr>\n",
       "    <tr>\n",
       "      <th>4</th>\n",
       "      <td>Isomap</td>\n",
       "      <td>0.406218</td>\n",
       "      <td>0.208697</td>\n",
       "      <td>0.160205</td>\n",
       "      <td>0.371214</td>\n",
       "      <td>0.217296</td>\n",
       "      <td>0.513910</td>\n",
       "    </tr>\n",
       "    <tr>\n",
       "      <th>5</th>\n",
       "      <td>SpectralEmbedding</td>\n",
       "      <td>0.081170</td>\n",
       "      <td>0.081905</td>\n",
       "      <td>0.116201</td>\n",
       "      <td>0.080766</td>\n",
       "      <td>0.085481</td>\n",
       "      <td>0.142364</td>\n",
       "    </tr>\n",
       "  </tbody>\n",
       "</table>\n",
       "</div>"
      ],
      "text/plain": [
       "              method       IBM       MMM        PG       UTX       XOM  \\\n",
       "0                FF5  0.350321  0.409447  0.106694  0.494025  0.207206   \n",
       "1          LinearPCA  0.450764  0.182046  0.233613  0.382891  0.209839   \n",
       "2           RBF_KPCA  0.477631  0.186110  0.234137  0.391139  0.235663   \n",
       "3          Poly_KPCA  0.477640  0.186115  0.234138  0.391150  0.235666   \n",
       "4             Isomap  0.406218  0.208697  0.160205  0.371214  0.217296   \n",
       "5  SpectralEmbedding  0.081170  0.081905  0.116201  0.080766  0.085481   \n",
       "\n",
       "        SPX  \n",
       "0  0.986028  \n",
       "1  0.570158  \n",
       "2  0.577220  \n",
       "3  0.577224  \n",
       "4  0.513910  \n",
       "5  0.142364  "
      ]
     },
     "execution_count": 69,
     "metadata": {},
     "output_type": "execute_result"
    }
   ],
   "source": [
    "total_df = ff5_df.append(pca.append(kpca_rbf.append(kpca_poly.append(isomapdf.append(spectraldf)))))\n",
    "total_df.reset_index(inplace=True)\n",
    "total_df.rename(columns={\"index\":\"method\"}, inplace=True)\n",
    "total_df"
   ]
  },
  {
   "cell_type": "code",
   "execution_count": 91,
   "metadata": {},
   "outputs": [
    {
     "data": {
      "text/plain": [
       "'\\\\begin{tabular}{lrrrrrr}\\n\\\\toprule\\n            method &       IBM &       MMM &        PG &       UTX &       XOM &       SPX \\\\\\\\\\n\\\\midrule\\n               FF5 &  0.350321 &  0.409447 &  0.106694 &  0.494025 &  0.207206 &  0.986028 \\\\\\\\\\n         LinearPCA &  0.450764 &  0.182046 &  0.233613 &  0.382891 &  0.209839 &  0.570158 \\\\\\\\\\n          RBF\\\\_KPCA &  0.477631 &  0.186110 &  0.234137 &  0.391139 &  0.235663 &  0.577220 \\\\\\\\\\n         Poly\\\\_KPCA &  0.477640 &  0.186115 &  0.234138 &  0.391150 &  0.235666 &  0.577224 \\\\\\\\\\n            Isomap &  0.406218 &  0.208697 &  0.160205 &  0.371214 &  0.217296 &  0.513910 \\\\\\\\\\n SpectralEmbedding &  0.081170 &  0.081905 &  0.116201 &  0.080766 &  0.085481 &  0.142364 \\\\\\\\\\n\\\\bottomrule\\n\\\\end{tabular}\\n'"
      ]
     },
     "execution_count": 91,
     "metadata": {},
     "output_type": "execute_result"
    }
   ],
   "source": [
    "total_df.to_latex(index=False)"
   ]
  },
  {
   "cell_type": "code",
   "execution_count": 78,
   "metadata": {},
   "outputs": [],
   "source": [
    "plottotal = pd.melt(total_df, id_vars=['method'], value_vars=['IBM', 'MMM','PG','UTX','XOM'],\n",
    "                      var_name='Ticker',value_name = 'R^2')"
   ]
  },
  {
   "cell_type": "code",
   "execution_count": 79,
   "metadata": {},
   "outputs": [
    {
     "data": {
      "text/html": [
       "<div>\n",
       "<style scoped>\n",
       "    .dataframe tbody tr th:only-of-type {\n",
       "        vertical-align: middle;\n",
       "    }\n",
       "\n",
       "    .dataframe tbody tr th {\n",
       "        vertical-align: top;\n",
       "    }\n",
       "\n",
       "    .dataframe thead th {\n",
       "        text-align: right;\n",
       "    }\n",
       "</style>\n",
       "<table border=\"1\" class=\"dataframe\">\n",
       "  <thead>\n",
       "    <tr style=\"text-align: right;\">\n",
       "      <th></th>\n",
       "      <th>method</th>\n",
       "      <th>Ticker</th>\n",
       "      <th>R^2</th>\n",
       "    </tr>\n",
       "  </thead>\n",
       "  <tbody>\n",
       "    <tr>\n",
       "      <th>0</th>\n",
       "      <td>FF5</td>\n",
       "      <td>IBM</td>\n",
       "      <td>0.350321</td>\n",
       "    </tr>\n",
       "    <tr>\n",
       "      <th>1</th>\n",
       "      <td>LinearPCA</td>\n",
       "      <td>IBM</td>\n",
       "      <td>0.450764</td>\n",
       "    </tr>\n",
       "    <tr>\n",
       "      <th>2</th>\n",
       "      <td>RBF_KPCA</td>\n",
       "      <td>IBM</td>\n",
       "      <td>0.477631</td>\n",
       "    </tr>\n",
       "    <tr>\n",
       "      <th>3</th>\n",
       "      <td>Poly_KPCA</td>\n",
       "      <td>IBM</td>\n",
       "      <td>0.477640</td>\n",
       "    </tr>\n",
       "    <tr>\n",
       "      <th>4</th>\n",
       "      <td>Isomap</td>\n",
       "      <td>IBM</td>\n",
       "      <td>0.406218</td>\n",
       "    </tr>\n",
       "  </tbody>\n",
       "</table>\n",
       "</div>"
      ],
      "text/plain": [
       "      method Ticker       R^2\n",
       "0        FF5    IBM  0.350321\n",
       "1  LinearPCA    IBM  0.450764\n",
       "2   RBF_KPCA    IBM  0.477631\n",
       "3  Poly_KPCA    IBM  0.477640\n",
       "4     Isomap    IBM  0.406218"
      ]
     },
     "execution_count": 79,
     "metadata": {},
     "output_type": "execute_result"
    }
   ],
   "source": [
    "plottotal.head()"
   ]
  },
  {
   "cell_type": "code",
   "execution_count": 88,
   "metadata": {},
   "outputs": [
    {
     "data": {
      "image/png": "[encoded data removed]",
      "text/plain": [
       "<matplotlib.figure.Figure at 0x10de62d30>"
      ]
     },
     "metadata": {},
     "output_type": "display_data"
    }
   ],
   "source": [
    "g = sns.catplot(x=\"Ticker\", y=\"R^2\", hue=\"method\", data=plottotal,\n",
    "                kind=\"bar\", palette=\"muted\")\n",
    "# g.set_ylabels(\"survival probability\")\n",
    "plt.savefig('test_results.png')"
   ]
  },
  {
   "cell_type": "code",
   "execution_count": 226,
   "metadata": {
    "collapsed": true
   },
   "outputs": [],
   "source": [
    "total_df.to_excel('results.xlsx')"
   ]
  },
  {
   "cell_type": "code",
   "execution_count": 88,
   "metadata": {
    "collapsed": true
   },
   "outputs": [],
   "source": [
    "ibm_results = total_df[['method','IBM']]\n",
    "mmm_results = total_df[['method','MMM']]\n",
    "pg_results = total_df[['method','PG']]\n",
    "utx_results = total_df[['method','UTX']]\n",
    "xom_results = total_df[['method','XOM']]\n",
    "spx_results = total_df[['method','SPX']]"
   ]
  },
  {
   "cell_type": "code",
   "execution_count": null,
   "metadata": {
    "collapsed": true
   },
   "outputs": [],
   "source": []
  }
 ],
 "metadata": {
  "kernelspec": {
   "display_name": "Python 3",
   "language": "python",
   "name": "python3"
  },
  "language_info": {
   "codemirror_mode": {
    "name": "ipython",
    "version": 3
   },
   "file_extension": ".py",
   "mimetype": "text/x-python",
   "name": "python",
   "nbconvert_exporter": "python",
   "pygments_lexer": "ipython3",
   "version": "3.6.1"
  }
 },
 "nbformat": 4,
 "nbformat_minor": 2
}
