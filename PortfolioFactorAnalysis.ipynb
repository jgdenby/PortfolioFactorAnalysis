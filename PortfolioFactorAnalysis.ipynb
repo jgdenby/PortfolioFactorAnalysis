{
 "cells": [
  {
   "cell_type": "markdown",
   "metadata": {},
   "source": [
    "## Portfolio Factor Analysis"
   ]
  },
  {
   "cell_type": "code",
   "execution_count": 1,
   "metadata": {
    "collapsed": true
   },
   "outputs": [],
   "source": [
    "import numpy as np\n",
    "import pandas as pd\n",
    "from sklearn.decomposition import PCA, KernelPCA\n",
    "from sklearn.manifold import Isomap\n",
    "from sklearn.linear_model import LinearRegression"
   ]
  },
  {
   "cell_type": "code",
   "execution_count": 32,
   "metadata": {
    "collapsed": true
   },
   "outputs": [],
   "source": [
    "# Function block\n",
    "\n",
    "### REPRESENTATION LEARNING METHODS\n",
    "def linPCA(train_data, tune_data, n_components):\n",
    "    \"\"\"\n",
    "    Function to apply linear PCA with specified number of components. \n",
    "    Input:\n",
    "        train_data (ndarray): dataset used to fit linear PCA model\n",
    "        tune_data (ndarray): dataset transformed by linear PCA model\n",
    "        n_components (int): hyperparameter specifying number of components\n",
    "    Output:\n",
    "        Z (ndarray): tune_data transformed to PCA subspace\n",
    "    \"\"\"\n",
    "    pca = PCA(n_components=n_components)\n",
    "    pca.fit(train_data)\n",
    "    Z = pca.transform(tune_data)\n",
    "    \n",
    "    return Z\n",
    "\n",
    "def KPCA(train_data, tune_data, n_components, kernel='poly'):\n",
    "    \"\"\"\n",
    "    Function to apply linear PCA with specified number of components. \n",
    "    Input:\n",
    "        train_data (ndarray): dataset used to fit kernel PCA model\n",
    "        tune_data (ndarray): dataset transformed by kernel PCA model\n",
    "        n_components (int): hyperparameter specifying number of components\n",
    "        kernel (str): kernel method; choose from {\"poly\" | \"rbf\" | \"sigmoid\" | \"cosine\"}\n",
    "    Output:\n",
    "        Z (ndarray): tune_data transformed to PCA subspace\n",
    "    \"\"\"\n",
    "    kpca = KernelPCA(n_components=n_components, kernel=kernel)\n",
    "    kpca.fit(train_data)\n",
    "    Z = kpca.transform(tune_data)\n",
    "    \n",
    "    return Z\n",
    "\n",
    "def isomap(train_data, tune_data, n_components, n_neighbors):\n",
    "    \"\"\"\n",
    "    Function to apply linear PCA with specified number of components. \n",
    "    Input:\n",
    "        train_data (ndarray): dataset used to fit Isomap model\n",
    "        tune_data (ndarray): dataset transformed by Isomap model\n",
    "        n_components (int): hyperparameter specifying number of components\n",
    "        n_neighbors (int): hyperparameter specifying number of neighbors to construct initial mapping\n",
    "    Output:\n",
    "        Z (ndarray): tune_data transformed to subspace\n",
    "    \"\"\"\n",
    "    embedding = Isomap(n_components=n_components, n_neighbors=n_neighbors)\n",
    "    embedding.fit(train_data)\n",
    "    Z = embedding.transform(tune_data)\n",
    "    \n",
    "    return Z\n",
    "    \n",
    "    \n",
    "### REGRESSION TEST\n",
    "def LinRegression(X,y):\n",
    "    \"\"\"\n",
    "    Runs simple linear regression on the dataset provided and returns the model's R^2 value.\n",
    "    Input:\n",
    "        X (ndarray): predictor data\n",
    "        y (ndarray): outcome data\n",
    "    Output:\n",
    "        R^2 value for model (real)\n",
    "    \n",
    "    \"\"\"\n",
    "    reg = LinearRegression().fit(X,y)\n",
    "    return reg.score(X,y)"
   ]
  },
  {
   "cell_type": "markdown",
   "metadata": {},
   "source": [
    "### Import Data"
   ]
  },
  {
   "cell_type": "markdown",
   "metadata": {},
   "source": [
    "Read in Excel file and specifically import net returns data"
   ]
  },
  {
   "cell_type": "code",
   "execution_count": 33,
   "metadata": {
    "collapsed": true
   },
   "outputs": [],
   "source": [
    "xls=pd.ExcelFile('Simple_Strategies_Returns.xlsx')\n",
    "netreturns = pd.read_excel(xls, 1)"
   ]
  },
  {
   "cell_type": "code",
   "execution_count": 34,
   "metadata": {
    "collapsed": true
   },
   "outputs": [],
   "source": [
    "#Keep all data, but get rid of factors with missing data\n",
    "netreturns = netreturns.dropna(axis=1).copy()\n",
    "netreturns['Month'] = pd.to_datetime(netreturns['Month'], format = '%Y%m')\n",
    "netreturns['Month'] = netreturns['Month'].dt.to_period('M')\n",
    "netreturns['Month'] = netreturns['Month'].astype('str')"
   ]
  },
  {
   "cell_type": "code",
   "execution_count": 35,
   "metadata": {},
   "outputs": [
    {
     "data": {
      "text/plain": [
       "(606, 25)"
      ]
     },
     "execution_count": 35,
     "metadata": {},
     "output_type": "execute_result"
    }
   ],
   "source": [
    "netreturns.shape"
   ]
  },
  {
   "cell_type": "markdown",
   "metadata": {},
   "source": [
    "Split data into 'new' and 'old' sections:  \n",
    "'Old' section has 120 months of 26 factors  \n",
    "'New' section has 486 months of 34 factors"
   ]
  },
  {
   "cell_type": "code",
   "execution_count": 36,
   "metadata": {
    "collapsed": true
   },
   "outputs": [],
   "source": [
    "# oldnetreturns = netreturns[netreturns.Month < 197307]\n",
    "# oldnetreturns = oldnetreturns.reset_index(drop=True)\n",
    "# oldnetreturns = oldnetreturns.dropna(axis=1)\n",
    "# oldnetreturns['Month'] = pd.to_datetime(oldnetreturns['Month'], format = '%Y%m')\n",
    "# oldnetreturns['Month'] = oldnetreturns['Month'].dt.to_period('M')\n",
    "# oldnetreturns['Month'] = oldnetreturns['Month'].astype('str')"
   ]
  },
  {
   "cell_type": "code",
   "execution_count": 37,
   "metadata": {
    "collapsed": true
   },
   "outputs": [],
   "source": [
    "# newnetreturns = netreturns[netreturns.Month >= 197307]\n",
    "# newnetreturns = newnetreturns.reset_index(drop=True)\n",
    "# newnetreturns['Month'] = pd.to_datetime(newnetreturns['Month'], format = '%Y%m')\n",
    "# newnetreturns['Month'] = newnetreturns['Month'].dt.to_period('M')\n",
    "# newnetreturns['Month'] = newnetreturns['Month'].astype('str')"
   ]
  },
  {
   "cell_type": "markdown",
   "metadata": {},
   "source": [
    "Fama-French Data"
   ]
  },
  {
   "cell_type": "code",
   "execution_count": 38,
   "metadata": {
    "collapsed": true
   },
   "outputs": [],
   "source": [
    "ff_5 = pd.read_csv('FF_5_Factors')"
   ]
  },
  {
   "cell_type": "code",
   "execution_count": 39,
   "metadata": {
    "collapsed": true
   },
   "outputs": [],
   "source": [
    "ff_5_monthly = ff_5.loc[:665,].copy()"
   ]
  },
  {
   "cell_type": "code",
   "execution_count": 40,
   "metadata": {
    "collapsed": true
   },
   "outputs": [],
   "source": [
    "# ff_5_yearly = ff_5.loc[668:,]\n",
    "# ff_5_yearly.reset_index(inplace=True, drop=True)\n",
    "# ff_5_yearly.rename(columns={\"Month\":\"Year\"}, inplace=True)"
   ]
  },
  {
   "cell_type": "code",
   "execution_count": 41,
   "metadata": {
    "collapsed": true
   },
   "outputs": [],
   "source": [
    "ff_5_monthly['Month'] = pd.to_datetime(ff_5_monthly['Month'], format = '%Y%m')\n",
    "ff_5_monthly['Month'] = ff_5_monthly['Month'].dt.to_period('M')\n",
    "ff_5_monthly['Month'] = ff_5_monthly['Month'].astype('str')"
   ]
  },
  {
   "cell_type": "markdown",
   "metadata": {},
   "source": [
    "TODO:  \n",
    "- Import S&P 500 returns [__DONE__]  \n",
    "- Import Fama-French data [__DONE__]\n",
    "- Build dimensionality reduction pipeline (to try different methods) [__DONE__]\n",
    "- Build supervised learning pipeline [__DONE__]\n",
    "- Train/dev/test split\n",
    "- Proper timeseries regression"
   ]
  },
  {
   "cell_type": "code",
   "execution_count": 42,
   "metadata": {
    "collapsed": true
   },
   "outputs": [],
   "source": [
    "spx = pd.read_csv('CRSP SPX Index File.csv')\n",
    "spx['caldt'] = pd.to_datetime(spx['caldt'], format = '%Y%m%d')\n",
    "spx['caldt'] = spx.caldt.dt.to_period('M')\n",
    "spx['caldt'] = spx['caldt'].astype('str')\n",
    "spx = spx[(spx['caldt'] <= '2013-12')]"
   ]
  },
  {
   "cell_type": "code",
   "execution_count": 43,
   "metadata": {
    "collapsed": true
   },
   "outputs": [],
   "source": [
    "spx_tr = spx.iloc[:,0:2] #SPX Total Return\n",
    "spx_pr = spx.iloc[:,[0,2]] #SPX Price Return\n",
    "spx_tr.reset_index(inplace = True, drop = True) \n",
    "spx_pr.reset_index(inplace = True, drop = True)"
   ]
  },
  {
   "cell_type": "code",
   "execution_count": 71,
   "metadata": {},
   "outputs": [],
   "source": [
    "# collects net return data, FF 5 factors, and S&P returns in one dataframe\n",
    "together_df = netreturns.merge(spx, left_on='Month',right_on='caldt').merge(ff_5_monthly, left_on='Month',right_on='Month')"
   ]
  },
  {
   "cell_type": "markdown",
   "metadata": {},
   "source": [
    "### Rep. Learning and Evaluation"
   ]
  },
  {
   "cell_type": "code",
   "execution_count": 82,
   "metadata": {},
   "outputs": [],
   "source": [
    "# Net returns dataset\n",
    "X_train = netreturns.drop(\"Month\", axis=1)\n",
    "\n",
    "# Fama-French 3 and 5 factor dataset\n",
    "X_ff5 = together_df[['SMB','HML','RMW','CMA',\"Mkt-RF\"]]\n",
    "X_ff3 = together_df[['SMB','HML','Mkt-RF']]\n",
    "\n",
    "# S&P 500 Returns\n",
    "y = together_df[['Value Weighted Return (ex dividends)']]"
   ]
  },
  {
   "cell_type": "markdown",
   "metadata": {},
   "source": [
    "Fama-French 3 Factors"
   ]
  },
  {
   "cell_type": "code",
   "execution_count": 83,
   "metadata": {},
   "outputs": [
    {
     "data": {
      "text/plain": [
       "0.9904807362190499"
      ]
     },
     "execution_count": 83,
     "metadata": {},
     "output_type": "execute_result"
    }
   ],
   "source": [
    "LinRegression(X_ff3, y)"
   ]
  },
  {
   "cell_type": "markdown",
   "metadata": {},
   "source": [
    "Fama-French 5 Factors"
   ]
  },
  {
   "cell_type": "code",
   "execution_count": 84,
   "metadata": {},
   "outputs": [
    {
     "data": {
      "text/plain": [
       "0.9912334497797756"
      ]
     },
     "execution_count": 84,
     "metadata": {},
     "output_type": "execute_result"
    }
   ],
   "source": [
    "LinRegression(X_ff5, y)"
   ]
  },
  {
   "cell_type": "markdown",
   "metadata": {},
   "source": [
    "Linear PCA"
   ]
  },
  {
   "cell_type": "code",
   "execution_count": 89,
   "metadata": {},
   "outputs": [
    {
     "data": {
      "text/plain": [
       "0.4205120182932881"
      ]
     },
     "execution_count": 89,
     "metadata": {},
     "output_type": "execute_result"
    }
   ],
   "source": [
    "k = 5\n",
    "linpcaZ = linPCA(X_train, X_train, n_components=k)\n",
    "LinRegression(linpcaZ, y)"
   ]
  },
  {
   "cell_type": "markdown",
   "metadata": {},
   "source": [
    "Kernel PCA"
   ]
  },
  {
   "cell_type": "code",
   "execution_count": 60,
   "metadata": {},
   "outputs": [
    {
     "data": {
      "text/plain": [
       "0.054728376862785866"
      ]
     },
     "execution_count": 60,
     "metadata": {},
     "output_type": "execute_result"
    }
   ],
   "source": [
    "# Polynomial kernel\n",
    "k = 5\n",
    "poly_kpcaZ = KPCA(X_train, X_train, n_components=k, kernel='poly')\n",
    "LinRegression(poly_kpcaZ, y)"
   ]
  },
  {
   "cell_type": "code",
   "execution_count": 61,
   "metadata": {},
   "outputs": [
    {
     "data": {
      "text/plain": [
       "0.0034608272157408138"
      ]
     },
     "execution_count": 61,
     "metadata": {},
     "output_type": "execute_result"
    }
   ],
   "source": [
    "# RBF Kernel\n",
    "k = 5\n",
    "rbf_kpcaZ = KPCA(X_train, X_train, n_components=k, kernel='rbf')\n",
    "LinRegression(rbf_kpcaZ, y)"
   ]
  },
  {
   "cell_type": "markdown",
   "metadata": {},
   "source": [
    "Isomap"
   ]
  },
  {
   "cell_type": "code",
   "execution_count": 70,
   "metadata": {},
   "outputs": [
    {
     "data": {
      "text/plain": [
       "0.21745146537819238"
      ]
     },
     "execution_count": 70,
     "metadata": {},
     "output_type": "execute_result"
    }
   ],
   "source": [
    "k_comp = 5\n",
    "k_nn = 9\n",
    "isomapZ = isomap(X_train, X_train, n_components=k_comp, n_neighbors=k_nn)\n",
    "LinRegression(isomapZ, y)"
   ]
  }
 ],
 "metadata": {
  "kernelspec": {
   "display_name": "Python 3",
   "language": "python",
   "name": "python3"
  },
  "language_info": {
   "codemirror_mode": {
    "name": "ipython",
    "version": 3
   },
   "file_extension": ".py",
   "mimetype": "text/x-python",
   "name": "python",
   "nbconvert_exporter": "python",
   "pygments_lexer": "ipython3",
   "version": "3.6.1"
  }
 },
 "nbformat": 4,
 "nbformat_minor": 2
}
